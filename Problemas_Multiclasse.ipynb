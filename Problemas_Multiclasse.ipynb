{
  "nbformat": 4,
  "nbformat_minor": 0,
  "metadata": {
    "colab": {
      "provenance": [],
      "authorship_tag": "ABX9TyO+koo6l+jrNWItuhcEIo72",
      "include_colab_link": true
    },
    "kernelspec": {
      "name": "python3",
      "display_name": "Python 3"
    },
    "language_info": {
      "name": "python"
    }
  },
  "cells": [
    {
      "cell_type": "markdown",
      "metadata": {
        "id": "view-in-github",
        "colab_type": "text"
      },
      "source": [
        "<a href=\"https://colab.research.google.com/github/devdebdeb/ML-Classificacao/blob/main/Problemas_Multiclasse.ipynb\" target=\"_parent\"><img src=\"https://colab.research.google.com/assets/colab-badge.svg\" alt=\"Open In Colab\"/></a>"
      ]
    },
    {
      "cell_type": "code",
      "source": [
        "import pandas as pd"
      ],
      "metadata": {
        "id": "O9eI8l8cio0C"
      },
      "execution_count": null,
      "outputs": []
    },
    {
      "cell_type": "code",
      "source": [
        "from sklearn.model_selection import train_test_split"
      ],
      "metadata": {
        "id": "6DNHg_U3b8Lw"
      },
      "execution_count": null,
      "outputs": []
    },
    {
      "cell_type": "markdown",
      "source": [
        "##Análise exploratória"
      ],
      "metadata": {
        "id": "lx6-Q0B8vPvY"
      }
    },
    {
      "cell_type": "markdown",
      "source": [
        "###Carregando os dados"
      ],
      "metadata": {
        "id": "kCMCzm3suBkX"
      }
    },
    {
      "cell_type": "code",
      "source": [
        "students = pd.read_csv('https://raw.githubusercontent.com/alura-cursos/classificacao_multiclasse/main/Dados/dados_estudantes.csv')"
      ],
      "metadata": {
        "id": "fzgeHc5ItXHh"
      },
      "execution_count": null,
      "outputs": []
    },
    {
      "cell_type": "code",
      "source": [
        "students.head()"
      ],
      "metadata": {
        "colab": {
          "base_uri": "https://localhost:8080/",
          "height": 308
        },
        "id": "N-VQqtjettF-",
        "outputId": "50736aec-1ef3-4396-9ca6-6de397d1b2bd"
      },
      "execution_count": null,
      "outputs": [
        {
          "output_type": "execute_result",
          "data": {
            "text/plain": [
              "  Estado civil Migração       Sexo  Idade na matrícula Estrangeiro  \\\n",
              "0     Solteiro      Sim  Masculino                  20         Não   \n",
              "1     Solteiro      Sim  Masculino                  19         Não   \n",
              "2     Solteiro      Sim  Masculino                  19         Não   \n",
              "3     Solteiro      Sim   Feminino                  20         Não   \n",
              "4       Casado      Não   Feminino                  45         Não   \n",
              "\n",
              "  Necessidades educacionais especiais Devedor Taxas de matrícula em dia  \\\n",
              "0                                 Não     Não                       Sim   \n",
              "1                                 Não     Não                       Não   \n",
              "2                                 Não     Não                       Não   \n",
              "3                                 Não     Não                       Sim   \n",
              "4                                 Não     Não                       Sim   \n",
              "\n",
              "  Bolsista  Taxa de desemprego  ...  disciplinas 1º semestre (aprovadas)  \\\n",
              "0      Não                10.8  ...                                    0   \n",
              "1      Não                13.9  ...                                    6   \n",
              "2      Não                10.8  ...                                    0   \n",
              "3      Não                 9.4  ...                                    6   \n",
              "4      Não                13.9  ...                                    5   \n",
              "\n",
              "   disciplinas 1º semestre (notas) disciplinas 1º semestre (sem avaliações)  \\\n",
              "0                         0.000000                                        0   \n",
              "1                        14.000000                                        0   \n",
              "2                         0.000000                                        0   \n",
              "3                        13.428571                                        0   \n",
              "4                        12.333333                                        0   \n",
              "\n",
              "  disciplinas 2º semestre (creditadas) disciplinas 2º semestre (matriculadas)  \\\n",
              "0                                    0                                      0   \n",
              "1                                    0                                      6   \n",
              "2                                    0                                      6   \n",
              "3                                    0                                      6   \n",
              "4                                    0                                      6   \n",
              "\n",
              "   disciplinas 2º semestre (avaliações)  disciplinas 2º semestre (aprovadas)  \\\n",
              "0                                     0                                    0   \n",
              "1                                     6                                    6   \n",
              "2                                     0                                    0   \n",
              "3                                    10                                    5   \n",
              "4                                     6                                    6   \n",
              "\n",
              "   disciplinas 2º semestre (notas)  disciplinas 2º semestre (sem avaliações)  \\\n",
              "0                         0.000000                                         0   \n",
              "1                        13.666667                                         0   \n",
              "2                         0.000000                                         0   \n",
              "3                        12.400000                                         0   \n",
              "4                        13.000000                                         0   \n",
              "\n",
              "       Target  \n",
              "0  Desistente  \n",
              "1    Graduado  \n",
              "2  Desistente  \n",
              "3    Graduado  \n",
              "4    Graduado  \n",
              "\n",
              "[5 rows x 28 columns]"
            ],
            "text/html": [
              "\n",
              "  <div id=\"df-9c65e122-b48a-499b-a272-1d95822b63a2\" class=\"colab-df-container\">\n",
              "    <div>\n",
              "<style scoped>\n",
              "    .dataframe tbody tr th:only-of-type {\n",
              "        vertical-align: middle;\n",
              "    }\n",
              "\n",
              "    .dataframe tbody tr th {\n",
              "        vertical-align: top;\n",
              "    }\n",
              "\n",
              "    .dataframe thead th {\n",
              "        text-align: right;\n",
              "    }\n",
              "</style>\n",
              "<table border=\"1\" class=\"dataframe\">\n",
              "  <thead>\n",
              "    <tr style=\"text-align: right;\">\n",
              "      <th></th>\n",
              "      <th>Estado civil</th>\n",
              "      <th>Migração</th>\n",
              "      <th>Sexo</th>\n",
              "      <th>Idade na matrícula</th>\n",
              "      <th>Estrangeiro</th>\n",
              "      <th>Necessidades educacionais especiais</th>\n",
              "      <th>Devedor</th>\n",
              "      <th>Taxas de matrícula em dia</th>\n",
              "      <th>Bolsista</th>\n",
              "      <th>Taxa de desemprego</th>\n",
              "      <th>...</th>\n",
              "      <th>disciplinas 1º semestre (aprovadas)</th>\n",
              "      <th>disciplinas 1º semestre (notas)</th>\n",
              "      <th>disciplinas 1º semestre (sem avaliações)</th>\n",
              "      <th>disciplinas 2º semestre (creditadas)</th>\n",
              "      <th>disciplinas 2º semestre (matriculadas)</th>\n",
              "      <th>disciplinas 2º semestre (avaliações)</th>\n",
              "      <th>disciplinas 2º semestre (aprovadas)</th>\n",
              "      <th>disciplinas 2º semestre (notas)</th>\n",
              "      <th>disciplinas 2º semestre (sem avaliações)</th>\n",
              "      <th>Target</th>\n",
              "    </tr>\n",
              "  </thead>\n",
              "  <tbody>\n",
              "    <tr>\n",
              "      <th>0</th>\n",
              "      <td>Solteiro</td>\n",
              "      <td>Sim</td>\n",
              "      <td>Masculino</td>\n",
              "      <td>20</td>\n",
              "      <td>Não</td>\n",
              "      <td>Não</td>\n",
              "      <td>Não</td>\n",
              "      <td>Sim</td>\n",
              "      <td>Não</td>\n",
              "      <td>10.8</td>\n",
              "      <td>...</td>\n",
              "      <td>0</td>\n",
              "      <td>0.000000</td>\n",
              "      <td>0</td>\n",
              "      <td>0</td>\n",
              "      <td>0</td>\n",
              "      <td>0</td>\n",
              "      <td>0</td>\n",
              "      <td>0.000000</td>\n",
              "      <td>0</td>\n",
              "      <td>Desistente</td>\n",
              "    </tr>\n",
              "    <tr>\n",
              "      <th>1</th>\n",
              "      <td>Solteiro</td>\n",
              "      <td>Sim</td>\n",
              "      <td>Masculino</td>\n",
              "      <td>19</td>\n",
              "      <td>Não</td>\n",
              "      <td>Não</td>\n",
              "      <td>Não</td>\n",
              "      <td>Não</td>\n",
              "      <td>Não</td>\n",
              "      <td>13.9</td>\n",
              "      <td>...</td>\n",
              "      <td>6</td>\n",
              "      <td>14.000000</td>\n",
              "      <td>0</td>\n",
              "      <td>0</td>\n",
              "      <td>6</td>\n",
              "      <td>6</td>\n",
              "      <td>6</td>\n",
              "      <td>13.666667</td>\n",
              "      <td>0</td>\n",
              "      <td>Graduado</td>\n",
              "    </tr>\n",
              "    <tr>\n",
              "      <th>2</th>\n",
              "      <td>Solteiro</td>\n",
              "      <td>Sim</td>\n",
              "      <td>Masculino</td>\n",
              "      <td>19</td>\n",
              "      <td>Não</td>\n",
              "      <td>Não</td>\n",
              "      <td>Não</td>\n",
              "      <td>Não</td>\n",
              "      <td>Não</td>\n",
              "      <td>10.8</td>\n",
              "      <td>...</td>\n",
              "      <td>0</td>\n",
              "      <td>0.000000</td>\n",
              "      <td>0</td>\n",
              "      <td>0</td>\n",
              "      <td>6</td>\n",
              "      <td>0</td>\n",
              "      <td>0</td>\n",
              "      <td>0.000000</td>\n",
              "      <td>0</td>\n",
              "      <td>Desistente</td>\n",
              "    </tr>\n",
              "    <tr>\n",
              "      <th>3</th>\n",
              "      <td>Solteiro</td>\n",
              "      <td>Sim</td>\n",
              "      <td>Feminino</td>\n",
              "      <td>20</td>\n",
              "      <td>Não</td>\n",
              "      <td>Não</td>\n",
              "      <td>Não</td>\n",
              "      <td>Sim</td>\n",
              "      <td>Não</td>\n",
              "      <td>9.4</td>\n",
              "      <td>...</td>\n",
              "      <td>6</td>\n",
              "      <td>13.428571</td>\n",
              "      <td>0</td>\n",
              "      <td>0</td>\n",
              "      <td>6</td>\n",
              "      <td>10</td>\n",
              "      <td>5</td>\n",
              "      <td>12.400000</td>\n",
              "      <td>0</td>\n",
              "      <td>Graduado</td>\n",
              "    </tr>\n",
              "    <tr>\n",
              "      <th>4</th>\n",
              "      <td>Casado</td>\n",
              "      <td>Não</td>\n",
              "      <td>Feminino</td>\n",
              "      <td>45</td>\n",
              "      <td>Não</td>\n",
              "      <td>Não</td>\n",
              "      <td>Não</td>\n",
              "      <td>Sim</td>\n",
              "      <td>Não</td>\n",
              "      <td>13.9</td>\n",
              "      <td>...</td>\n",
              "      <td>5</td>\n",
              "      <td>12.333333</td>\n",
              "      <td>0</td>\n",
              "      <td>0</td>\n",
              "      <td>6</td>\n",
              "      <td>6</td>\n",
              "      <td>6</td>\n",
              "      <td>13.000000</td>\n",
              "      <td>0</td>\n",
              "      <td>Graduado</td>\n",
              "    </tr>\n",
              "  </tbody>\n",
              "</table>\n",
              "<p>5 rows × 28 columns</p>\n",
              "</div>\n",
              "    <div class=\"colab-df-buttons\">\n",
              "\n",
              "  <div class=\"colab-df-container\">\n",
              "    <button class=\"colab-df-convert\" onclick=\"convertToInteractive('df-9c65e122-b48a-499b-a272-1d95822b63a2')\"\n",
              "            title=\"Convert this dataframe to an interactive table.\"\n",
              "            style=\"display:none;\">\n",
              "\n",
              "  <svg xmlns=\"http://www.w3.org/2000/svg\" height=\"24px\" viewBox=\"0 -960 960 960\">\n",
              "    <path d=\"M120-120v-720h720v720H120Zm60-500h600v-160H180v160Zm220 220h160v-160H400v160Zm0 220h160v-160H400v160ZM180-400h160v-160H180v160Zm440 0h160v-160H620v160ZM180-180h160v-160H180v160Zm440 0h160v-160H620v160Z\"/>\n",
              "  </svg>\n",
              "    </button>\n",
              "\n",
              "  <style>\n",
              "    .colab-df-container {\n",
              "      display:flex;\n",
              "      gap: 12px;\n",
              "    }\n",
              "\n",
              "    .colab-df-convert {\n",
              "      background-color: #E8F0FE;\n",
              "      border: none;\n",
              "      border-radius: 50%;\n",
              "      cursor: pointer;\n",
              "      display: none;\n",
              "      fill: #1967D2;\n",
              "      height: 32px;\n",
              "      padding: 0 0 0 0;\n",
              "      width: 32px;\n",
              "    }\n",
              "\n",
              "    .colab-df-convert:hover {\n",
              "      background-color: #E2EBFA;\n",
              "      box-shadow: 0px 1px 2px rgba(60, 64, 67, 0.3), 0px 1px 3px 1px rgba(60, 64, 67, 0.15);\n",
              "      fill: #174EA6;\n",
              "    }\n",
              "\n",
              "    .colab-df-buttons div {\n",
              "      margin-bottom: 4px;\n",
              "    }\n",
              "\n",
              "    [theme=dark] .colab-df-convert {\n",
              "      background-color: #3B4455;\n",
              "      fill: #D2E3FC;\n",
              "    }\n",
              "\n",
              "    [theme=dark] .colab-df-convert:hover {\n",
              "      background-color: #434B5C;\n",
              "      box-shadow: 0px 1px 3px 1px rgba(0, 0, 0, 0.15);\n",
              "      filter: drop-shadow(0px 1px 2px rgba(0, 0, 0, 0.3));\n",
              "      fill: #FFFFFF;\n",
              "    }\n",
              "  </style>\n",
              "\n",
              "    <script>\n",
              "      const buttonEl =\n",
              "        document.querySelector('#df-9c65e122-b48a-499b-a272-1d95822b63a2 button.colab-df-convert');\n",
              "      buttonEl.style.display =\n",
              "        google.colab.kernel.accessAllowed ? 'block' : 'none';\n",
              "\n",
              "      async function convertToInteractive(key) {\n",
              "        const element = document.querySelector('#df-9c65e122-b48a-499b-a272-1d95822b63a2');\n",
              "        const dataTable =\n",
              "          await google.colab.kernel.invokeFunction('convertToInteractive',\n",
              "                                                    [key], {});\n",
              "        if (!dataTable) return;\n",
              "\n",
              "        const docLinkHtml = 'Like what you see? Visit the ' +\n",
              "          '<a target=\"_blank\" href=https://colab.research.google.com/notebooks/data_table.ipynb>data table notebook</a>'\n",
              "          + ' to learn more about interactive tables.';\n",
              "        element.innerHTML = '';\n",
              "        dataTable['output_type'] = 'display_data';\n",
              "        await google.colab.output.renderOutput(dataTable, element);\n",
              "        const docLink = document.createElement('div');\n",
              "        docLink.innerHTML = docLinkHtml;\n",
              "        element.appendChild(docLink);\n",
              "      }\n",
              "    </script>\n",
              "  </div>\n",
              "\n",
              "\n",
              "<div id=\"df-4600caa0-83b8-488f-a04c-5477f9535e82\">\n",
              "  <button class=\"colab-df-quickchart\" onclick=\"quickchart('df-4600caa0-83b8-488f-a04c-5477f9535e82')\"\n",
              "            title=\"Suggest charts\"\n",
              "            style=\"display:none;\">\n",
              "\n",
              "<svg xmlns=\"http://www.w3.org/2000/svg\" height=\"24px\"viewBox=\"0 0 24 24\"\n",
              "     width=\"24px\">\n",
              "    <g>\n",
              "        <path d=\"M19 3H5c-1.1 0-2 .9-2 2v14c0 1.1.9 2 2 2h14c1.1 0 2-.9 2-2V5c0-1.1-.9-2-2-2zM9 17H7v-7h2v7zm4 0h-2V7h2v10zm4 0h-2v-4h2v4z\"/>\n",
              "    </g>\n",
              "</svg>\n",
              "  </button>\n",
              "\n",
              "<style>\n",
              "  .colab-df-quickchart {\n",
              "      --bg-color: #E8F0FE;\n",
              "      --fill-color: #1967D2;\n",
              "      --hover-bg-color: #E2EBFA;\n",
              "      --hover-fill-color: #174EA6;\n",
              "      --disabled-fill-color: #AAA;\n",
              "      --disabled-bg-color: #DDD;\n",
              "  }\n",
              "\n",
              "  [theme=dark] .colab-df-quickchart {\n",
              "      --bg-color: #3B4455;\n",
              "      --fill-color: #D2E3FC;\n",
              "      --hover-bg-color: #434B5C;\n",
              "      --hover-fill-color: #FFFFFF;\n",
              "      --disabled-bg-color: #3B4455;\n",
              "      --disabled-fill-color: #666;\n",
              "  }\n",
              "\n",
              "  .colab-df-quickchart {\n",
              "    background-color: var(--bg-color);\n",
              "    border: none;\n",
              "    border-radius: 50%;\n",
              "    cursor: pointer;\n",
              "    display: none;\n",
              "    fill: var(--fill-color);\n",
              "    height: 32px;\n",
              "    padding: 0;\n",
              "    width: 32px;\n",
              "  }\n",
              "\n",
              "  .colab-df-quickchart:hover {\n",
              "    background-color: var(--hover-bg-color);\n",
              "    box-shadow: 0 1px 2px rgba(60, 64, 67, 0.3), 0 1px 3px 1px rgba(60, 64, 67, 0.15);\n",
              "    fill: var(--button-hover-fill-color);\n",
              "  }\n",
              "\n",
              "  .colab-df-quickchart-complete:disabled,\n",
              "  .colab-df-quickchart-complete:disabled:hover {\n",
              "    background-color: var(--disabled-bg-color);\n",
              "    fill: var(--disabled-fill-color);\n",
              "    box-shadow: none;\n",
              "  }\n",
              "\n",
              "  .colab-df-spinner {\n",
              "    border: 2px solid var(--fill-color);\n",
              "    border-color: transparent;\n",
              "    border-bottom-color: var(--fill-color);\n",
              "    animation:\n",
              "      spin 1s steps(1) infinite;\n",
              "  }\n",
              "\n",
              "  @keyframes spin {\n",
              "    0% {\n",
              "      border-color: transparent;\n",
              "      border-bottom-color: var(--fill-color);\n",
              "      border-left-color: var(--fill-color);\n",
              "    }\n",
              "    20% {\n",
              "      border-color: transparent;\n",
              "      border-left-color: var(--fill-color);\n",
              "      border-top-color: var(--fill-color);\n",
              "    }\n",
              "    30% {\n",
              "      border-color: transparent;\n",
              "      border-left-color: var(--fill-color);\n",
              "      border-top-color: var(--fill-color);\n",
              "      border-right-color: var(--fill-color);\n",
              "    }\n",
              "    40% {\n",
              "      border-color: transparent;\n",
              "      border-right-color: var(--fill-color);\n",
              "      border-top-color: var(--fill-color);\n",
              "    }\n",
              "    60% {\n",
              "      border-color: transparent;\n",
              "      border-right-color: var(--fill-color);\n",
              "    }\n",
              "    80% {\n",
              "      border-color: transparent;\n",
              "      border-right-color: var(--fill-color);\n",
              "      border-bottom-color: var(--fill-color);\n",
              "    }\n",
              "    90% {\n",
              "      border-color: transparent;\n",
              "      border-bottom-color: var(--fill-color);\n",
              "    }\n",
              "  }\n",
              "</style>\n",
              "\n",
              "  <script>\n",
              "    async function quickchart(key) {\n",
              "      const quickchartButtonEl =\n",
              "        document.querySelector('#' + key + ' button');\n",
              "      quickchartButtonEl.disabled = true;  // To prevent multiple clicks.\n",
              "      quickchartButtonEl.classList.add('colab-df-spinner');\n",
              "      try {\n",
              "        const charts = await google.colab.kernel.invokeFunction(\n",
              "            'suggestCharts', [key], {});\n",
              "      } catch (error) {\n",
              "        console.error('Error during call to suggestCharts:', error);\n",
              "      }\n",
              "      quickchartButtonEl.classList.remove('colab-df-spinner');\n",
              "      quickchartButtonEl.classList.add('colab-df-quickchart-complete');\n",
              "    }\n",
              "    (() => {\n",
              "      let quickchartButtonEl =\n",
              "        document.querySelector('#df-4600caa0-83b8-488f-a04c-5477f9535e82 button');\n",
              "      quickchartButtonEl.style.display =\n",
              "        google.colab.kernel.accessAllowed ? 'block' : 'none';\n",
              "    })();\n",
              "  </script>\n",
              "</div>\n",
              "\n",
              "    </div>\n",
              "  </div>\n"
            ],
            "application/vnd.google.colaboratory.intrinsic+json": {
              "type": "dataframe",
              "variable_name": "students"
            }
          },
          "metadata": {},
          "execution_count": 12
        }
      ]
    },
    {
      "cell_type": "markdown",
      "source": [
        "###Entendendo os dados"
      ],
      "metadata": {
        "id": "O74NOcubuD0t"
      }
    },
    {
      "cell_type": "code",
      "source": [
        "students.info()"
      ],
      "metadata": {
        "colab": {
          "base_uri": "https://localhost:8080/"
        },
        "id": "G7793n_pt2HB",
        "outputId": "2e260413-c7b5-43e5-d00d-ec094ac0162e"
      },
      "execution_count": null,
      "outputs": [
        {
          "output_type": "stream",
          "name": "stdout",
          "text": [
            "<class 'pandas.core.frame.DataFrame'>\n",
            "RangeIndex: 4424 entries, 0 to 4423\n",
            "Data columns (total 28 columns):\n",
            " #   Column                                    Non-Null Count  Dtype  \n",
            "---  ------                                    --------------  -----  \n",
            " 0   Estado civil                              4424 non-null   object \n",
            " 1   Migração                                  4424 non-null   object \n",
            " 2   Sexo                                      4424 non-null   object \n",
            " 3   Idade na matrícula                        4424 non-null   int64  \n",
            " 4   Estrangeiro                               4424 non-null   object \n",
            " 5   Necessidades educacionais especiais       4424 non-null   object \n",
            " 6   Devedor                                   4424 non-null   object \n",
            " 7   Taxas de matrícula em dia                 4424 non-null   object \n",
            " 8   Bolsista                                  4424 non-null   object \n",
            " 9   Taxa de desemprego                        4424 non-null   float64\n",
            " 10  Taxa de inflação                          4424 non-null   float64\n",
            " 11  PIB                                       4424 non-null   float64\n",
            " 12  Curso                                     4424 non-null   object \n",
            " 13  Período                                   4424 non-null   object \n",
            " 14  Qualificação prévia                       4424 non-null   object \n",
            " 15  disciplinas 1º semestre (creditadas)      4424 non-null   int64  \n",
            " 16  disciplinas 1º semestre (matriculadas)    4424 non-null   int64  \n",
            " 17  disciplinas 1º semestre (avaliações)      4424 non-null   int64  \n",
            " 18  disciplinas 1º semestre (aprovadas)       4424 non-null   int64  \n",
            " 19  disciplinas 1º semestre (notas)           4424 non-null   float64\n",
            " 20  disciplinas 1º semestre (sem avaliações)  4424 non-null   int64  \n",
            " 21  disciplinas 2º semestre (creditadas)      4424 non-null   int64  \n",
            " 22  disciplinas 2º semestre (matriculadas)    4424 non-null   int64  \n",
            " 23  disciplinas 2º semestre (avaliações)      4424 non-null   int64  \n",
            " 24  disciplinas 2º semestre (aprovadas)       4424 non-null   int64  \n",
            " 25  disciplinas 2º semestre (notas)           4424 non-null   float64\n",
            " 26  disciplinas 2º semestre (sem avaliações)  4424 non-null   int64  \n",
            " 27  Target                                    4424 non-null   object \n",
            "dtypes: float64(5), int64(11), object(12)\n",
            "memory usage: 967.9+ KB\n"
          ]
        }
      ]
    },
    {
      "cell_type": "code",
      "source": [
        "students['Target'].unique()\n",
        "#Três valores que queremos prever"
      ],
      "metadata": {
        "colab": {
          "base_uri": "https://localhost:8080/"
        },
        "id": "-c7lqHgUt95f",
        "outputId": "9fe54048-0098-4b04-cdba-a6e690ba69e7"
      },
      "execution_count": null,
      "outputs": [
        {
          "output_type": "execute_result",
          "data": {
            "text/plain": [
              "array(['Desistente', 'Graduado', 'Matriculado'], dtype=object)"
            ]
          },
          "metadata": {},
          "execution_count": 14
        }
      ]
    },
    {
      "cell_type": "markdown",
      "source": [
        "![image.png](data:image/png;base64,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)"
      ],
      "metadata": {
        "id": "Y9IOeyHH99qY"
      }
    },
    {
      "cell_type": "markdown",
      "source": [
        "###Análise inicial dos dados"
      ],
      "metadata": {
        "id": "N9kf-YFzvFqj"
      }
    },
    {
      "cell_type": "code",
      "source": [
        "students.describe()"
      ],
      "metadata": {
        "colab": {
          "base_uri": "https://localhost:8080/"
        },
        "id": "lu5nBUPtu17J",
        "outputId": "9d2c8e71-f574-4e2f-dd8e-b60c13664023"
      },
      "execution_count": null,
      "outputs": [
        {
          "output_type": "execute_result",
          "data": {
            "text/plain": [
              "       Idade na matrícula  Taxa de desemprego  Taxa de inflação          PIB  \\\n",
              "count         4424.000000         4424.000000       4424.000000  4424.000000   \n",
              "mean            23.265145           11.566139          1.228029     0.001969   \n",
              "std              7.587816            2.663850          1.382711     2.269935   \n",
              "min             17.000000            7.600000         -0.800000    -4.060000   \n",
              "25%             19.000000            9.400000          0.300000    -1.700000   \n",
              "50%             20.000000           11.100000          1.400000     0.320000   \n",
              "75%             25.000000           13.900000          2.600000     1.790000   \n",
              "max             70.000000           16.200000          3.700000     3.510000   \n",
              "\n",
              "       disciplinas 1º semestre (creditadas)  \\\n",
              "count                           4424.000000   \n",
              "mean                               0.709991   \n",
              "std                                2.360507   \n",
              "min                                0.000000   \n",
              "25%                                0.000000   \n",
              "50%                                0.000000   \n",
              "75%                                0.000000   \n",
              "max                               20.000000   \n",
              "\n",
              "       disciplinas 1º semestre (matriculadas)  \\\n",
              "count                             4424.000000   \n",
              "mean                                 6.270570   \n",
              "std                                  2.480178   \n",
              "min                                  0.000000   \n",
              "25%                                  5.000000   \n",
              "50%                                  6.000000   \n",
              "75%                                  7.000000   \n",
              "max                                 26.000000   \n",
              "\n",
              "       disciplinas 1º semestre (avaliações)  \\\n",
              "count                           4424.000000   \n",
              "mean                               8.299051   \n",
              "std                                4.179106   \n",
              "min                                0.000000   \n",
              "25%                                6.000000   \n",
              "50%                                8.000000   \n",
              "75%                               10.000000   \n",
              "max                               45.000000   \n",
              "\n",
              "       disciplinas 1º semestre (aprovadas)  disciplinas 1º semestre (notas)  \\\n",
              "count                          4424.000000                      4424.000000   \n",
              "mean                              4.706600                        10.640822   \n",
              "std                               3.094238                         4.843663   \n",
              "min                               0.000000                         0.000000   \n",
              "25%                               3.000000                        11.000000   \n",
              "50%                               5.000000                        12.285714   \n",
              "75%                               6.000000                        13.400000   \n",
              "max                              26.000000                        18.875000   \n",
              "\n",
              "       disciplinas 1º semestre (sem avaliações)  \\\n",
              "count                               4424.000000   \n",
              "mean                                   0.137658   \n",
              "std                                    0.690880   \n",
              "min                                    0.000000   \n",
              "25%                                    0.000000   \n",
              "50%                                    0.000000   \n",
              "75%                                    0.000000   \n",
              "max                                   12.000000   \n",
              "\n",
              "       disciplinas 2º semestre (creditadas)  \\\n",
              "count                           4424.000000   \n",
              "mean                               0.541817   \n",
              "std                                1.918546   \n",
              "min                                0.000000   \n",
              "25%                                0.000000   \n",
              "50%                                0.000000   \n",
              "75%                                0.000000   \n",
              "max                               19.000000   \n",
              "\n",
              "       disciplinas 2º semestre (matriculadas)  \\\n",
              "count                             4424.000000   \n",
              "mean                                 6.232143   \n",
              "std                                  2.195951   \n",
              "min                                  0.000000   \n",
              "25%                                  5.000000   \n",
              "50%                                  6.000000   \n",
              "75%                                  7.000000   \n",
              "max                                 23.000000   \n",
              "\n",
              "       disciplinas 2º semestre (avaliações)  \\\n",
              "count                           4424.000000   \n",
              "mean                               8.063291   \n",
              "std                                3.947951   \n",
              "min                                0.000000   \n",
              "25%                                6.000000   \n",
              "50%                                8.000000   \n",
              "75%                               10.000000   \n",
              "max                               33.000000   \n",
              "\n",
              "       disciplinas 2º semestre (aprovadas)  disciplinas 2º semestre (notas)  \\\n",
              "count                          4424.000000                      4424.000000   \n",
              "mean                              4.435805                        10.230206   \n",
              "std                               3.014764                         5.210808   \n",
              "min                               0.000000                         0.000000   \n",
              "25%                               2.000000                        10.750000   \n",
              "50%                               5.000000                        12.200000   \n",
              "75%                               6.000000                        13.333333   \n",
              "max                              20.000000                        18.571429   \n",
              "\n",
              "       disciplinas 2º semestre (sem avaliações)  \n",
              "count                               4424.000000  \n",
              "mean                                   0.150316  \n",
              "std                                    0.753774  \n",
              "min                                    0.000000  \n",
              "25%                                    0.000000  \n",
              "50%                                    0.000000  \n",
              "75%                                    0.000000  \n",
              "max                                   12.000000  "
            ],
            "text/html": [
              "\n",
              "  <div id=\"df-02b5429d-d367-49bc-82ae-ebb63f915193\" class=\"colab-df-container\">\n",
              "    <div>\n",
              "<style scoped>\n",
              "    .dataframe tbody tr th:only-of-type {\n",
              "        vertical-align: middle;\n",
              "    }\n",
              "\n",
              "    .dataframe tbody tr th {\n",
              "        vertical-align: top;\n",
              "    }\n",
              "\n",
              "    .dataframe thead th {\n",
              "        text-align: right;\n",
              "    }\n",
              "</style>\n",
              "<table border=\"1\" class=\"dataframe\">\n",
              "  <thead>\n",
              "    <tr style=\"text-align: right;\">\n",
              "      <th></th>\n",
              "      <th>Idade na matrícula</th>\n",
              "      <th>Taxa de desemprego</th>\n",
              "      <th>Taxa de inflação</th>\n",
              "      <th>PIB</th>\n",
              "      <th>disciplinas 1º semestre (creditadas)</th>\n",
              "      <th>disciplinas 1º semestre (matriculadas)</th>\n",
              "      <th>disciplinas 1º semestre (avaliações)</th>\n",
              "      <th>disciplinas 1º semestre (aprovadas)</th>\n",
              "      <th>disciplinas 1º semestre (notas)</th>\n",
              "      <th>disciplinas 1º semestre (sem avaliações)</th>\n",
              "      <th>disciplinas 2º semestre (creditadas)</th>\n",
              "      <th>disciplinas 2º semestre (matriculadas)</th>\n",
              "      <th>disciplinas 2º semestre (avaliações)</th>\n",
              "      <th>disciplinas 2º semestre (aprovadas)</th>\n",
              "      <th>disciplinas 2º semestre (notas)</th>\n",
              "      <th>disciplinas 2º semestre (sem avaliações)</th>\n",
              "    </tr>\n",
              "  </thead>\n",
              "  <tbody>\n",
              "    <tr>\n",
              "      <th>count</th>\n",
              "      <td>4424.000000</td>\n",
              "      <td>4424.000000</td>\n",
              "      <td>4424.000000</td>\n",
              "      <td>4424.000000</td>\n",
              "      <td>4424.000000</td>\n",
              "      <td>4424.000000</td>\n",
              "      <td>4424.000000</td>\n",
              "      <td>4424.000000</td>\n",
              "      <td>4424.000000</td>\n",
              "      <td>4424.000000</td>\n",
              "      <td>4424.000000</td>\n",
              "      <td>4424.000000</td>\n",
              "      <td>4424.000000</td>\n",
              "      <td>4424.000000</td>\n",
              "      <td>4424.000000</td>\n",
              "      <td>4424.000000</td>\n",
              "    </tr>\n",
              "    <tr>\n",
              "      <th>mean</th>\n",
              "      <td>23.265145</td>\n",
              "      <td>11.566139</td>\n",
              "      <td>1.228029</td>\n",
              "      <td>0.001969</td>\n",
              "      <td>0.709991</td>\n",
              "      <td>6.270570</td>\n",
              "      <td>8.299051</td>\n",
              "      <td>4.706600</td>\n",
              "      <td>10.640822</td>\n",
              "      <td>0.137658</td>\n",
              "      <td>0.541817</td>\n",
              "      <td>6.232143</td>\n",
              "      <td>8.063291</td>\n",
              "      <td>4.435805</td>\n",
              "      <td>10.230206</td>\n",
              "      <td>0.150316</td>\n",
              "    </tr>\n",
              "    <tr>\n",
              "      <th>std</th>\n",
              "      <td>7.587816</td>\n",
              "      <td>2.663850</td>\n",
              "      <td>1.382711</td>\n",
              "      <td>2.269935</td>\n",
              "      <td>2.360507</td>\n",
              "      <td>2.480178</td>\n",
              "      <td>4.179106</td>\n",
              "      <td>3.094238</td>\n",
              "      <td>4.843663</td>\n",
              "      <td>0.690880</td>\n",
              "      <td>1.918546</td>\n",
              "      <td>2.195951</td>\n",
              "      <td>3.947951</td>\n",
              "      <td>3.014764</td>\n",
              "      <td>5.210808</td>\n",
              "      <td>0.753774</td>\n",
              "    </tr>\n",
              "    <tr>\n",
              "      <th>min</th>\n",
              "      <td>17.000000</td>\n",
              "      <td>7.600000</td>\n",
              "      <td>-0.800000</td>\n",
              "      <td>-4.060000</td>\n",
              "      <td>0.000000</td>\n",
              "      <td>0.000000</td>\n",
              "      <td>0.000000</td>\n",
              "      <td>0.000000</td>\n",
              "      <td>0.000000</td>\n",
              "      <td>0.000000</td>\n",
              "      <td>0.000000</td>\n",
              "      <td>0.000000</td>\n",
              "      <td>0.000000</td>\n",
              "      <td>0.000000</td>\n",
              "      <td>0.000000</td>\n",
              "      <td>0.000000</td>\n",
              "    </tr>\n",
              "    <tr>\n",
              "      <th>25%</th>\n",
              "      <td>19.000000</td>\n",
              "      <td>9.400000</td>\n",
              "      <td>0.300000</td>\n",
              "      <td>-1.700000</td>\n",
              "      <td>0.000000</td>\n",
              "      <td>5.000000</td>\n",
              "      <td>6.000000</td>\n",
              "      <td>3.000000</td>\n",
              "      <td>11.000000</td>\n",
              "      <td>0.000000</td>\n",
              "      <td>0.000000</td>\n",
              "      <td>5.000000</td>\n",
              "      <td>6.000000</td>\n",
              "      <td>2.000000</td>\n",
              "      <td>10.750000</td>\n",
              "      <td>0.000000</td>\n",
              "    </tr>\n",
              "    <tr>\n",
              "      <th>50%</th>\n",
              "      <td>20.000000</td>\n",
              "      <td>11.100000</td>\n",
              "      <td>1.400000</td>\n",
              "      <td>0.320000</td>\n",
              "      <td>0.000000</td>\n",
              "      <td>6.000000</td>\n",
              "      <td>8.000000</td>\n",
              "      <td>5.000000</td>\n",
              "      <td>12.285714</td>\n",
              "      <td>0.000000</td>\n",
              "      <td>0.000000</td>\n",
              "      <td>6.000000</td>\n",
              "      <td>8.000000</td>\n",
              "      <td>5.000000</td>\n",
              "      <td>12.200000</td>\n",
              "      <td>0.000000</td>\n",
              "    </tr>\n",
              "    <tr>\n",
              "      <th>75%</th>\n",
              "      <td>25.000000</td>\n",
              "      <td>13.900000</td>\n",
              "      <td>2.600000</td>\n",
              "      <td>1.790000</td>\n",
              "      <td>0.000000</td>\n",
              "      <td>7.000000</td>\n",
              "      <td>10.000000</td>\n",
              "      <td>6.000000</td>\n",
              "      <td>13.400000</td>\n",
              "      <td>0.000000</td>\n",
              "      <td>0.000000</td>\n",
              "      <td>7.000000</td>\n",
              "      <td>10.000000</td>\n",
              "      <td>6.000000</td>\n",
              "      <td>13.333333</td>\n",
              "      <td>0.000000</td>\n",
              "    </tr>\n",
              "    <tr>\n",
              "      <th>max</th>\n",
              "      <td>70.000000</td>\n",
              "      <td>16.200000</td>\n",
              "      <td>3.700000</td>\n",
              "      <td>3.510000</td>\n",
              "      <td>20.000000</td>\n",
              "      <td>26.000000</td>\n",
              "      <td>45.000000</td>\n",
              "      <td>26.000000</td>\n",
              "      <td>18.875000</td>\n",
              "      <td>12.000000</td>\n",
              "      <td>19.000000</td>\n",
              "      <td>23.000000</td>\n",
              "      <td>33.000000</td>\n",
              "      <td>20.000000</td>\n",
              "      <td>18.571429</td>\n",
              "      <td>12.000000</td>\n",
              "    </tr>\n",
              "  </tbody>\n",
              "</table>\n",
              "</div>\n",
              "    <div class=\"colab-df-buttons\">\n",
              "\n",
              "  <div class=\"colab-df-container\">\n",
              "    <button class=\"colab-df-convert\" onclick=\"convertToInteractive('df-02b5429d-d367-49bc-82ae-ebb63f915193')\"\n",
              "            title=\"Convert this dataframe to an interactive table.\"\n",
              "            style=\"display:none;\">\n",
              "\n",
              "  <svg xmlns=\"http://www.w3.org/2000/svg\" height=\"24px\" viewBox=\"0 -960 960 960\">\n",
              "    <path d=\"M120-120v-720h720v720H120Zm60-500h600v-160H180v160Zm220 220h160v-160H400v160Zm0 220h160v-160H400v160ZM180-400h160v-160H180v160Zm440 0h160v-160H620v160ZM180-180h160v-160H180v160Zm440 0h160v-160H620v160Z\"/>\n",
              "  </svg>\n",
              "    </button>\n",
              "\n",
              "  <style>\n",
              "    .colab-df-container {\n",
              "      display:flex;\n",
              "      gap: 12px;\n",
              "    }\n",
              "\n",
              "    .colab-df-convert {\n",
              "      background-color: #E8F0FE;\n",
              "      border: none;\n",
              "      border-radius: 50%;\n",
              "      cursor: pointer;\n",
              "      display: none;\n",
              "      fill: #1967D2;\n",
              "      height: 32px;\n",
              "      padding: 0 0 0 0;\n",
              "      width: 32px;\n",
              "    }\n",
              "\n",
              "    .colab-df-convert:hover {\n",
              "      background-color: #E2EBFA;\n",
              "      box-shadow: 0px 1px 2px rgba(60, 64, 67, 0.3), 0px 1px 3px 1px rgba(60, 64, 67, 0.15);\n",
              "      fill: #174EA6;\n",
              "    }\n",
              "\n",
              "    .colab-df-buttons div {\n",
              "      margin-bottom: 4px;\n",
              "    }\n",
              "\n",
              "    [theme=dark] .colab-df-convert {\n",
              "      background-color: #3B4455;\n",
              "      fill: #D2E3FC;\n",
              "    }\n",
              "\n",
              "    [theme=dark] .colab-df-convert:hover {\n",
              "      background-color: #434B5C;\n",
              "      box-shadow: 0px 1px 3px 1px rgba(0, 0, 0, 0.15);\n",
              "      filter: drop-shadow(0px 1px 2px rgba(0, 0, 0, 0.3));\n",
              "      fill: #FFFFFF;\n",
              "    }\n",
              "  </style>\n",
              "\n",
              "    <script>\n",
              "      const buttonEl =\n",
              "        document.querySelector('#df-02b5429d-d367-49bc-82ae-ebb63f915193 button.colab-df-convert');\n",
              "      buttonEl.style.display =\n",
              "        google.colab.kernel.accessAllowed ? 'block' : 'none';\n",
              "\n",
              "      async function convertToInteractive(key) {\n",
              "        const element = document.querySelector('#df-02b5429d-d367-49bc-82ae-ebb63f915193');\n",
              "        const dataTable =\n",
              "          await google.colab.kernel.invokeFunction('convertToInteractive',\n",
              "                                                    [key], {});\n",
              "        if (!dataTable) return;\n",
              "\n",
              "        const docLinkHtml = 'Like what you see? Visit the ' +\n",
              "          '<a target=\"_blank\" href=https://colab.research.google.com/notebooks/data_table.ipynb>data table notebook</a>'\n",
              "          + ' to learn more about interactive tables.';\n",
              "        element.innerHTML = '';\n",
              "        dataTable['output_type'] = 'display_data';\n",
              "        await google.colab.output.renderOutput(dataTable, element);\n",
              "        const docLink = document.createElement('div');\n",
              "        docLink.innerHTML = docLinkHtml;\n",
              "        element.appendChild(docLink);\n",
              "      }\n",
              "    </script>\n",
              "  </div>\n",
              "\n",
              "\n",
              "<div id=\"df-b0a639f4-7ba3-41fc-9a5f-5c175075820a\">\n",
              "  <button class=\"colab-df-quickchart\" onclick=\"quickchart('df-b0a639f4-7ba3-41fc-9a5f-5c175075820a')\"\n",
              "            title=\"Suggest charts\"\n",
              "            style=\"display:none;\">\n",
              "\n",
              "<svg xmlns=\"http://www.w3.org/2000/svg\" height=\"24px\"viewBox=\"0 0 24 24\"\n",
              "     width=\"24px\">\n",
              "    <g>\n",
              "        <path d=\"M19 3H5c-1.1 0-2 .9-2 2v14c0 1.1.9 2 2 2h14c1.1 0 2-.9 2-2V5c0-1.1-.9-2-2-2zM9 17H7v-7h2v7zm4 0h-2V7h2v10zm4 0h-2v-4h2v4z\"/>\n",
              "    </g>\n",
              "</svg>\n",
              "  </button>\n",
              "\n",
              "<style>\n",
              "  .colab-df-quickchart {\n",
              "      --bg-color: #E8F0FE;\n",
              "      --fill-color: #1967D2;\n",
              "      --hover-bg-color: #E2EBFA;\n",
              "      --hover-fill-color: #174EA6;\n",
              "      --disabled-fill-color: #AAA;\n",
              "      --disabled-bg-color: #DDD;\n",
              "  }\n",
              "\n",
              "  [theme=dark] .colab-df-quickchart {\n",
              "      --bg-color: #3B4455;\n",
              "      --fill-color: #D2E3FC;\n",
              "      --hover-bg-color: #434B5C;\n",
              "      --hover-fill-color: #FFFFFF;\n",
              "      --disabled-bg-color: #3B4455;\n",
              "      --disabled-fill-color: #666;\n",
              "  }\n",
              "\n",
              "  .colab-df-quickchart {\n",
              "    background-color: var(--bg-color);\n",
              "    border: none;\n",
              "    border-radius: 50%;\n",
              "    cursor: pointer;\n",
              "    display: none;\n",
              "    fill: var(--fill-color);\n",
              "    height: 32px;\n",
              "    padding: 0;\n",
              "    width: 32px;\n",
              "  }\n",
              "\n",
              "  .colab-df-quickchart:hover {\n",
              "    background-color: var(--hover-bg-color);\n",
              "    box-shadow: 0 1px 2px rgba(60, 64, 67, 0.3), 0 1px 3px 1px rgba(60, 64, 67, 0.15);\n",
              "    fill: var(--button-hover-fill-color);\n",
              "  }\n",
              "\n",
              "  .colab-df-quickchart-complete:disabled,\n",
              "  .colab-df-quickchart-complete:disabled:hover {\n",
              "    background-color: var(--disabled-bg-color);\n",
              "    fill: var(--disabled-fill-color);\n",
              "    box-shadow: none;\n",
              "  }\n",
              "\n",
              "  .colab-df-spinner {\n",
              "    border: 2px solid var(--fill-color);\n",
              "    border-color: transparent;\n",
              "    border-bottom-color: var(--fill-color);\n",
              "    animation:\n",
              "      spin 1s steps(1) infinite;\n",
              "  }\n",
              "\n",
              "  @keyframes spin {\n",
              "    0% {\n",
              "      border-color: transparent;\n",
              "      border-bottom-color: var(--fill-color);\n",
              "      border-left-color: var(--fill-color);\n",
              "    }\n",
              "    20% {\n",
              "      border-color: transparent;\n",
              "      border-left-color: var(--fill-color);\n",
              "      border-top-color: var(--fill-color);\n",
              "    }\n",
              "    30% {\n",
              "      border-color: transparent;\n",
              "      border-left-color: var(--fill-color);\n",
              "      border-top-color: var(--fill-color);\n",
              "      border-right-color: var(--fill-color);\n",
              "    }\n",
              "    40% {\n",
              "      border-color: transparent;\n",
              "      border-right-color: var(--fill-color);\n",
              "      border-top-color: var(--fill-color);\n",
              "    }\n",
              "    60% {\n",
              "      border-color: transparent;\n",
              "      border-right-color: var(--fill-color);\n",
              "    }\n",
              "    80% {\n",
              "      border-color: transparent;\n",
              "      border-right-color: var(--fill-color);\n",
              "      border-bottom-color: var(--fill-color);\n",
              "    }\n",
              "    90% {\n",
              "      border-color: transparent;\n",
              "      border-bottom-color: var(--fill-color);\n",
              "    }\n",
              "  }\n",
              "</style>\n",
              "\n",
              "  <script>\n",
              "    async function quickchart(key) {\n",
              "      const quickchartButtonEl =\n",
              "        document.querySelector('#' + key + ' button');\n",
              "      quickchartButtonEl.disabled = true;  // To prevent multiple clicks.\n",
              "      quickchartButtonEl.classList.add('colab-df-spinner');\n",
              "      try {\n",
              "        const charts = await google.colab.kernel.invokeFunction(\n",
              "            'suggestCharts', [key], {});\n",
              "      } catch (error) {\n",
              "        console.error('Error during call to suggestCharts:', error);\n",
              "      }\n",
              "      quickchartButtonEl.classList.remove('colab-df-spinner');\n",
              "      quickchartButtonEl.classList.add('colab-df-quickchart-complete');\n",
              "    }\n",
              "    (() => {\n",
              "      let quickchartButtonEl =\n",
              "        document.querySelector('#df-b0a639f4-7ba3-41fc-9a5f-5c175075820a button');\n",
              "      quickchartButtonEl.style.display =\n",
              "        google.colab.kernel.accessAllowed ? 'block' : 'none';\n",
              "    })();\n",
              "  </script>\n",
              "</div>\n",
              "\n",
              "    </div>\n",
              "  </div>\n"
            ],
            "application/vnd.google.colaboratory.intrinsic+json": {
              "type": "dataframe",
              "summary": "{\n  \"name\": \"students\",\n  \"rows\": 8,\n  \"fields\": [\n    {\n      \"column\": \"Idade na matr\\u00edcula\",\n      \"properties\": {\n        \"dtype\": \"number\",\n        \"std\": 1555.0477556027724,\n        \"min\": 7.587815615029815,\n        \"max\": 4424.0,\n        \"num_unique_values\": 8,\n        \"samples\": [\n          23.265144665461122,\n          20.0,\n          4424.0\n        ],\n        \"semantic_type\": \"\",\n        \"description\": \"\"\n      }\n    },\n    {\n      \"column\": \"Taxa de desemprego\",\n      \"properties\": {\n        \"dtype\": \"number\",\n        \"std\": 1560.4672615284294,\n        \"min\": 2.6638504843026354,\n        \"max\": 4424.0,\n        \"num_unique_values\": 8,\n        \"samples\": [\n          11.56613924050633,\n          11.1,\n          4424.0\n        ],\n        \"semantic_type\": \"\",\n        \"description\": \"\"\n      }\n    },\n    {\n      \"column\": \"Taxa de infla\\u00e7\\u00e3o\",\n      \"properties\": {\n        \"dtype\": \"number\",\n        \"std\": 1563.62526797698,\n        \"min\": -0.8,\n        \"max\": 4424.0,\n        \"num_unique_values\": 8,\n        \"samples\": [\n          1.228028933092224,\n          1.4,\n          4424.0\n        ],\n        \"semantic_type\": \"\",\n        \"description\": \"\"\n      }\n    },\n    {\n      \"column\": \"PIB\",\n      \"properties\": {\n        \"dtype\": \"number\",\n        \"std\": 1564.014326687478,\n        \"min\": -4.06,\n        \"max\": 4424.0,\n        \"num_unique_values\": 8,\n        \"samples\": [\n          0.001968806509945778,\n          0.32,\n          4424.0\n        ],\n        \"semantic_type\": \"\",\n        \"description\": \"\"\n      }\n    },\n    {\n      \"column\": \"disciplinas 1\\u00ba semestre (creditadas)\",\n      \"properties\": {\n        \"dtype\": \"number\",\n        \"std\": 1562.970047001889,\n        \"min\": 0.0,\n        \"max\": 4424.0,\n        \"num_unique_values\": 5,\n        \"samples\": [\n          0.7099909584086799,\n          20.0,\n          2.3605066191181976\n        ],\n        \"semantic_type\": \"\",\n        \"description\": \"\"\n      }\n    },\n    {\n      \"column\": \"disciplinas 1\\u00ba semestre (matriculadas)\",\n      \"properties\": {\n        \"dtype\": \"number\",\n        \"std\": 1561.4757357838098,\n        \"min\": 0.0,\n        \"max\": 4424.0,\n        \"num_unique_values\": 8,\n        \"samples\": [\n          6.2705696202531644,\n          6.0,\n          4424.0\n        ],\n        \"semantic_type\": \"\",\n        \"description\": \"\"\n      }\n    },\n    {\n      \"column\": \"disciplinas 1\\u00ba semestre (avalia\\u00e7\\u00f5es)\",\n      \"properties\": {\n        \"dtype\": \"number\",\n        \"std\": 1560.067336557855,\n        \"min\": 0.0,\n        \"max\": 4424.0,\n        \"num_unique_values\": 8,\n        \"samples\": [\n          8.299050632911392,\n          8.0,\n          4424.0\n        ],\n        \"semantic_type\": \"\",\n        \"description\": \"\"\n      }\n    },\n    {\n      \"column\": \"disciplinas 1\\u00ba semestre (aprovadas)\",\n      \"properties\": {\n        \"dtype\": \"number\",\n        \"std\": 1561.726534694024,\n        \"min\": 0.0,\n        \"max\": 4424.0,\n        \"num_unique_values\": 8,\n        \"samples\": [\n          4.706600361663653,\n          5.0,\n          4424.0\n        ],\n        \"semantic_type\": \"\",\n        \"description\": \"\"\n      }\n    },\n    {\n      \"column\": \"disciplinas 1\\u00ba semestre (notas)\",\n      \"properties\": {\n        \"dtype\": \"number\",\n        \"std\": 1560.5421006201755,\n        \"min\": 0.0,\n        \"max\": 4424.0,\n        \"num_unique_values\": 8,\n        \"samples\": [\n          10.640821575154185,\n          12.285714285714286,\n          4424.0\n        ],\n        \"semantic_type\": \"\",\n        \"description\": \"\"\n      }\n    },\n    {\n      \"column\": \"disciplinas 1\\u00ba semestre (sem avalia\\u00e7\\u00f5es)\",\n      \"properties\": {\n        \"dtype\": \"number\",\n        \"std\": 1563.4777882910946,\n        \"min\": 0.0,\n        \"max\": 4424.0,\n        \"num_unique_values\": 5,\n        \"samples\": [\n          0.13765822784810128,\n          12.0,\n          0.6908801837297979\n        ],\n        \"semantic_type\": \"\",\n        \"description\": \"\"\n      }\n    },\n    {\n      \"column\": \"disciplinas 2\\u00ba semestre (creditadas)\",\n      \"properties\": {\n        \"dtype\": \"number\",\n        \"std\": 1563.0499600803462,\n        \"min\": 0.0,\n        \"max\": 4424.0,\n        \"num_unique_values\": 5,\n        \"samples\": [\n          0.5418173598553345,\n          19.0,\n          1.9185461437101994\n        ],\n        \"semantic_type\": \"\",\n        \"description\": \"\"\n      }\n    },\n    {\n      \"column\": \"disciplinas 2\\u00ba semestre (matriculadas)\",\n      \"properties\": {\n        \"dtype\": \"number\",\n        \"std\": 1561.6389649622445,\n        \"min\": 0.0,\n        \"max\": 4424.0,\n        \"num_unique_values\": 8,\n        \"samples\": [\n          6.232142857142857,\n          6.0,\n          4424.0\n        ],\n        \"semantic_type\": \"\",\n        \"description\": \"\"\n      }\n    },\n    {\n      \"column\": \"disciplinas 2\\u00ba semestre (avalia\\u00e7\\u00f5es)\",\n      \"properties\": {\n        \"dtype\": \"number\",\n        \"std\": 1560.6661512818223,\n        \"min\": 0.0,\n        \"max\": 4424.0,\n        \"num_unique_values\": 8,\n        \"samples\": [\n          8.063291139240507,\n          8.0,\n          4424.0\n        ],\n        \"semantic_type\": \"\",\n        \"description\": \"\"\n      }\n    },\n    {\n      \"column\": \"disciplinas 2\\u00ba semestre (aprovadas)\",\n      \"properties\": {\n        \"dtype\": \"number\",\n        \"std\": 1562.0890273342366,\n        \"min\": 0.0,\n        \"max\": 4424.0,\n        \"num_unique_values\": 8,\n        \"samples\": [\n          4.435804701627487,\n          5.0,\n          4424.0\n        ],\n        \"semantic_type\": \"\",\n        \"description\": \"\"\n      }\n    },\n    {\n      \"column\": \"disciplinas 2\\u00ba semestre (notas)\",\n      \"properties\": {\n        \"dtype\": \"number\",\n        \"std\": 1560.5794744747732,\n        \"min\": 0.0,\n        \"max\": 4424.0,\n        \"num_unique_values\": 8,\n        \"samples\": [\n          10.230205722716985,\n          12.2,\n          4424.0\n        ],\n        \"semantic_type\": \"\",\n        \"description\": \"\"\n      }\n    },\n    {\n      \"column\": \"disciplinas 2\\u00ba semestre (sem avalia\\u00e7\\u00f5es)\",\n      \"properties\": {\n        \"dtype\": \"number\",\n        \"std\": 1563.4739639755792,\n        \"min\": 0.0,\n        \"max\": 4424.0,\n        \"num_unique_values\": 5,\n        \"samples\": [\n          0.15031645569620253,\n          12.0,\n          0.7537740685130098\n        ],\n        \"semantic_type\": \"\",\n        \"description\": \"\"\n      }\n    }\n  ]\n}"
            }
          },
          "metadata": {},
          "execution_count": 15
        }
      ]
    },
    {
      "cell_type": "code",
      "source": [
        "colunas_categoricas = ['Estado civil', 'Migração', 'Sexo', 'Estrangeiro', 'Necessidades educacionais especiais', 'Devedor',  'Taxas de matrícula em dia', 'Bolsista', 'Curso', 'Período', 'Qualificação prévia', 'Target']\n",
        "\n",
        "students[colunas_categoricas].describe()"
      ],
      "metadata": {
        "colab": {
          "base_uri": "https://localhost:8080/"
        },
        "id": "GcptxTb9wrAA",
        "outputId": "90cb1e49-da8f-4ae6-df20-d347f1def21d"
      },
      "execution_count": null,
      "outputs": [
        {
          "output_type": "execute_result",
          "data": {
            "text/plain": [
              "       Estado civil Migração      Sexo Estrangeiro  \\\n",
              "count          4424     4424      4424        4424   \n",
              "unique            6        2         2           2   \n",
              "top        Solteiro      Sim  Feminino         Não   \n",
              "freq           3919     2426      2868        4314   \n",
              "\n",
              "       Necessidades educacionais especiais Devedor Taxas de matrícula em dia  \\\n",
              "count                                 4424    4424                      4424   \n",
              "unique                                   2       2                         2   \n",
              "top                                    Não     Não                       Sim   \n",
              "freq                                  4373    3921                      3896   \n",
              "\n",
              "       Bolsista       Curso Período  Qualificação prévia    Target  \n",
              "count      4424        4424    4424                 4424      4424  \n",
              "unique        2          17       2                   17         3  \n",
              "top         Não  Enfermagem  Diurno  Educação secundária  Graduado  \n",
              "freq       3325         766    3941                 3717      2209  "
            ],
            "text/html": [
              "\n",
              "  <div id=\"df-719391d6-ae7e-47c4-8bb9-25c6eba09888\" class=\"colab-df-container\">\n",
              "    <div>\n",
              "<style scoped>\n",
              "    .dataframe tbody tr th:only-of-type {\n",
              "        vertical-align: middle;\n",
              "    }\n",
              "\n",
              "    .dataframe tbody tr th {\n",
              "        vertical-align: top;\n",
              "    }\n",
              "\n",
              "    .dataframe thead th {\n",
              "        text-align: right;\n",
              "    }\n",
              "</style>\n",
              "<table border=\"1\" class=\"dataframe\">\n",
              "  <thead>\n",
              "    <tr style=\"text-align: right;\">\n",
              "      <th></th>\n",
              "      <th>Estado civil</th>\n",
              "      <th>Migração</th>\n",
              "      <th>Sexo</th>\n",
              "      <th>Estrangeiro</th>\n",
              "      <th>Necessidades educacionais especiais</th>\n",
              "      <th>Devedor</th>\n",
              "      <th>Taxas de matrícula em dia</th>\n",
              "      <th>Bolsista</th>\n",
              "      <th>Curso</th>\n",
              "      <th>Período</th>\n",
              "      <th>Qualificação prévia</th>\n",
              "      <th>Target</th>\n",
              "    </tr>\n",
              "  </thead>\n",
              "  <tbody>\n",
              "    <tr>\n",
              "      <th>count</th>\n",
              "      <td>4424</td>\n",
              "      <td>4424</td>\n",
              "      <td>4424</td>\n",
              "      <td>4424</td>\n",
              "      <td>4424</td>\n",
              "      <td>4424</td>\n",
              "      <td>4424</td>\n",
              "      <td>4424</td>\n",
              "      <td>4424</td>\n",
              "      <td>4424</td>\n",
              "      <td>4424</td>\n",
              "      <td>4424</td>\n",
              "    </tr>\n",
              "    <tr>\n",
              "      <th>unique</th>\n",
              "      <td>6</td>\n",
              "      <td>2</td>\n",
              "      <td>2</td>\n",
              "      <td>2</td>\n",
              "      <td>2</td>\n",
              "      <td>2</td>\n",
              "      <td>2</td>\n",
              "      <td>2</td>\n",
              "      <td>17</td>\n",
              "      <td>2</td>\n",
              "      <td>17</td>\n",
              "      <td>3</td>\n",
              "    </tr>\n",
              "    <tr>\n",
              "      <th>top</th>\n",
              "      <td>Solteiro</td>\n",
              "      <td>Sim</td>\n",
              "      <td>Feminino</td>\n",
              "      <td>Não</td>\n",
              "      <td>Não</td>\n",
              "      <td>Não</td>\n",
              "      <td>Sim</td>\n",
              "      <td>Não</td>\n",
              "      <td>Enfermagem</td>\n",
              "      <td>Diurno</td>\n",
              "      <td>Educação secundária</td>\n",
              "      <td>Graduado</td>\n",
              "    </tr>\n",
              "    <tr>\n",
              "      <th>freq</th>\n",
              "      <td>3919</td>\n",
              "      <td>2426</td>\n",
              "      <td>2868</td>\n",
              "      <td>4314</td>\n",
              "      <td>4373</td>\n",
              "      <td>3921</td>\n",
              "      <td>3896</td>\n",
              "      <td>3325</td>\n",
              "      <td>766</td>\n",
              "      <td>3941</td>\n",
              "      <td>3717</td>\n",
              "      <td>2209</td>\n",
              "    </tr>\n",
              "  </tbody>\n",
              "</table>\n",
              "</div>\n",
              "    <div class=\"colab-df-buttons\">\n",
              "\n",
              "  <div class=\"colab-df-container\">\n",
              "    <button class=\"colab-df-convert\" onclick=\"convertToInteractive('df-719391d6-ae7e-47c4-8bb9-25c6eba09888')\"\n",
              "            title=\"Convert this dataframe to an interactive table.\"\n",
              "            style=\"display:none;\">\n",
              "\n",
              "  <svg xmlns=\"http://www.w3.org/2000/svg\" height=\"24px\" viewBox=\"0 -960 960 960\">\n",
              "    <path d=\"M120-120v-720h720v720H120Zm60-500h600v-160H180v160Zm220 220h160v-160H400v160Zm0 220h160v-160H400v160ZM180-400h160v-160H180v160Zm440 0h160v-160H620v160ZM180-180h160v-160H180v160Zm440 0h160v-160H620v160Z\"/>\n",
              "  </svg>\n",
              "    </button>\n",
              "\n",
              "  <style>\n",
              "    .colab-df-container {\n",
              "      display:flex;\n",
              "      gap: 12px;\n",
              "    }\n",
              "\n",
              "    .colab-df-convert {\n",
              "      background-color: #E8F0FE;\n",
              "      border: none;\n",
              "      border-radius: 50%;\n",
              "      cursor: pointer;\n",
              "      display: none;\n",
              "      fill: #1967D2;\n",
              "      height: 32px;\n",
              "      padding: 0 0 0 0;\n",
              "      width: 32px;\n",
              "    }\n",
              "\n",
              "    .colab-df-convert:hover {\n",
              "      background-color: #E2EBFA;\n",
              "      box-shadow: 0px 1px 2px rgba(60, 64, 67, 0.3), 0px 1px 3px 1px rgba(60, 64, 67, 0.15);\n",
              "      fill: #174EA6;\n",
              "    }\n",
              "\n",
              "    .colab-df-buttons div {\n",
              "      margin-bottom: 4px;\n",
              "    }\n",
              "\n",
              "    [theme=dark] .colab-df-convert {\n",
              "      background-color: #3B4455;\n",
              "      fill: #D2E3FC;\n",
              "    }\n",
              "\n",
              "    [theme=dark] .colab-df-convert:hover {\n",
              "      background-color: #434B5C;\n",
              "      box-shadow: 0px 1px 3px 1px rgba(0, 0, 0, 0.15);\n",
              "      filter: drop-shadow(0px 1px 2px rgba(0, 0, 0, 0.3));\n",
              "      fill: #FFFFFF;\n",
              "    }\n",
              "  </style>\n",
              "\n",
              "    <script>\n",
              "      const buttonEl =\n",
              "        document.querySelector('#df-719391d6-ae7e-47c4-8bb9-25c6eba09888 button.colab-df-convert');\n",
              "      buttonEl.style.display =\n",
              "        google.colab.kernel.accessAllowed ? 'block' : 'none';\n",
              "\n",
              "      async function convertToInteractive(key) {\n",
              "        const element = document.querySelector('#df-719391d6-ae7e-47c4-8bb9-25c6eba09888');\n",
              "        const dataTable =\n",
              "          await google.colab.kernel.invokeFunction('convertToInteractive',\n",
              "                                                    [key], {});\n",
              "        if (!dataTable) return;\n",
              "\n",
              "        const docLinkHtml = 'Like what you see? Visit the ' +\n",
              "          '<a target=\"_blank\" href=https://colab.research.google.com/notebooks/data_table.ipynb>data table notebook</a>'\n",
              "          + ' to learn more about interactive tables.';\n",
              "        element.innerHTML = '';\n",
              "        dataTable['output_type'] = 'display_data';\n",
              "        await google.colab.output.renderOutput(dataTable, element);\n",
              "        const docLink = document.createElement('div');\n",
              "        docLink.innerHTML = docLinkHtml;\n",
              "        element.appendChild(docLink);\n",
              "      }\n",
              "    </script>\n",
              "  </div>\n",
              "\n",
              "\n",
              "<div id=\"df-722e9ce8-7279-4d23-b8b7-4cf0b66012ed\">\n",
              "  <button class=\"colab-df-quickchart\" onclick=\"quickchart('df-722e9ce8-7279-4d23-b8b7-4cf0b66012ed')\"\n",
              "            title=\"Suggest charts\"\n",
              "            style=\"display:none;\">\n",
              "\n",
              "<svg xmlns=\"http://www.w3.org/2000/svg\" height=\"24px\"viewBox=\"0 0 24 24\"\n",
              "     width=\"24px\">\n",
              "    <g>\n",
              "        <path d=\"M19 3H5c-1.1 0-2 .9-2 2v14c0 1.1.9 2 2 2h14c1.1 0 2-.9 2-2V5c0-1.1-.9-2-2-2zM9 17H7v-7h2v7zm4 0h-2V7h2v10zm4 0h-2v-4h2v4z\"/>\n",
              "    </g>\n",
              "</svg>\n",
              "  </button>\n",
              "\n",
              "<style>\n",
              "  .colab-df-quickchart {\n",
              "      --bg-color: #E8F0FE;\n",
              "      --fill-color: #1967D2;\n",
              "      --hover-bg-color: #E2EBFA;\n",
              "      --hover-fill-color: #174EA6;\n",
              "      --disabled-fill-color: #AAA;\n",
              "      --disabled-bg-color: #DDD;\n",
              "  }\n",
              "\n",
              "  [theme=dark] .colab-df-quickchart {\n",
              "      --bg-color: #3B4455;\n",
              "      --fill-color: #D2E3FC;\n",
              "      --hover-bg-color: #434B5C;\n",
              "      --hover-fill-color: #FFFFFF;\n",
              "      --disabled-bg-color: #3B4455;\n",
              "      --disabled-fill-color: #666;\n",
              "  }\n",
              "\n",
              "  .colab-df-quickchart {\n",
              "    background-color: var(--bg-color);\n",
              "    border: none;\n",
              "    border-radius: 50%;\n",
              "    cursor: pointer;\n",
              "    display: none;\n",
              "    fill: var(--fill-color);\n",
              "    height: 32px;\n",
              "    padding: 0;\n",
              "    width: 32px;\n",
              "  }\n",
              "\n",
              "  .colab-df-quickchart:hover {\n",
              "    background-color: var(--hover-bg-color);\n",
              "    box-shadow: 0 1px 2px rgba(60, 64, 67, 0.3), 0 1px 3px 1px rgba(60, 64, 67, 0.15);\n",
              "    fill: var(--button-hover-fill-color);\n",
              "  }\n",
              "\n",
              "  .colab-df-quickchart-complete:disabled,\n",
              "  .colab-df-quickchart-complete:disabled:hover {\n",
              "    background-color: var(--disabled-bg-color);\n",
              "    fill: var(--disabled-fill-color);\n",
              "    box-shadow: none;\n",
              "  }\n",
              "\n",
              "  .colab-df-spinner {\n",
              "    border: 2px solid var(--fill-color);\n",
              "    border-color: transparent;\n",
              "    border-bottom-color: var(--fill-color);\n",
              "    animation:\n",
              "      spin 1s steps(1) infinite;\n",
              "  }\n",
              "\n",
              "  @keyframes spin {\n",
              "    0% {\n",
              "      border-color: transparent;\n",
              "      border-bottom-color: var(--fill-color);\n",
              "      border-left-color: var(--fill-color);\n",
              "    }\n",
              "    20% {\n",
              "      border-color: transparent;\n",
              "      border-left-color: var(--fill-color);\n",
              "      border-top-color: var(--fill-color);\n",
              "    }\n",
              "    30% {\n",
              "      border-color: transparent;\n",
              "      border-left-color: var(--fill-color);\n",
              "      border-top-color: var(--fill-color);\n",
              "      border-right-color: var(--fill-color);\n",
              "    }\n",
              "    40% {\n",
              "      border-color: transparent;\n",
              "      border-right-color: var(--fill-color);\n",
              "      border-top-color: var(--fill-color);\n",
              "    }\n",
              "    60% {\n",
              "      border-color: transparent;\n",
              "      border-right-color: var(--fill-color);\n",
              "    }\n",
              "    80% {\n",
              "      border-color: transparent;\n",
              "      border-right-color: var(--fill-color);\n",
              "      border-bottom-color: var(--fill-color);\n",
              "    }\n",
              "    90% {\n",
              "      border-color: transparent;\n",
              "      border-bottom-color: var(--fill-color);\n",
              "    }\n",
              "  }\n",
              "</style>\n",
              "\n",
              "  <script>\n",
              "    async function quickchart(key) {\n",
              "      const quickchartButtonEl =\n",
              "        document.querySelector('#' + key + ' button');\n",
              "      quickchartButtonEl.disabled = true;  // To prevent multiple clicks.\n",
              "      quickchartButtonEl.classList.add('colab-df-spinner');\n",
              "      try {\n",
              "        const charts = await google.colab.kernel.invokeFunction(\n",
              "            'suggestCharts', [key], {});\n",
              "      } catch (error) {\n",
              "        console.error('Error during call to suggestCharts:', error);\n",
              "      }\n",
              "      quickchartButtonEl.classList.remove('colab-df-spinner');\n",
              "      quickchartButtonEl.classList.add('colab-df-quickchart-complete');\n",
              "    }\n",
              "    (() => {\n",
              "      let quickchartButtonEl =\n",
              "        document.querySelector('#df-722e9ce8-7279-4d23-b8b7-4cf0b66012ed button');\n",
              "      quickchartButtonEl.style.display =\n",
              "        google.colab.kernel.accessAllowed ? 'block' : 'none';\n",
              "    })();\n",
              "  </script>\n",
              "</div>\n",
              "\n",
              "    </div>\n",
              "  </div>\n"
            ],
            "application/vnd.google.colaboratory.intrinsic+json": {
              "type": "dataframe",
              "summary": "{\n  \"name\": \"students[colunas_categoricas]\",\n  \"rows\": 4,\n  \"fields\": [\n    {\n      \"column\": \"Estado civil\",\n      \"properties\": {\n        \"dtype\": \"string\",\n        \"num_unique_values\": 4,\n        \"samples\": [\n          6,\n          \"3919\",\n          \"4424\"\n        ],\n        \"semantic_type\": \"\",\n        \"description\": \"\"\n      }\n    },\n    {\n      \"column\": \"Migra\\u00e7\\u00e3o\",\n      \"properties\": {\n        \"dtype\": \"string\",\n        \"num_unique_values\": 4,\n        \"samples\": [\n          2,\n          \"2426\",\n          \"4424\"\n        ],\n        \"semantic_type\": \"\",\n        \"description\": \"\"\n      }\n    },\n    {\n      \"column\": \"Sexo\",\n      \"properties\": {\n        \"dtype\": \"string\",\n        \"num_unique_values\": 4,\n        \"samples\": [\n          2,\n          \"2868\",\n          \"4424\"\n        ],\n        \"semantic_type\": \"\",\n        \"description\": \"\"\n      }\n    },\n    {\n      \"column\": \"Estrangeiro\",\n      \"properties\": {\n        \"dtype\": \"string\",\n        \"num_unique_values\": 4,\n        \"samples\": [\n          2,\n          \"4314\",\n          \"4424\"\n        ],\n        \"semantic_type\": \"\",\n        \"description\": \"\"\n      }\n    },\n    {\n      \"column\": \"Necessidades educacionais especiais\",\n      \"properties\": {\n        \"dtype\": \"string\",\n        \"num_unique_values\": 4,\n        \"samples\": [\n          2,\n          \"4373\",\n          \"4424\"\n        ],\n        \"semantic_type\": \"\",\n        \"description\": \"\"\n      }\n    },\n    {\n      \"column\": \"Devedor\",\n      \"properties\": {\n        \"dtype\": \"string\",\n        \"num_unique_values\": 4,\n        \"samples\": [\n          2,\n          \"3921\",\n          \"4424\"\n        ],\n        \"semantic_type\": \"\",\n        \"description\": \"\"\n      }\n    },\n    {\n      \"column\": \"Taxas de matr\\u00edcula em dia\",\n      \"properties\": {\n        \"dtype\": \"string\",\n        \"num_unique_values\": 4,\n        \"samples\": [\n          2,\n          \"3896\",\n          \"4424\"\n        ],\n        \"semantic_type\": \"\",\n        \"description\": \"\"\n      }\n    },\n    {\n      \"column\": \"Bolsista\",\n      \"properties\": {\n        \"dtype\": \"string\",\n        \"num_unique_values\": 4,\n        \"samples\": [\n          2,\n          \"3325\",\n          \"4424\"\n        ],\n        \"semantic_type\": \"\",\n        \"description\": \"\"\n      }\n    },\n    {\n      \"column\": \"Curso\",\n      \"properties\": {\n        \"dtype\": \"string\",\n        \"num_unique_values\": 4,\n        \"samples\": [\n          17,\n          \"766\",\n          \"4424\"\n        ],\n        \"semantic_type\": \"\",\n        \"description\": \"\"\n      }\n    },\n    {\n      \"column\": \"Per\\u00edodo\",\n      \"properties\": {\n        \"dtype\": \"string\",\n        \"num_unique_values\": 4,\n        \"samples\": [\n          2,\n          \"3941\",\n          \"4424\"\n        ],\n        \"semantic_type\": \"\",\n        \"description\": \"\"\n      }\n    },\n    {\n      \"column\": \"Qualifica\\u00e7\\u00e3o pr\\u00e9via\",\n      \"properties\": {\n        \"dtype\": \"string\",\n        \"num_unique_values\": 4,\n        \"samples\": [\n          17,\n          \"3717\",\n          \"4424\"\n        ],\n        \"semantic_type\": \"\",\n        \"description\": \"\"\n      }\n    },\n    {\n      \"column\": \"Target\",\n      \"properties\": {\n        \"dtype\": \"string\",\n        \"num_unique_values\": 4,\n        \"samples\": [\n          3,\n          \"2209\",\n          \"4424\"\n        ],\n        \"semantic_type\": \"\",\n        \"description\": \"\"\n      }\n    }\n  ]\n}"
            }
          },
          "metadata": {},
          "execution_count": 16
        }
      ]
    },
    {
      "cell_type": "markdown",
      "source": [
        "###Dados demograficos"
      ],
      "metadata": {
        "id": "USVXP745xt51"
      }
    },
    {
      "cell_type": "code",
      "source": [
        "students['Estado civil'].value_counts(normalize=True)*100"
      ],
      "metadata": {
        "colab": {
          "base_uri": "https://localhost:8080/",
          "height": 304
        },
        "id": "VJ5G97ZcxwTw",
        "outputId": "4afa5309-32bf-4295-be50-6e24f0f3965a"
      },
      "execution_count": null,
      "outputs": [
        {
          "output_type": "execute_result",
          "data": {
            "text/plain": [
              "Estado civil\n",
              "Solteiro               88.584991\n",
              "Casado                  8.566908\n",
              "Divorciado              2.056962\n",
              "União Estável           0.565099\n",
              "Legalmente Separado     0.135624\n",
              "Viúvo                   0.090416\n",
              "Name: proportion, dtype: float64"
            ],
            "text/html": [
              "<div>\n",
              "<style scoped>\n",
              "    .dataframe tbody tr th:only-of-type {\n",
              "        vertical-align: middle;\n",
              "    }\n",
              "\n",
              "    .dataframe tbody tr th {\n",
              "        vertical-align: top;\n",
              "    }\n",
              "\n",
              "    .dataframe thead th {\n",
              "        text-align: right;\n",
              "    }\n",
              "</style>\n",
              "<table border=\"1\" class=\"dataframe\">\n",
              "  <thead>\n",
              "    <tr style=\"text-align: right;\">\n",
              "      <th></th>\n",
              "      <th>proportion</th>\n",
              "    </tr>\n",
              "    <tr>\n",
              "      <th>Estado civil</th>\n",
              "      <th></th>\n",
              "    </tr>\n",
              "  </thead>\n",
              "  <tbody>\n",
              "    <tr>\n",
              "      <th>Solteiro</th>\n",
              "      <td>88.584991</td>\n",
              "    </tr>\n",
              "    <tr>\n",
              "      <th>Casado</th>\n",
              "      <td>8.566908</td>\n",
              "    </tr>\n",
              "    <tr>\n",
              "      <th>Divorciado</th>\n",
              "      <td>2.056962</td>\n",
              "    </tr>\n",
              "    <tr>\n",
              "      <th>União Estável</th>\n",
              "      <td>0.565099</td>\n",
              "    </tr>\n",
              "    <tr>\n",
              "      <th>Legalmente Separado</th>\n",
              "      <td>0.135624</td>\n",
              "    </tr>\n",
              "    <tr>\n",
              "      <th>Viúvo</th>\n",
              "      <td>0.090416</td>\n",
              "    </tr>\n",
              "  </tbody>\n",
              "</table>\n",
              "</div><br><label><b>dtype:</b> float64</label>"
            ]
          },
          "metadata": {},
          "execution_count": 17
        }
      ]
    },
    {
      "cell_type": "code",
      "source": [
        "import matplotlib.pyplot as plt\n",
        "import seaborn as sns"
      ],
      "metadata": {
        "id": "OqLTstcWyB9F"
      },
      "execution_count": null,
      "outputs": []
    },
    {
      "cell_type": "code",
      "source": [
        "sns.displot(students['Idade na matrícula'], bins=20)\n",
        "plt.show()"
      ],
      "metadata": {
        "colab": {
          "base_uri": "https://localhost:8080/",
          "height": 506
        },
        "id": "W74vmhFwyIJ_",
        "outputId": "1d66be76-a751-448d-f277-82ee91f3d76f"
      },
      "execution_count": null,
      "outputs": [
        {
          "output_type": "display_data",
          "data": {
            "text/plain": [
              "<Figure size 500x500 with 1 Axes>"
            ],
            "image/png": "[encoded data removed]"
          },
          "metadata": {}
        }
      ]
    },
    {
      "cell_type": "code",
      "source": [
        "color_dict = {'Desistente': '#e34c42', 'Graduado': '#4dc471', 'Matriculado': '#3b71db'}\n",
        "sns.set_palette(list(color_dict.values()))"
      ],
      "metadata": {
        "id": "xLrC5tmQyxSA"
      },
      "execution_count": null,
      "outputs": []
    },
    {
      "cell_type": "code",
      "source": [
        "sns.displot(data=students, x='Idade na matrícula', hue='Target', kind='kde', fill=True)\n",
        "plt.show()"
      ],
      "metadata": {
        "colab": {
          "base_uri": "https://localhost:8080/"
        },
        "id": "xngEv4uJzJw5",
        "outputId": "cef37c64-4bd3-4c2b-ba01-f2624968b3a5"
      },
      "execution_count": null,
      "outputs": [
        {
          "output_type": "display_data",
          "data": {
            "text/plain": [
              "<Figure size 632x500 with 1 Axes>"
            ],
            "image/png": "[encoded data removed]"
          },
          "metadata": {}
        }
      ]
    },
    {
      "cell_type": "code",
      "source": [
        "students['Estrangeiro'].value_counts(normalize=True)*100"
      ],
      "metadata": {
        "colab": {
          "base_uri": "https://localhost:8080/"
        },
        "id": "IyMeguIgzrzD",
        "outputId": "2a7683cc-b906-4845-b240-49a4145e45dd"
      },
      "execution_count": null,
      "outputs": [
        {
          "output_type": "execute_result",
          "data": {
            "text/plain": [
              "Estrangeiro\n",
              "Não    97.513562\n",
              "Sim     2.486438\n",
              "Name: proportion, dtype: float64"
            ],
            "text/html": [
              "<div>\n",
              "<style scoped>\n",
              "    .dataframe tbody tr th:only-of-type {\n",
              "        vertical-align: middle;\n",
              "    }\n",
              "\n",
              "    .dataframe tbody tr th {\n",
              "        vertical-align: top;\n",
              "    }\n",
              "\n",
              "    .dataframe thead th {\n",
              "        text-align: right;\n",
              "    }\n",
              "</style>\n",
              "<table border=\"1\" class=\"dataframe\">\n",
              "  <thead>\n",
              "    <tr style=\"text-align: right;\">\n",
              "      <th></th>\n",
              "      <th>proportion</th>\n",
              "    </tr>\n",
              "    <tr>\n",
              "      <th>Estrangeiro</th>\n",
              "      <th></th>\n",
              "    </tr>\n",
              "  </thead>\n",
              "  <tbody>\n",
              "    <tr>\n",
              "      <th>Não</th>\n",
              "      <td>97.513562</td>\n",
              "    </tr>\n",
              "    <tr>\n",
              "      <th>Sim</th>\n",
              "      <td>2.486438</td>\n",
              "    </tr>\n",
              "  </tbody>\n",
              "</table>\n",
              "</div><br><label><b>dtype:</b> float64</label>"
            ]
          },
          "metadata": {},
          "execution_count": 22
        }
      ]
    },
    {
      "cell_type": "code",
      "source": [
        "students['Sexo'].value_counts(normalize=True)*100"
      ],
      "metadata": {
        "colab": {
          "base_uri": "https://localhost:8080/"
        },
        "id": "bHBDStLAz3Te",
        "outputId": "5c9ed3f4-b167-497a-90b2-5095c88b2bd2"
      },
      "execution_count": null,
      "outputs": [
        {
          "output_type": "execute_result",
          "data": {
            "text/plain": [
              "Sexo\n",
              "Feminino     64.82821\n",
              "Masculino    35.17179\n",
              "Name: proportion, dtype: float64"
            ],
            "text/html": [
              "<div>\n",
              "<style scoped>\n",
              "    .dataframe tbody tr th:only-of-type {\n",
              "        vertical-align: middle;\n",
              "    }\n",
              "\n",
              "    .dataframe tbody tr th {\n",
              "        vertical-align: top;\n",
              "    }\n",
              "\n",
              "    .dataframe thead th {\n",
              "        text-align: right;\n",
              "    }\n",
              "</style>\n",
              "<table border=\"1\" class=\"dataframe\">\n",
              "  <thead>\n",
              "    <tr style=\"text-align: right;\">\n",
              "      <th></th>\n",
              "      <th>proportion</th>\n",
              "    </tr>\n",
              "    <tr>\n",
              "      <th>Sexo</th>\n",
              "      <th></th>\n",
              "    </tr>\n",
              "  </thead>\n",
              "  <tbody>\n",
              "    <tr>\n",
              "      <th>Feminino</th>\n",
              "      <td>64.82821</td>\n",
              "    </tr>\n",
              "    <tr>\n",
              "      <th>Masculino</th>\n",
              "      <td>35.17179</td>\n",
              "    </tr>\n",
              "  </tbody>\n",
              "</table>\n",
              "</div><br><label><b>dtype:</b> float64</label>"
            ]
          },
          "metadata": {},
          "execution_count": 23
        }
      ]
    },
    {
      "cell_type": "code",
      "source": [
        "sns.countplot(x='Sexo', hue='Target', data=students)\n",
        "plt.show()"
      ],
      "metadata": {
        "colab": {
          "base_uri": "https://localhost:8080/"
        },
        "id": "GxoVs6G70Cx7",
        "outputId": "cc734d21-32d7-4b80-9a40-b291c3925daf"
      },
      "execution_count": null,
      "outputs": [
        {
          "output_type": "display_data",
          "data": {
            "text/plain": [
              "<Figure size 640x480 with 1 Axes>"
            ],
            "image/png": "[encoded data removed]"
          },
          "metadata": {}
        }
      ]
    },
    {
      "cell_type": "markdown",
      "source": [
        "###Dados socioeconômicos e macroeconômicos"
      ],
      "metadata": {
        "id": "BlXmyiEq0bhu"
      }
    },
    {
      "cell_type": "code",
      "source": [
        "sns.countplot(x='Devedor', hue='Target', data=students)\n",
        "plt.show()"
      ],
      "metadata": {
        "colab": {
          "base_uri": "https://localhost:8080/"
        },
        "id": "-R0B2ZoV0dfq",
        "outputId": "0c44a8b1-1556-4b43-9208-1d441f286357"
      },
      "execution_count": null,
      "outputs": [
        {
          "output_type": "display_data",
          "data": {
            "text/plain": [
              "<Figure size 640x480 with 1 Axes>"
            ],
            "image/png": "[encoded data removed]"
          },
          "metadata": {}
        }
      ]
    },
    {
      "cell_type": "code",
      "source": [
        "sns.countplot(x='Taxas de matrícula em dia', hue='Target', data=students)\n",
        "plt.show()"
      ],
      "metadata": {
        "colab": {
          "base_uri": "https://localhost:8080/"
        },
        "id": "Y12_XPdw06fk",
        "outputId": "57dea554-11c9-4d1d-cc61-9e684e79370f"
      },
      "execution_count": null,
      "outputs": [
        {
          "output_type": "display_data",
          "data": {
            "text/plain": [
              "<Figure size 640x480 with 1 Axes>"
            ],
            "image/png": "[encoded data removed]"
          },
          "metadata": {}
        }
      ]
    },
    {
      "cell_type": "code",
      "source": [
        "sns.countplot(x='Bolsista', hue='Target', data=students)\n",
        "plt.show()"
      ],
      "metadata": {
        "colab": {
          "base_uri": "https://localhost:8080/"
        },
        "id": "ZfBf-omx1EUK",
        "outputId": "cb7f6fc8-d407-485a-8334-bb88a009fce9"
      },
      "execution_count": null,
      "outputs": [
        {
          "output_type": "display_data",
          "data": {
            "text/plain": [
              "<Figure size 640x480 with 1 Axes>"
            ],
            "image/png": "[encoded data removed]"
          },
          "metadata": {}
        }
      ]
    },
    {
      "cell_type": "markdown",
      "source": [
        "###Dados no momento da matrícula"
      ],
      "metadata": {
        "id": "eGHNTqO82qCy"
      }
    },
    {
      "cell_type": "code",
      "source": [
        "import plotly.express as px"
      ],
      "metadata": {
        "id": "lvPN3NZp2tee"
      },
      "execution_count": null,
      "outputs": []
    },
    {
      "cell_type": "code",
      "source": [
        "contagem = students.groupby(['Curso', 'Target']).size().reset_index(name='Contagem')\n",
        "\n",
        "contagem['Porcentagem'] = contagem.groupby('Curso')['Contagem'].transform(lambda x: (x/x.sum())*100)\n",
        "\n",
        "fig = px.bar(contagem, y='Curso', x='Porcentagem', color='Target', orientation='h', color_discrete_map={'Desistente': '#e34c42', 'Graduado': '#4dc471', 'Matriculado': '#3b71db'})\n",
        "\n",
        "fig.show()"
      ],
      "metadata": {
        "colab": {
          "base_uri": "https://localhost:8080/"
        },
        "id": "kHgtZrDS22-k",
        "outputId": "c10edaf2-dc5d-4408-de25-022bb6744f5c"
      },
      "execution_count": null,
      "outputs": [
        {
          "output_type": "display_data",
          "data": {
            "text/html": [
              "<html>\n",
              "<head><meta charset=\"utf-8\" /></head>\n",
              "<body>\n",
              "    <div>            <script src=\"https://cdnjs.cloudflare.com/ajax/libs/mathjax/2.7.5/MathJax.js?config=TeX-AMS-MML_SVG\"></script><script type=\"text/javascript\">if (window.MathJax && window.MathJax.Hub && window.MathJax.Hub.Config) {window.MathJax.Hub.Config({SVG: {font: \"STIX-Web\"}});}</script>                <script type=\"text/javascript\">window.PlotlyConfig = {MathJaxConfig: 'local'};</script>\n",
              "        <script charset=\"utf-8\" src=\"https://cdn.plot.ly/plotly-2.24.1.min.js\"></script>                <div id=\"3283318b-93f8-401a-a87b-f8194954401d\" class=\"plotly-graph-div\" style=\"height:525px; width:100%;\"></div>            <script type=\"text/javascript\">                                    window.PLOTLYENV=window.PLOTLYENV || {};                                    if (document.getElementById(\"3283318b-93f8-401a-a87b-f8194954401d\")) {                    Plotly.newPlot(                        \"3283318b-93f8-401a-a87b-f8194954401d\",                        [{\"alignmentgroup\":\"True\",\"hovertemplate\":\"Target=Desistente\\u003cbr\\u003ePorcentagem=%{x}\\u003cbr\\u003eCurso=%{y}\\u003cextra\\u003e\\u003c\\u002fextra\\u003e\",\"legendgroup\":\"Desistente\",\"marker\":{\"color\":\"#e34c42\",\"pattern\":{\"shape\":\"\"}},\"name\":\"Desistente\",\"offsetgroup\":\"Desistente\",\"orientation\":\"h\",\"showlegend\":true,\"textposition\":\"auto\",\"x\":[40.95238095238095,38.139534883720934,22.566371681415927,44.27083333333333,15.404699738903393,26.706231454005934,54.11764705882353,35.26315789473684,50.74626865671642,35.44776119402985,30.513595166163142,38.372093023255815,18.30985915492958,33.02325581395349,66.66666666666666,38.095238095238095,55.319148936170215],\"xaxis\":\"x\",\"y\":[\"Agronomia\",\"Anima\\u00e7\\u00e3o e Design Multim\\u00eddia\",\"Design de Comunica\\u00e7\\u00e3o\",\"Educa\\u00e7\\u00e3o B\\u00e1sica\",\"Enfermagem\",\"Enfermagem Veterin\\u00e1ria\",\"Engenharia da computa\\u00e7\\u00e3o\",\"Gest\\u00e3o\",\"Gest\\u00e3o (noturno)\",\"Gest\\u00e3o de Publicidade e Marketing\",\"Jornalismo e Comunica\\u00e7\\u00e3o\",\"Odontologia\",\"Servi\\u00e7o Social\",\"Servi\\u00e7o Social (noturno)\",\"Tecnologias de Produ\\u00e7\\u00e3o de Biocombust\\u00edveis\",\"Turismo\",\"Zootecnia\"],\"yaxis\":\"y\",\"type\":\"bar\"},{\"alignmentgroup\":\"True\",\"hovertemplate\":\"Target=Graduado\\u003cbr\\u003ePorcentagem=%{x}\\u003cbr\\u003eCurso=%{y}\\u003cextra\\u003e\\u003c\\u002fextra\\u003e\",\"legendgroup\":\"Graduado\",\"marker\":{\"color\":\"#4dc471\",\"pattern\":{\"shape\":\"\"}},\"name\":\"Graduado\",\"offsetgroup\":\"Graduado\",\"orientation\":\"h\",\"showlegend\":true,\"textposition\":\"auto\",\"x\":[41.42857142857143,44.651162790697676,58.849557522123895,29.6875,71.54046997389034,51.038575667655785,8.235294117647058,36.31578947368421,29.1044776119403,46.64179104477612,59.21450151057401,41.86046511627907,69.85915492957746,57.20930232558139,8.333333333333332,45.63492063492063,29.78723404255319],\"xaxis\":\"x\",\"y\":[\"Agronomia\",\"Anima\\u00e7\\u00e3o e Design Multim\\u00eddia\",\"Design de Comunica\\u00e7\\u00e3o\",\"Educa\\u00e7\\u00e3o B\\u00e1sica\",\"Enfermagem\",\"Enfermagem Veterin\\u00e1ria\",\"Engenharia da computa\\u00e7\\u00e3o\",\"Gest\\u00e3o\",\"Gest\\u00e3o (noturno)\",\"Gest\\u00e3o de Publicidade e Marketing\",\"Jornalismo e Comunica\\u00e7\\u00e3o\",\"Odontologia\",\"Servi\\u00e7o Social\",\"Servi\\u00e7o Social (noturno)\",\"Tecnologias de Produ\\u00e7\\u00e3o de Biocombust\\u00edveis\",\"Turismo\",\"Zootecnia\"],\"yaxis\":\"y\",\"type\":\"bar\"},{\"alignmentgroup\":\"True\",\"hovertemplate\":\"Target=Matriculado\\u003cbr\\u003ePorcentagem=%{x}\\u003cbr\\u003eCurso=%{y}\\u003cextra\\u003e\\u003c\\u002fextra\\u003e\",\"legendgroup\":\"Matriculado\",\"marker\":{\"color\":\"#3b71db\",\"pattern\":{\"shape\":\"\"}},\"name\":\"Matriculado\",\"offsetgroup\":\"Matriculado\",\"orientation\":\"h\",\"showlegend\":true,\"textposition\":\"auto\",\"x\":[17.61904761904762,17.209302325581397,18.58407079646018,26.041666666666668,13.054830287206268,22.255192878338278,37.64705882352941,28.421052631578945,20.149253731343283,17.91044776119403,10.27190332326284,19.767441860465116,11.830985915492958,9.767441860465116,25.0,16.26984126984127,14.893617021276595],\"xaxis\":\"x\",\"y\":[\"Agronomia\",\"Anima\\u00e7\\u00e3o e Design Multim\\u00eddia\",\"Design de Comunica\\u00e7\\u00e3o\",\"Educa\\u00e7\\u00e3o B\\u00e1sica\",\"Enfermagem\",\"Enfermagem Veterin\\u00e1ria\",\"Engenharia da computa\\u00e7\\u00e3o\",\"Gest\\u00e3o\",\"Gest\\u00e3o (noturno)\",\"Gest\\u00e3o de Publicidade e Marketing\",\"Jornalismo e Comunica\\u00e7\\u00e3o\",\"Odontologia\",\"Servi\\u00e7o Social\",\"Servi\\u00e7o Social (noturno)\",\"Tecnologias de Produ\\u00e7\\u00e3o de Biocombust\\u00edveis\",\"Turismo\",\"Zootecnia\"],\"yaxis\":\"y\",\"type\":\"bar\"}],                        {\"template\":{\"data\":{\"histogram2dcontour\":[{\"type\":\"histogram2dcontour\",\"colorbar\":{\"outlinewidth\":0,\"ticks\":\"\"},\"colorscale\":[[0.0,\"#0d0887\"],[0.1111111111111111,\"#46039f\"],[0.2222222222222222,\"#7201a8\"],[0.3333333333333333,\"#9c179e\"],[0.4444444444444444,\"#bd3786\"],[0.5555555555555556,\"#d8576b\"],[0.6666666666666666,\"#ed7953\"],[0.7777777777777778,\"#fb9f3a\"],[0.8888888888888888,\"#fdca26\"],[1.0,\"#f0f921\"]]}],\"choropleth\":[{\"type\":\"choropleth\",\"colorbar\":{\"outlinewidth\":0,\"ticks\":\"\"}}],\"histogram2d\":[{\"type\":\"histogram2d\",\"colorbar\":{\"outlinewidth\":0,\"ticks\":\"\"},\"colorscale\":[[0.0,\"#0d0887\"],[0.1111111111111111,\"#46039f\"],[0.2222222222222222,\"#7201a8\"],[0.3333333333333333,\"#9c179e\"],[0.4444444444444444,\"#bd3786\"],[0.5555555555555556,\"#d8576b\"],[0.6666666666666666,\"#ed7953\"],[0.7777777777777778,\"#fb9f3a\"],[0.8888888888888888,\"#fdca26\"],[1.0,\"#f0f921\"]]}],\"heatmap\":[{\"type\":\"heatmap\",\"colorbar\":{\"outlinewidth\":0,\"ticks\":\"\"},\"colorscale\":[[0.0,\"#0d0887\"],[0.1111111111111111,\"#46039f\"],[0.2222222222222222,\"#7201a8\"],[0.3333333333333333,\"#9c179e\"],[0.4444444444444444,\"#bd3786\"],[0.5555555555555556,\"#d8576b\"],[0.6666666666666666,\"#ed7953\"],[0.7777777777777778,\"#fb9f3a\"],[0.8888888888888888,\"#fdca26\"],[1.0,\"#f0f921\"]]}],\"heatmapgl\":[{\"type\":\"heatmapgl\",\"colorbar\":{\"outlinewidth\":0,\"ticks\":\"\"},\"colorscale\":[[0.0,\"#0d0887\"],[0.1111111111111111,\"#46039f\"],[0.2222222222222222,\"#7201a8\"],[0.3333333333333333,\"#9c179e\"],[0.4444444444444444,\"#bd3786\"],[0.5555555555555556,\"#d8576b\"],[0.6666666666666666,\"#ed7953\"],[0.7777777777777778,\"#fb9f3a\"],[0.8888888888888888,\"#fdca26\"],[1.0,\"#f0f921\"]]}],\"contourcarpet\":[{\"type\":\"contourcarpet\",\"colorbar\":{\"outlinewidth\":0,\"ticks\":\"\"}}],\"contour\":[{\"type\":\"contour\",\"colorbar\":{\"outlinewidth\":0,\"ticks\":\"\"},\"colorscale\":[[0.0,\"#0d0887\"],[0.1111111111111111,\"#46039f\"],[0.2222222222222222,\"#7201a8\"],[0.3333333333333333,\"#9c179e\"],[0.4444444444444444,\"#bd3786\"],[0.5555555555555556,\"#d8576b\"],[0.6666666666666666,\"#ed7953\"],[0.7777777777777778,\"#fb9f3a\"],[0.8888888888888888,\"#fdca26\"],[1.0,\"#f0f921\"]]}],\"surface\":[{\"type\":\"surface\",\"colorbar\":{\"outlinewidth\":0,\"ticks\":\"\"},\"colorscale\":[[0.0,\"#0d0887\"],[0.1111111111111111,\"#46039f\"],[0.2222222222222222,\"#7201a8\"],[0.3333333333333333,\"#9c179e\"],[0.4444444444444444,\"#bd3786\"],[0.5555555555555556,\"#d8576b\"],[0.6666666666666666,\"#ed7953\"],[0.7777777777777778,\"#fb9f3a\"],[0.8888888888888888,\"#fdca26\"],[1.0,\"#f0f921\"]]}],\"mesh3d\":[{\"type\":\"mesh3d\",\"colorbar\":{\"outlinewidth\":0,\"ticks\":\"\"}}],\"scatter\":[{\"fillpattern\":{\"fillmode\":\"overlay\",\"size\":10,\"solidity\":0.2},\"type\":\"scatter\"}],\"parcoords\":[{\"type\":\"parcoords\",\"line\":{\"colorbar\":{\"outlinewidth\":0,\"ticks\":\"\"}}}],\"scatterpolargl\":[{\"type\":\"scatterpolargl\",\"marker\":{\"colorbar\":{\"outlinewidth\":0,\"ticks\":\"\"}}}],\"bar\":[{\"error_x\":{\"color\":\"#2a3f5f\"},\"error_y\":{\"color\":\"#2a3f5f\"},\"marker\":{\"line\":{\"color\":\"#E5ECF6\",\"width\":0.5},\"pattern\":{\"fillmode\":\"overlay\",\"size\":10,\"solidity\":0.2}},\"type\":\"bar\"}],\"scattergeo\":[{\"type\":\"scattergeo\",\"marker\":{\"colorbar\":{\"outlinewidth\":0,\"ticks\":\"\"}}}],\"scatterpolar\":[{\"type\":\"scatterpolar\",\"marker\":{\"colorbar\":{\"outlinewidth\":0,\"ticks\":\"\"}}}],\"histogram\":[{\"marker\":{\"pattern\":{\"fillmode\":\"overlay\",\"size\":10,\"solidity\":0.2}},\"type\":\"histogram\"}],\"scattergl\":[{\"type\":\"scattergl\",\"marker\":{\"colorbar\":{\"outlinewidth\":0,\"ticks\":\"\"}}}],\"scatter3d\":[{\"type\":\"scatter3d\",\"line\":{\"colorbar\":{\"outlinewidth\":0,\"ticks\":\"\"}},\"marker\":{\"colorbar\":{\"outlinewidth\":0,\"ticks\":\"\"}}}],\"scattermapbox\":[{\"type\":\"scattermapbox\",\"marker\":{\"colorbar\":{\"outlinewidth\":0,\"ticks\":\"\"}}}],\"scatterternary\":[{\"type\":\"scatterternary\",\"marker\":{\"colorbar\":{\"outlinewidth\":0,\"ticks\":\"\"}}}],\"scattercarpet\":[{\"type\":\"scattercarpet\",\"marker\":{\"colorbar\":{\"outlinewidth\":0,\"ticks\":\"\"}}}],\"carpet\":[{\"aaxis\":{\"endlinecolor\":\"#2a3f5f\",\"gridcolor\":\"white\",\"linecolor\":\"white\",\"minorgridcolor\":\"white\",\"startlinecolor\":\"#2a3f5f\"},\"baxis\":{\"endlinecolor\":\"#2a3f5f\",\"gridcolor\":\"white\",\"linecolor\":\"white\",\"minorgridcolor\":\"white\",\"startlinecolor\":\"#2a3f5f\"},\"type\":\"carpet\"}],\"table\":[{\"cells\":{\"fill\":{\"color\":\"#EBF0F8\"},\"line\":{\"color\":\"white\"}},\"header\":{\"fill\":{\"color\":\"#C8D4E3\"},\"line\":{\"color\":\"white\"}},\"type\":\"table\"}],\"barpolar\":[{\"marker\":{\"line\":{\"color\":\"#E5ECF6\",\"width\":0.5},\"pattern\":{\"fillmode\":\"overlay\",\"size\":10,\"solidity\":0.2}},\"type\":\"barpolar\"}],\"pie\":[{\"automargin\":true,\"type\":\"pie\"}]},\"layout\":{\"autotypenumbers\":\"strict\",\"colorway\":[\"#636efa\",\"#EF553B\",\"#00cc96\",\"#ab63fa\",\"#FFA15A\",\"#19d3f3\",\"#FF6692\",\"#B6E880\",\"#FF97FF\",\"#FECB52\"],\"font\":{\"color\":\"#2a3f5f\"},\"hovermode\":\"closest\",\"hoverlabel\":{\"align\":\"left\"},\"paper_bgcolor\":\"white\",\"plot_bgcolor\":\"#E5ECF6\",\"polar\":{\"bgcolor\":\"#E5ECF6\",\"angularaxis\":{\"gridcolor\":\"white\",\"linecolor\":\"white\",\"ticks\":\"\"},\"radialaxis\":{\"gridcolor\":\"white\",\"linecolor\":\"white\",\"ticks\":\"\"}},\"ternary\":{\"bgcolor\":\"#E5ECF6\",\"aaxis\":{\"gridcolor\":\"white\",\"linecolor\":\"white\",\"ticks\":\"\"},\"baxis\":{\"gridcolor\":\"white\",\"linecolor\":\"white\",\"ticks\":\"\"},\"caxis\":{\"gridcolor\":\"white\",\"linecolor\":\"white\",\"ticks\":\"\"}},\"coloraxis\":{\"colorbar\":{\"outlinewidth\":0,\"ticks\":\"\"}},\"colorscale\":{\"sequential\":[[0.0,\"#0d0887\"],[0.1111111111111111,\"#46039f\"],[0.2222222222222222,\"#7201a8\"],[0.3333333333333333,\"#9c179e\"],[0.4444444444444444,\"#bd3786\"],[0.5555555555555556,\"#d8576b\"],[0.6666666666666666,\"#ed7953\"],[0.7777777777777778,\"#fb9f3a\"],[0.8888888888888888,\"#fdca26\"],[1.0,\"#f0f921\"]],\"sequentialminus\":[[0.0,\"#0d0887\"],[0.1111111111111111,\"#46039f\"],[0.2222222222222222,\"#7201a8\"],[0.3333333333333333,\"#9c179e\"],[0.4444444444444444,\"#bd3786\"],[0.5555555555555556,\"#d8576b\"],[0.6666666666666666,\"#ed7953\"],[0.7777777777777778,\"#fb9f3a\"],[0.8888888888888888,\"#fdca26\"],[1.0,\"#f0f921\"]],\"diverging\":[[0,\"#8e0152\"],[0.1,\"#c51b7d\"],[0.2,\"#de77ae\"],[0.3,\"#f1b6da\"],[0.4,\"#fde0ef\"],[0.5,\"#f7f7f7\"],[0.6,\"#e6f5d0\"],[0.7,\"#b8e186\"],[0.8,\"#7fbc41\"],[0.9,\"#4d9221\"],[1,\"#276419\"]]},\"xaxis\":{\"gridcolor\":\"white\",\"linecolor\":\"white\",\"ticks\":\"\",\"title\":{\"standoff\":15},\"zerolinecolor\":\"white\",\"automargin\":true,\"zerolinewidth\":2},\"yaxis\":{\"gridcolor\":\"white\",\"linecolor\":\"white\",\"ticks\":\"\",\"title\":{\"standoff\":15},\"zerolinecolor\":\"white\",\"automargin\":true,\"zerolinewidth\":2},\"scene\":{\"xaxis\":{\"backgroundcolor\":\"#E5ECF6\",\"gridcolor\":\"white\",\"linecolor\":\"white\",\"showbackground\":true,\"ticks\":\"\",\"zerolinecolor\":\"white\",\"gridwidth\":2},\"yaxis\":{\"backgroundcolor\":\"#E5ECF6\",\"gridcolor\":\"white\",\"linecolor\":\"white\",\"showbackground\":true,\"ticks\":\"\",\"zerolinecolor\":\"white\",\"gridwidth\":2},\"zaxis\":{\"backgroundcolor\":\"#E5ECF6\",\"gridcolor\":\"white\",\"linecolor\":\"white\",\"showbackground\":true,\"ticks\":\"\",\"zerolinecolor\":\"white\",\"gridwidth\":2}},\"shapedefaults\":{\"line\":{\"color\":\"#2a3f5f\"}},\"annotationdefaults\":{\"arrowcolor\":\"#2a3f5f\",\"arrowhead\":0,\"arrowwidth\":1},\"geo\":{\"bgcolor\":\"white\",\"landcolor\":\"#E5ECF6\",\"subunitcolor\":\"white\",\"showland\":true,\"showlakes\":true,\"lakecolor\":\"white\"},\"title\":{\"x\":0.05},\"mapbox\":{\"style\":\"light\"}}},\"xaxis\":{\"anchor\":\"y\",\"domain\":[0.0,1.0],\"title\":{\"text\":\"Porcentagem\"}},\"yaxis\":{\"anchor\":\"x\",\"domain\":[0.0,1.0],\"title\":{\"text\":\"Curso\"}},\"legend\":{\"title\":{\"text\":\"Target\"},\"tracegroupgap\":0},\"margin\":{\"t\":60},\"barmode\":\"relative\"},                        {\"responsive\": true}                    ).then(function(){\n",
              "                            \n",
              "var gd = document.getElementById('3283318b-93f8-401a-a87b-f8194954401d');\n",
              "var x = new MutationObserver(function (mutations, observer) {{\n",
              "        var display = window.getComputedStyle(gd).display;\n",
              "        if (!display || display === 'none') {{\n",
              "            console.log([gd, 'removed!']);\n",
              "            Plotly.purge(gd);\n",
              "            observer.disconnect();\n",
              "        }}\n",
              "}});\n",
              "\n",
              "// Listen for the removal of the full notebook cells\n",
              "var notebookContainer = gd.closest('#notebook-container');\n",
              "if (notebookContainer) {{\n",
              "    x.observe(notebookContainer, {childList: true});\n",
              "}}\n",
              "\n",
              "// Listen for the clearing of the current output cell\n",
              "var outputEl = gd.closest('.output');\n",
              "if (outputEl) {{\n",
              "    x.observe(outputEl, {childList: true});\n",
              "}}\n",
              "\n",
              "                        })                };                            </script>        </div>\n",
              "</body>\n",
              "</html>"
            ]
          },
          "metadata": {}
        }
      ]
    },
    {
      "cell_type": "markdown",
      "source": [
        "###Dados acadêmicos"
      ],
      "metadata": {
        "id": "qjFjVoEy5Afv"
      }
    },
    {
      "cell_type": "code",
      "source": [
        "sns.boxplot(x='Target', y='disciplinas 1º semestre (notas)', data=students)\n",
        "plt.show()"
      ],
      "metadata": {
        "colab": {
          "base_uri": "https://localhost:8080/"
        },
        "id": "suBaI5RJ5C7Y",
        "outputId": "f8ac221d-3293-4056-e3f3-a730ac51a449"
      },
      "execution_count": null,
      "outputs": [
        {
          "output_type": "display_data",
          "data": {
            "text/plain": [
              "<Figure size 640x480 with 1 Axes>"
            ],
            "image/png": "[encoded data removed]"
          },
          "metadata": {}
        }
      ]
    },
    {
      "cell_type": "code",
      "source": [
        "sns.boxplot(x='Target', y='disciplinas 2º semestre (notas)', data=students)\n",
        "plt.show()"
      ],
      "metadata": {
        "colab": {
          "base_uri": "https://localhost:8080/"
        },
        "id": "oOe5mLdo5tjA",
        "outputId": "318fced0-4686-420c-da62-f8dc625a7aaf"
      },
      "execution_count": null,
      "outputs": [
        {
          "output_type": "display_data",
          "data": {
            "text/plain": [
              "<Figure size 640x480 with 1 Axes>"
            ],
            "image/png": "[encoded data removed]"
          },
          "metadata": {}
        }
      ]
    },
    {
      "cell_type": "code",
      "source": [
        "students['Target'].value_counts(normalize=True)*100"
      ],
      "metadata": {
        "colab": {
          "base_uri": "https://localhost:8080/"
        },
        "id": "v8KOdr9g58FH",
        "outputId": "3c911eb8-7694-4837-a5f3-7af6fda56a16"
      },
      "execution_count": null,
      "outputs": [
        {
          "output_type": "execute_result",
          "data": {
            "text/plain": [
              "Target\n",
              "Graduado       49.932188\n",
              "Desistente     32.120253\n",
              "Matriculado    17.947559\n",
              "Name: proportion, dtype: float64"
            ],
            "text/html": [
              "<div>\n",
              "<style scoped>\n",
              "    .dataframe tbody tr th:only-of-type {\n",
              "        vertical-align: middle;\n",
              "    }\n",
              "\n",
              "    .dataframe tbody tr th {\n",
              "        vertical-align: top;\n",
              "    }\n",
              "\n",
              "    .dataframe thead th {\n",
              "        text-align: right;\n",
              "    }\n",
              "</style>\n",
              "<table border=\"1\" class=\"dataframe\">\n",
              "  <thead>\n",
              "    <tr style=\"text-align: right;\">\n",
              "      <th></th>\n",
              "      <th>proportion</th>\n",
              "    </tr>\n",
              "    <tr>\n",
              "      <th>Target</th>\n",
              "      <th></th>\n",
              "    </tr>\n",
              "  </thead>\n",
              "  <tbody>\n",
              "    <tr>\n",
              "      <th>Graduado</th>\n",
              "      <td>49.932188</td>\n",
              "    </tr>\n",
              "    <tr>\n",
              "      <th>Desistente</th>\n",
              "      <td>32.120253</td>\n",
              "    </tr>\n",
              "    <tr>\n",
              "      <th>Matriculado</th>\n",
              "      <td>17.947559</td>\n",
              "    </tr>\n",
              "  </tbody>\n",
              "</table>\n",
              "</div><br><label><b>dtype:</b> float64</label>"
            ]
          },
          "metadata": {},
          "execution_count": 32
        }
      ]
    },
    {
      "cell_type": "code",
      "source": [
        "sns.countplot(x='Migração', hue='Target', data=students)\n",
        "plt.show()"
      ],
      "metadata": {
        "colab": {
          "base_uri": "https://localhost:8080/"
        },
        "id": "hU71dcR86pD_",
        "outputId": "8b97a1c3-3519-49bd-a8fe-bf3683d0a7e7"
      },
      "execution_count": null,
      "outputs": [
        {
          "output_type": "display_data",
          "data": {
            "text/plain": [
              "<Figure size 640x480 with 1 Axes>"
            ],
            "image/png": "[encoded data removed]"
          },
          "metadata": {}
        }
      ]
    },
    {
      "cell_type": "code",
      "source": [
        "students.groupby('Target')['Necessidades educacionais especiais'].value_counts(normalize=True)*100"
      ],
      "metadata": {
        "colab": {
          "base_uri": "https://localhost:8080/"
        },
        "id": "24_kC3Ex7blI",
        "outputId": "4d912759-1fa2-4b65-b9f3-0135263bac9b"
      },
      "execution_count": null,
      "outputs": [
        {
          "output_type": "execute_result",
          "data": {
            "text/plain": [
              "Target       Necessidades educacionais especiais\n",
              "Desistente   Não                                    98.803659\n",
              "             Sim                                     1.196341\n",
              "Graduado     Não                                    98.958805\n",
              "             Sim                                     1.041195\n",
              "Matriculado  Não                                    98.614610\n",
              "             Sim                                     1.385390\n",
              "Name: proportion, dtype: float64"
            ],
            "text/html": [
              "<div>\n",
              "<style scoped>\n",
              "    .dataframe tbody tr th:only-of-type {\n",
              "        vertical-align: middle;\n",
              "    }\n",
              "\n",
              "    .dataframe tbody tr th {\n",
              "        vertical-align: top;\n",
              "    }\n",
              "\n",
              "    .dataframe thead th {\n",
              "        text-align: right;\n",
              "    }\n",
              "</style>\n",
              "<table border=\"1\" class=\"dataframe\">\n",
              "  <thead>\n",
              "    <tr style=\"text-align: right;\">\n",
              "      <th></th>\n",
              "      <th></th>\n",
              "      <th>proportion</th>\n",
              "    </tr>\n",
              "    <tr>\n",
              "      <th>Target</th>\n",
              "      <th>Necessidades educacionais especiais</th>\n",
              "      <th></th>\n",
              "    </tr>\n",
              "  </thead>\n",
              "  <tbody>\n",
              "    <tr>\n",
              "      <th rowspan=\"2\" valign=\"top\">Desistente</th>\n",
              "      <th>Não</th>\n",
              "      <td>98.803659</td>\n",
              "    </tr>\n",
              "    <tr>\n",
              "      <th>Sim</th>\n",
              "      <td>1.196341</td>\n",
              "    </tr>\n",
              "    <tr>\n",
              "      <th rowspan=\"2\" valign=\"top\">Graduado</th>\n",
              "      <th>Não</th>\n",
              "      <td>98.958805</td>\n",
              "    </tr>\n",
              "    <tr>\n",
              "      <th>Sim</th>\n",
              "      <td>1.041195</td>\n",
              "    </tr>\n",
              "    <tr>\n",
              "      <th rowspan=\"2\" valign=\"top\">Matriculado</th>\n",
              "      <th>Não</th>\n",
              "      <td>98.614610</td>\n",
              "    </tr>\n",
              "    <tr>\n",
              "      <th>Sim</th>\n",
              "      <td>1.385390</td>\n",
              "    </tr>\n",
              "  </tbody>\n",
              "</table>\n",
              "</div><br><label><b>dtype:</b> float64</label>"
            ]
          },
          "metadata": {},
          "execution_count": 34
        }
      ]
    },
    {
      "cell_type": "code",
      "source": [
        "sns.boxplot(x='Target', y='Taxa de desemprego', data=students)\n",
        "plt.show()"
      ],
      "metadata": {
        "colab": {
          "base_uri": "https://localhost:8080/"
        },
        "id": "3pUTiCFu8T8R",
        "outputId": "0758162e-3497-4382-cd7e-9f552a4b9920"
      },
      "execution_count": null,
      "outputs": [
        {
          "output_type": "display_data",
          "data": {
            "text/plain": [
              "<Figure size 640x480 with 1 Axes>"
            ],
            "image/png": "[encoded data removed]"
          },
          "metadata": {}
        }
      ]
    },
    {
      "cell_type": "code",
      "source": [
        "sns.boxplot(x='Target', y='Taxa de inflação', data=students)\n",
        "plt.show()"
      ],
      "metadata": {
        "colab": {
          "base_uri": "https://localhost:8080/"
        },
        "id": "iwGJ2hbu8_ig",
        "outputId": "060905ee-77cd-41c5-a09a-20fe0f3e84c5"
      },
      "execution_count": null,
      "outputs": [
        {
          "output_type": "display_data",
          "data": {
            "text/plain": [
              "<Figure size 640x480 with 1 Axes>"
            ],
            "image/png": "[encoded data removed]"
          },
          "metadata": {}
        }
      ]
    },
    {
      "cell_type": "code",
      "source": [
        "sns.boxplot(x='Target', y='PIB', data=students)\n",
        "plt.show()"
      ],
      "metadata": {
        "colab": {
          "base_uri": "https://localhost:8080/"
        },
        "id": "X5E5Kty89YDW",
        "outputId": "f9c3e067-c79d-454d-b17e-adf31deafe56"
      },
      "execution_count": null,
      "outputs": [
        {
          "output_type": "display_data",
          "data": {
            "text/plain": [
              "<Figure size 640x480 with 1 Axes>"
            ],
            "image/png": "[encoded data removed]"
          },
          "metadata": {}
        }
      ]
    },
    {
      "cell_type": "code",
      "source": [
        "students['Qualificação prévia'].value_counts(normalize=True)*100"
      ],
      "metadata": {
        "colab": {
          "base_uri": "https://localhost:8080/"
        },
        "id": "zlaOBQlh9mzy",
        "outputId": "8256c409-4c9c-40ee-8c9e-b657993a01f9"
      },
      "execution_count": null,
      "outputs": [
        {
          "output_type": "execute_result",
          "data": {
            "text/plain": [
              "Qualificação prévia\n",
              "Educação secundária                                         84.018987\n",
              "Curso de especialização tecnológica                          4.950271\n",
              "Educação básica 3º ciclo (9º/10º/11º ano) ou equivalente     3.661844\n",
              "Educação superior - licenciatura                             2.848101\n",
              "Outro - 11º ano de escolaridade                              1.017179\n",
              "Educação superior - licenciatura (1º ciclo)                  0.904159\n",
              "Curso técnico superior profissional                          0.813743\n",
              "Educação superior - bacharelado                              0.519892\n",
              "Frequência de educação superior                              0.361664\n",
              "12º ano de escolaridade - não concluído                      0.248644\n",
              "Educação superior - mestrado                                 0.180832\n",
              "Educação básica 2º ciclo (6º/7º/8º ano) ou equivalente       0.158228\n",
              "Educação superior - mestrado (2º ciclo)                      0.135624\n",
              "11º ano de escolaridade - não concluído                      0.090416\n",
              "10º ano de escolaridade - não concluído                      0.045208\n",
              "Educação superior - doutorado                                0.022604\n",
              "10º ano de escolaridade                                      0.022604\n",
              "Name: proportion, dtype: float64"
            ],
            "text/html": [
              "<div>\n",
              "<style scoped>\n",
              "    .dataframe tbody tr th:only-of-type {\n",
              "        vertical-align: middle;\n",
              "    }\n",
              "\n",
              "    .dataframe tbody tr th {\n",
              "        vertical-align: top;\n",
              "    }\n",
              "\n",
              "    .dataframe thead th {\n",
              "        text-align: right;\n",
              "    }\n",
              "</style>\n",
              "<table border=\"1\" class=\"dataframe\">\n",
              "  <thead>\n",
              "    <tr style=\"text-align: right;\">\n",
              "      <th></th>\n",
              "      <th>proportion</th>\n",
              "    </tr>\n",
              "    <tr>\n",
              "      <th>Qualificação prévia</th>\n",
              "      <th></th>\n",
              "    </tr>\n",
              "  </thead>\n",
              "  <tbody>\n",
              "    <tr>\n",
              "      <th>Educação secundária</th>\n",
              "      <td>84.018987</td>\n",
              "    </tr>\n",
              "    <tr>\n",
              "      <th>Curso de especialização tecnológica</th>\n",
              "      <td>4.950271</td>\n",
              "    </tr>\n",
              "    <tr>\n",
              "      <th>Educação básica 3º ciclo (9º/10º/11º ano) ou equivalente</th>\n",
              "      <td>3.661844</td>\n",
              "    </tr>\n",
              "    <tr>\n",
              "      <th>Educação superior - licenciatura</th>\n",
              "      <td>2.848101</td>\n",
              "    </tr>\n",
              "    <tr>\n",
              "      <th>Outro - 11º ano de escolaridade</th>\n",
              "      <td>1.017179</td>\n",
              "    </tr>\n",
              "    <tr>\n",
              "      <th>Educação superior - licenciatura (1º ciclo)</th>\n",
              "      <td>0.904159</td>\n",
              "    </tr>\n",
              "    <tr>\n",
              "      <th>Curso técnico superior profissional</th>\n",
              "      <td>0.813743</td>\n",
              "    </tr>\n",
              "    <tr>\n",
              "      <th>Educação superior - bacharelado</th>\n",
              "      <td>0.519892</td>\n",
              "    </tr>\n",
              "    <tr>\n",
              "      <th>Frequência de educação superior</th>\n",
              "      <td>0.361664</td>\n",
              "    </tr>\n",
              "    <tr>\n",
              "      <th>12º ano de escolaridade - não concluído</th>\n",
              "      <td>0.248644</td>\n",
              "    </tr>\n",
              "    <tr>\n",
              "      <th>Educação superior - mestrado</th>\n",
              "      <td>0.180832</td>\n",
              "    </tr>\n",
              "    <tr>\n",
              "      <th>Educação básica 2º ciclo (6º/7º/8º ano) ou equivalente</th>\n",
              "      <td>0.158228</td>\n",
              "    </tr>\n",
              "    <tr>\n",
              "      <th>Educação superior - mestrado (2º ciclo)</th>\n",
              "      <td>0.135624</td>\n",
              "    </tr>\n",
              "    <tr>\n",
              "      <th>11º ano de escolaridade - não concluído</th>\n",
              "      <td>0.090416</td>\n",
              "    </tr>\n",
              "    <tr>\n",
              "      <th>10º ano de escolaridade - não concluído</th>\n",
              "      <td>0.045208</td>\n",
              "    </tr>\n",
              "    <tr>\n",
              "      <th>Educação superior - doutorado</th>\n",
              "      <td>0.022604</td>\n",
              "    </tr>\n",
              "    <tr>\n",
              "      <th>10º ano de escolaridade</th>\n",
              "      <td>0.022604</td>\n",
              "    </tr>\n",
              "  </tbody>\n",
              "</table>\n",
              "</div><br><label><b>dtype:</b> float64</label>"
            ]
          },
          "metadata": {},
          "execution_count": 38
        }
      ]
    },
    {
      "cell_type": "markdown",
      "source": [
        "![image.png](data:image/png;base64,iVBORw0KGgoAAAANSUhEUgAAAeoAAAEfCAIAAAABUBLHAAAgAElEQVR4Aex9XWsbOxfu+Q26140hF+8LMb1IoWZDTSBmU1PYLgRviDfk+KU4FzUlJpDpoSawHQguYQphAmECnkCYQCYQEIGhBhHQTzssaTQjjb+S1M2Hu0ypxzPS0lqPNI+WltZM/g/BDyKACCACiMALROD/vECdUWVEABFABBABgvSNgwARQAQQgReJANL3i+w2VBoRQAQQAaRvHAOIACKACLxIBJC+X2S3odKIACKACCB94xhABBABROBFIoD0/SK7DZVGBBABRADpG8cAIoAIIAIvEgGk7xfZbag0IoAIIAJI34s1Bj64sUg/sfthoawr7YY8NU4Ifu6UFsq+exjTOTOAuHFr96iKRRcHgRdA39ZIhUHLg52i3QOdIB3Mv/lQXlz6pusuS3tZH0T7FXsk/C6/rJviNx/zv0ufj7HzJdK3EPnxivStu3ZR6ftNJ9CON7/qO4cpkzN3nWrjf6NvpO/fqLMnm/oy6TvvgCN96x5eTPqu9TVdxyftMtA1re4GSZjoNuquavN/m2+k79+mq6cZ+kLpO+eAI33rPl5M+tbW4bdGAOlbI/Fbf79Y+rYc8In0Td+2+oMo1utuccvZhef8VTD7PCkz1PHUW85Z6O236st6VU7LrYMgukmlCD5k4VGvtV7UJQqVTccdRPEwKyN4HJ10G291EbPJ7PhOFa179ayT1h5zfhJ9L1WaX9zgKuapmULwm8jfa0hnNhU57YB+8k3zvE2jsNWuCL8kmxP0baN7EsVpo7ecnbsdG38lpfBXBwBMG7jl8VXgbtdTiMlSzTkKmSEqvgr6H2eoT5frrX0vZJynkoXgLHS3a8YgMMbPVa9MaPmzF+kt4PjCbb7RlmZmcn8LFgHlj26oSrJ+NSlFyx/7APWtHlEwWpzakhZCSNZxMgxY+Mvxr3R7t3F0YhWGZt623AtdgIX9/5Wax4Y9ViyxUPsC9uq2oZeDg5YJU9a6EGL6cMpUzo7uBOmbtq8WTLfM//TbbjBnoP2io5dF31Fwlo1LIwJu3H7ZUKbl3TRemg7m5IB9qytaLW75+rbIlxEXDpDQq9bkEqHzCvql+CUcqaxP3LL+5ODsHSve437L+EUIkWaeFJ0Lrc/o93U/wWLmEKNtk7/jwyzfobwfZYK535bglj5NRI4dNY17utQ80sGRTIo6Yv0/Qa3ChstSNrTL8EHHEJWzoeFN7F1hVDTGj2Dewciw4UFHMbgBLz9u1r8Zal92YbTQsjMwhqipqjESjA5l7v5Ic0II5mad8qE/YjsLzg3D0jG/1HCvzSaN46E2wZw8HkLfd4K0dWqAwP1Wrlvw55wQeFn0zfrbZmJc6uUZt58eynTdKmkMZHXI/S1KSM29GbmSnOD+JyCh2qFxn9hl+amiKUJsXrNLCXHVm5gecbeKxt0+y10y+MWgb2I7znkF756/0Tgy0ABHVX3KvatMZgLLhzRenV0yj9JGayYJmiWESGbQN46VMJgrI0QqavSmqBwYDJuvqMYAIcQYP/kyye/4uAmjwYLXLgpuLK1/N/Cxr8Mv7rfkxGZ16GgxeSbaV+hWTGzHl03GfMk5N0hztKgeh1br9/e+7wKp1YQIsgXjaA/hmZ9A4GXRd+x+KHZMBzz2GmC8cfslQ9n2N3ngvKWEFhvfjZsZnGujooi9f+DeKryut/b96MqVko11rhDxUQNKLK3Ut3r+VeRuZMA3jmJY7H9pVlfL5dWqYyopot7kvbW7VLRuhun3m8UvqfdNCGl4N3E0cJ3Nanm1XH7vWC5fRsSZReOPNkx3NurKxQd51TV9bxlUsfEXzP/SrG929W6jpBblpOcnMM5Oes6e618wfpvMoNacIZi7USCkUPliWJAMg3Eqv3JCLiNdf5fB8E0r+5CfKr/QHAbAsuyk1z1MgiIJDSoX0oLXIsj4e528csxVGD9zypTQ5YbZpAorWR0qhBgyf7/rmg516hfnW4yjQRCkgRSlghrzVtcI9r0BMK2ZHR17csRarU8fTuMQBTNnQVrcznqHn6g5a6wsPPlTCLw4+s57QPJ+MG6/hL6NM+CdaTeRmjdY0LHoWwgIO3aba0ZQlJDOwL5Lr/zuZsUqMRZ/y/c3aXRsaePkuIr3uN+su31au5afmIBmqDHxsNI3lufBDkxndCdLuxejE6qc9hJ5m57hH8rw8bZRV4joqxEIoVS6qlXTjdeESwipGysn1n8/UWP7AnXOjQ5NyMsaLemiynYzJZgWvBCeCvbUhF0uLVNi2ZLN2XTXYPUBeKJWh4qEVfNrQdkpVl2RzGew3DOjE7Jk1VzEGPEKs6PZN4jPW60/gL5tQAkZCymhyyWYL//INi/y9fD3TyPwAumbjDrgxu2nmCh3m3HOh8k/494NOqTYGRep5Nd+ur1p+hFZ3SHzv5h7X4XaVs+7YNzcusxKT6HRO1W8x/1mGW60u1RLdvDSrb9MvVwaz4wxZZKaJFOLSpKAuKWGCHZSmUZPCcG+Ve3YVOhIwk5LywOrirjNujLbG8yi/HZV2PRrOIew7WxuXWamj6NvxXEgyJpKRbCddx3YgRUVs20R6ZAzt4vVVqHVoUOvqbW2zsuRbMvMohAWrcuSVl1htG5MmKp3rJL3p++7QapNwu9ficBLpO/8XRR97WYu3Fj6zu5X80iy28TdnvR5kEIje0jErC7YodxeonXTIbVKJD8MGjX78s4V73G/WbyZtEvXR/e+bDUVaKZuU47NUAlQT8vYz0x2GnMx4kn0HR/WJtGT0b5N37bi6S+jiaxqaSdbwqclrYNx9J2JssCUk5B1hlu5N1O3SbJGR6k2S1mx/WJZ0sLnxq2nxpkrnlGZWXv2kbT3HsMpbU4f3BlSXQG/fyUCL5O+8w44y/LJFBNZt5k9grNfKasWKlv90IiKJ0WMiHBhrdU/Hy0BC2Q7MiviC9/dc5wDc7MtbcjqybtXtO43leEAkqyoQpIBZhmu2rVTBW7j8MTt7jp9c5tLgWZpN+WHGdeO3a9GPCRFzFLj7t535l0azT+Uvu1ItJC5ns6u4xnBH502ZzWRZdSMhnosu/LdalFtNszso1GqneT/ypK2TAOfedH39OFkdAMc3gPSXE38+UsQeKH0nXfAs1skYSLrhkzTkEcgLBSMbNzCWsu9Mpaacse8sGQEupcqrcPIKrFtc+i5Xv1b6+78fS7VuEdFi76HnsyBIORPMyasM1JG+eW9VSzcTcITZkjUSMEcQWjcCTOPJb7Jci0MnC384yO1DUzICCFaQQDBw10j9k0KtY/Nsj1LZaLGKWadsyLRsbuuLo4N1FraJukuhJhhIiFkeH0UXrNJq8UkqdS8nh5bHTqVvnP4eP9T3UdH876t2PeUvdxc7Hv6cEo1VgeWgdMhxdh3Drtf8vPF0nfOAU/5O6Fv00MUgkfedh02UuCfeo5DuYRw3zLwlzvN93C1/q/BznL/B+40FvqH3Y7K2fi7Z5XYslMPb7zm65WV97lpYCx936Oida8KwS+97r6fLTiU7YoFRvnFOiPio+bK65XqlmtYcb/YNwzDfLqI0iDoZJFrKyAuBPO36+W/O8mjHKq4yjzJOXSCs4Hb3feC8yi+TRSzlynZbmF5taqeRWJGBnp2l5j+qeDh1+rK61L9i5X8Mtb7hh3JiyA4Nx59geQQGaG2wBzpVtsWfuV1VLrLarn8d6t3FLLbxH2+O33nwlDiNg4Pe+7A1k2NeTvzJB501ZAur5ar6pmy6+TFhPcYThma8ujOkJo7RnzQyb1hLicVfz4YgZdL3xMc8IS+CZmVdyxDnLbblc4B6kA+tmPdabkCAjysXGpKvgj8HrnPZXfdvaLp7Y6TL89Nou9cds3Y+glo5owyXud0nOUoALLt0ix4VejPnpFNOKZV9k099UObx5n/ni+nFHuVva8qX0D+zsIdqX6EEHvZMbbiJPoeLTxuS3YMRNNy2EHo/emb3D3ve/w+fGaLvjXuMZxMPO8DqX3XGDGfnED8+XMIvGT6HuuA6zFKCIGn/iY8qgd3EqRDTKZvHvXky7LtgZjdC+DS/wsENPZFpoK53YyVxtzn96xYsrLdEy14sNfPKHIifdP6uK1XdtjNUrgT0IxNSCPzbPwAs309eCIFHiK3PqX/eSOPCyaqx6ftLEpC6z0rZmWArHuTrveisTkzsux4+iYTQPvay/L4ksCFNQzGJKmkz0BO977B+lL7ZPJs9BD6HjvAmPfd2FzRKBFa712asT0DSWGusSYgMzqcrP4E68aPwxFI8anLPHK/5veLpu9xDng6lBVeS7WOzBvLBjK8TCP0knd9VJrqhRgmyw+tl05UNlVGYCZAgIQssxCe9PnLCdLlLLzqxKlSQt6kD7OMp+/7VYT3rmSvsuAslK/7KHYvtWIT6RvaqX0xFLyJ/F1QsPRVk78CzUwpSYP4E4ed6aoLne49UnrkRSXwzpnsXTFp+UJtW76SJe0I6AX7jTG03Niz3uYBSYQQ1+qYrxNJJcIBLbcOw3QKB9D+VyLE8PfH0XewU2oehMnEk3sDyWz6hmbz72+B2EscnXvdf5JXj1g+QaIDVLTOGyOZvsteisJZ4LyjhBgJ+EZJsPmfLuSwpkhCEiELT+xXzdxxOFloyh93hBTfeTIK3S848wLo+xdYjSLHIWDsK2YPOo0ruHDnLO87SxxcODvRoAVDAOl7wTr04eYUU2dc6PTthwt7WTWRvl9Wf6G2CQJI3zgUEgSy3UhrMf474IP0/Tv08gLaiPS9gJ36IJOytwbmngV/kLSXVQnp+2X1F2qbIID0jUMBEUD6xjHwIhFA+n6R3YZKzxUBpO+5wonCHgsBpO/HQhrbQQQQAURgrgggfc8VThSGCCACiMBjIYD0/VhIYzuIACKACMwVAaTvucKJwhABRAAReCwEkL4fC2lsBxFABBCBuSKA9D1XOFEYIoAIIAKPhQDS92Mhje0gAogAIjBXBJC+5wonCkMEEAFE4LEQQPp+LKSxHUQAEUAE5ooA0vdc4URhiAAigAg8FgJI34+FNLaDCCACiMBcEUD6niucKAwRQAQQgcdCAOn7sZDGdhABRAARmCsCSN9zhROFIQKIACLwWAggfT8W0tgOIoAIIAJzRQDpe65wojBEABFABB4LAaTvx0Ia20EEEAFEYK4IIH3PFU4UhgggAojAYyGA9P1YSGM7iAAigAjMFQGk77nCicIQAUQAEXgsBJC+HwtpbAcRQAQQgbkigPQ9VzhRGCKACCACj4UA0vdjIY3tIAKIACIwVwSQvucKJwpDBBABROCxEED6fiyksR1EABFABOaKANL3XOFEYYgAIoAIPBYCSN+PhTS2gwggAojAXBFA+p4rnCgMEUAEEIHHQgDp+7GQxnYQAUQAEZgrAkjfc4UThSECiAAi8FgIIH0/FtLYDiKACCACc0UA6XuucKIwRAARQAQeCwGk78dCGttBBBABRGCuCCB9zxVOFIYIIAKIwGMhgPT9WEhjO4gAIoAIzBUBpO+5wonCEAFEABF4LASQvueK9NJKaZnOQyIt/rFSmIegB8gorDU7u46z26otPaD2PKq8aXQ2K/MQNG8Zc+vfeSsG8krtw6C/VfwVolHm80QA6XtCv9BiabXe2m5WV8srd2Cx8rYXxUIIER/WJki84+lG74LxWyFE0LljjXkWo/VvLD7zwyHYIgbtecq+q6xanwkhmLs+l4mQENryh0LcRr0/76rBaLn59e+o7HucoVs+F0Jc9UYnt9LXSAgebP8UfU+Rfw8tsehjIYD0PYL0Us0ZAH9wFgaDILwCVo7PnPJIQfMEXS6V3/eiOdB3YWW13D7hT0PfG17M/TYlBGavO81bJgjzOKb1Q8av+p29kPOg82oeIl85oZxYvY2HS5tf/z5cB0JI8UtiSiMn5o0Tch5+rf7kjDdRfq45/Pk8EED6tvvhTduPheBh968sdFHej+5Gpp1gDvQN+tQO47u1aCv/07+ax1ycOz9JAT+jxX8++2zglKUGpU8+G3R+ypnUqgD5vs46VJ++7/fc+ve+DRvlafGPMdNq43vkfyoZxR58OF7+g8VhxV+KANK3CW+pewmudn7ZDivWu4Qy5nZ7PxF9l3tXQpw9Rcwm7QRKzcnD/pUWeqqDufXvUxkwx3YLf7Va60Wzs+YoHEXdEQGkbwOoDQ8CJRdO3uODSEK6kVioffHCq5gPOTvvt96aA3j09k4Ls/Co23gDbRXX291DPxgEvWQtX2nuuf4gCP7NFsQj9J3KyTdaWGt2T8L+BqHvHP8qjq+8tmzFsIoQMrF6Vmyt2T0MGBcijoJBEAx6UptCZbPrn/cbhFZ3/egmjo7aysejbxvdo5ANeXwVuJ+tNTt92+oPojjF503H+9a8o+Gg6rYbALwZYlJJqcmF2yK0/E/XVwX2GrZHTcsf+/4F48M4Grjtd7praLG+7Qan3Wpq7VLNOQqjGw6tHLSUs59eNA8yWy48550zsrqapG0io7ztSjAD+P97p0waPcAW/rnbEI0D+ScAI7+J/C81w5zxyNPleucw8PcyU8ZKaPybtAJt/dsgqx1Xt5uMuqVa5zAABFjo7TVSv31UfuEvxwNIZUdvaw1XIU4oRPwz8SgTZzx+GAKLSd+O4/yQH8dx7o5L9RuEvKP9KVHuUueMi6HXpIQu13uXXMReRrokR9+yMPNa74qUFNoDLmQwl75tdI6ZENzbVKqVGtt92Co03F6bvic2Wt0HhWGXc68TXDMg3zF31MTqFjJrTWdXqnHtOZB20qyQau86Ed/dCdh1Ir5BCF3vs1se7tWLlBbXuyEX7JvesP3QZ7eCX3mdv8vVzW7A4niYbOfewfBSZ8AF81prBbJUaR0zhRjJNIn80zi+lnsSN7A94X9MjYCgOUS9/l4pECq7kvU/EPK+x2AfWIgbN1HxTSfggh9DHxbXexEX8ZHRh6k8QkjeFolvtjU9SdtMBF0uNY/AJWBHreofMAxW3jf7lzw6bFaXKV13mRDRXomQQmULXIfwi/IcxiPf1d2dbo9PklB4Xe2ecwgC7tUhakSLpb87wU0cfKnDPvybTjAU7LhVWSKFtZbHBJdBqnQ4pfIBARF7WxUQ8dGLRex+kNYl9C0RzszFo8dGYAHp23EcxTrq/7szeOcMagQ7k/vgv7AJxk9aqgTdDYVg/fdpeYu+KxAxj7raF6Y7gYD78z9QGo71nQC/a+7NZPqe3ugHF2L1wwAaWlopA0fYn+nVrbJ5NXQUnvNBFzjmdVmmRUIxfpZFpSsHTHBfglJ0LmAGaaZKUEAso4Ophhd3Am7CQts+z2ZTOaXxYFv7yq+65kaxTJmIvU3dsIRF8zJ1zjP6/g/s/qW8Ly+xfubNZoDMsGW6tpkYtXGaLemaXhw6cku2Acwe9VZV2TqMgUEWuVL22sgTYuM5TYJcSmoECHnVjRJXowguSDqZEUI/AcyJGrZ80CHpWUJIy7vx01SkOW0nZDjh0QMQWED6/vHjh0nfP378uCMus+kbKKyUECQtVoGgTRY26VvGka96hidfWFnVdaeymCbNLNo+rVHJYvwYohOTPtOqW3XG0HdRpqPphYIsvelxIcJdTZS0KElE4jBGGROT6fNWETYebty6VqmwBn59uiiRmkxCm7ROuUE0EJYwt/igZzPCKqzoSY4uV3uyUb120G0TyXcCnHTjlGnLDG2NWrR9ymEiV1k0W358Cqk98KHFkt5QLbxuQ3ajsQIbgzzUMXWYLqHSvxawUpRNlfcjdiCzDdW09z2DufIVYNZeiyVfJaLwS6+DYW4J43P7D+k76xHp72TuXnbBOlKxV8YuA/eUTabvBiyGjbvRknFP+iZJwHdmo1Yjxo8pOhulRhYBcC2vqjoj4isjugpx1R543MrnzcILI3STl2ZOGPKYs1BHaVWM2NvRKc75uibR/Ae8/oygTaPg2KZvgLOx50eMRQPXv55QcYYts7Q1VZCOsGLP1mnsbxnXIAYdspiFR14ugDYGeWlKPv4+WYIkX+5/ooSUe1fav1bLNZkUqxCW/3udJCneRFU+CnQiH2eAsFzoftRLH8MCPHxCBBaQvh8cPCGTti5J6jjrcKfasZxGKPL2vuzmd0FVV+crmiwGJeREknrfd2907ECaXt2sklcDruVVTeg7875NATMob1Sa2aI8NrxvU/A4TSyiAYLWnma+Yo6+deRXUVGe2dPKM2yZpW0qBw6kIxx7Ddr2WbZZorcQ1H6gCYWsPIo8nLasniFBRp9gK/7PfpRGb5RdmfdtKZqTr67J/cwwhi0E7m/pVVeuHv58CgQWkL4JIQ/buiRkQuIgrDflsh0yCHnmPeVuMLmfo+O8FHjBiH1D59LiinqkHiqmW5eEEBn3NFx1CAWkqYr3aHTcCJpe3aoxwiCEyJx3M2RBiDSTpxEAJSFJ8WvBQ4FnHeMWt+hGTgYTDZdWs771bGSWOjiiCUjmp8k+hJzwjNg3aFVY0aEJk6NzYRbzkgUGkbakrAfXLFuma2uLUo/bxN6hH2VLk1x4LQ/+iL1KpKnDDAmEEBnXCt3vUbCT9om067qvFzVSbAazKZ9UNp3mmjYFngxKAaflf1rNNSNTRpfC78dEYDHp++EIStcs99gOgWivpLBt2H6MjyBfDbbsITEjdtdJMvhtf42uw6Yi5FFIV50u17sXceK8qJKn7TKlxXct94JxI8ibLPZT+r5Po2MMn17dqtD07PCrXgfY9E2KkB8isxrkNoBMPrlOtisljfJgV7m2tCrjqnpK09GVSYZDnoNETPGCTD4JvyZZbYqgk8wHUBuIJgtPSXLJOk7WjfYTjjI5ujNQ+TnQh5UtD/JSwOXPCCyFZJYt07RNhSQHyhEW5uRUhfo8dN5CCkx9DwLQ8pmpRJMRe5Ukk15nSIAKf0ol1ZO0WqeazLBSmScwy8FIDvUeuykfgk5x6qerneR/5W6OWqeKZA9WC8bvx0YA6XsE8dxD8ypf7qJXh0fJ67AdpD7XXvMdpKCJWx6ftGu7QazeE3LL+XlXjnFa/uzLJaeqwKN9kCE/MplPnR5G7v9KwC9JxYbLuHznieDD2Pt450aZOz79bbLOMglGm7/hsiEQCKyQh8yFnPSycxYrTQTn7NAQT+u9Cx0ShZw8v53mv9NyW0VLhxzyr/ddK/OETDEcNIEnLVWen1QkOoCZ0tJEYZJqm6FNChv9SHWBtCI+USnqBp43gbOqsh5lCcjna1a3oQ/FMPY/W3hAsyO2wIRxy+OrvsJigrYaUvsbHGE7mFaCTBv1gefd65JV+TDqvZ+AvGG1eovDZAlp25A/Y2/Aqoh2knIKzQ+j/oaEeUR+7YCJ2zg6D4JByIZCQ0qIfg+BMZumLeLB4yGA9D0Ba/nSj/JquZymiyQFIaWhnD7FQ4slncYwQRC8w6Q85v0hlpwsOWS8FKswZCzMaDQn5Ser56QlPyF1bLU8JlWREHVJZhla3pysaSkzzvBJiI1Xwz6rhKsER/uK+Ut1rg6t0OXSlPdEGraA8JGSd9Z27NsKl1bKq5nMwusxD8Sbio85niWBLpfGv3NNVsxG8hjR8pS+EXJC6Ls+S9NpJtXF878YAaTvXwzw7y5+lL5/d0QWw/7iThCftvRqcjFsenlWIH2/vD57URojfb+o7rqbsoUNlzF/3OsZ7lYfS80JAaTvOQGJYkYQqGw63cMQHgplfg+ewsfPIiBQ+hqygfNkf8pjESCcmw1I33ODEgXlECi8hqC//pe+8ytXCn8iAojAAxFA+n4gcFgNEUAEEIGnRQDp+2nxx9YRAUQAEXggAkjfDwQOqyECiAAi8LQIIH0/Lf7YOiKACCACD0QA6fuBwGE1RAARQASeFgGk76fFH1tHBBABROCBCCB9PxA4rIYIIAKIwNMigPT9tPhj64gAIoAIPBABpO8HAofVEAFEABF4WgSQvp8Wf2wdEUAEEIEHIoD0/UDgsBoigAggAk+LANL30+KPrSMCiAAi8EAEkL4fCBxWQwQQAUTgaRFA+n5a/LF1RAARQAQeiADS9wOBw2qIACKACDwtAkjfT4s/to4IIAKIwAMRQPp+IHBYDRFABBCBp0UA6ftp8f8VrdP6nu9/qY2ILqz83XJ2HWfXaa0Xn+6PzBZW/njC1kdQwROIwItFAOl7QtfRYmm13tpuVlfLK0sTymSnK70rIQT3t56OFbUydNOLhWDfbPqm9f61iAfd5vumy4QYLaCr/8Lv1Y53FUPbN66t3C9sE0UjAguMANL3SOcu1ZwBMBxnYTAIQsk48ZlTHilonGgAZQoRfikaJ5/ikNbdG8GOmyWr8WJnwPlpK5lbPvQiLsS589i6woxY7V0ifVt9gz8QgQcjgPRtQ/em7cOfRg+7fxXSC+X9SIigk/4ee7C0Un4GMYHS1yDcr+eXAK+6keDe5li9H/tk5+x50TfdDXE18NiDANubEwJI3yaQpe6lECJ2120C3PL5TPo2xTy3Y9A/dj88C7WeG303j7m47D72QmR6V9ByY6tZmR2ymy4Fry4+AkjfRh9vyBDIxUhUAVb9K8obL6w1uydhf4PQd45/FcdXXvsNIaRQ2ex6F247E1aoffHCq5gPOTvvt95m88EECVlNeVRq7Hkh43zIwqNu4121uedHRyCeLtc7h6G3WyRvmv1zxlnYVZPNUs05CqMbWeWgVU4aLNY/92TEmbPzIBik/0J23jXDQfRtq38SsiGPrwL3czVTl9DyP13vgvFhHJ17jrEoIYSWP/YDZeOF1/1Ht5kzhZZbBwEoxkJvt+rkvW9D/sBtvzNazslJDWSht9cwo0P0baN7pJQPvS+1bN0k+8W/cFvSCh9UZeFeIymw1uwe+lEsRBxJZNzOKjSZQsFvIt+SRui7tjuI4gSleunvjnse9N4rRQu1bVeiIbsMRkVyvrLZTXRQcN1E/i4gDA1Jaey82zDIunXKIRI3Og61RPxGBBQCi0nfjuP8kB/Hce7e0+bpFm4AACAASURBVNVvEPKO9k1as2pX9+WunxDBXie4ZgzustjbaPu3cLsZAZZS54yLodekwLa9Sy5iryElTZBgtUIIhKrFjSdJv9Q8hmgOOwuCfxvks69air877iVjacD9TSfggh9Dg8V1CG3HR6rBYv2z4xwziAcdQM6J/NcPh1YEg667TPBwr76yROj7Pss2Nmn9EK50IVOlUNnymODBTsKcxe2A86inLv07Kb5U618LwSNvu15+3+wOGL81m6b1b1o+Ldb3Qi5Yf+wqQRrIjlvVZUqW2mDsoKNc5lR5UHGtBSqedaSK1d61QivyT+P4Wu5k3Mgd5o8S8LWmsyuhuPYkLO36KyKliWivBFPyFkzn2X7Ghz4TPPoXpgf6rgv7BzdhMFCkX4IuY15rrUCWKq1jwKnzihBi6sDiK9ABJgwR+0dBHLNwEAQX8JuftNJB0DqBgZUamJ7HA0Qgh8AC0rfjOOquVf/fncFhXS9EsJODyP75wQU2HQbdN4QY8e769zij7/86oXFDQnRVsH7ioxEyQULWDIXq2Syy2gNq3E6vdwIhOGfeJnC1Whb85ws06CtWItQ5hwaraY2dACJCGS3W3BuDQ2kLYitA/eojr6r5Ri5HMv4ipHEUCxH1/oSSANdVL5nrVrvhZS9rUTddBMViUDX5SN3SzBOAggc7aeii0r8W/DQjMl1LJvZcdrXHTWVPhc5/CSFy09h0VKXO0X5F1a0dQncF23plANsAIj5MM1+ksWfZvkZioHTDCYF9YDFIrkIXcz9VDnxkDXJxJ7DCU7Tt86wH8zqoAXDuaJ2KELJLMQG9CyurJUyu1L2P3xMRWED6/vHjh0nfP378mGi9feFO9C3vf37ctKsSeYtm25uF1/r2o8Uq7Hwa7DlBQiZQ8nW4qylPljcmlaY3FCPh2iyZmi6PZHdMp2+IjHN/K2ufLpfKryHAAHFhEfUSLpMFNj04JRcokulkMuKaEa7IxBBCJDENPRMsAFlTlZQfOtpQutzwzHklFSUByeYzYkychj66uMRHzyvFrzb4BCa/KfQNM6K0HUj0ddsfCqHJHfj6xq2nzRzDTzkPJPybXiqsdUOeVZylg5wINSZaPH4jArMRQPrOMJIUnDlN2QXrKHf/J9dy9A1x4X+6/hVjl4F7yiz6zjOIJV3+AJeQn7YVrZWAgBKHN72ackpWmZYbe37EWDRw/euMIqHAVPqWnrsxu2QSJa3k9myl55jQH5VxITVVssAOiysptpsvz5n0LefLOMoi8jI0v5+uA7Qq0qE2JjB9PjEtt2CyG83bnuu+vPcNopdqncOQxSw88iDKpOlbutisL1cehDa9GBYKso+kEC4jIYYt3k6yAhjBP6cD0rfRoXh4HwQWkL4fHDwhk7YurcVs/t5TaNv0rSOhasdyBoOM6S76zgmHgl+HwQXjnPmfdNgAyo5jnDedYCjYcbJjaVIk1MgrMEpw49MKJb1m3jGIMulbKi53YuUugDXHyGtKVduvNHUbI1/Vy/0vG42+pjEW4zKYJrKVClwZtc6cnHLdlweTrvfZLQ/31P5n7mqpecTEbRwOwijm8UVPZ2gmLabet6GfPMzjn9MB6TsPGP6+IwILSN+EkIdtXRIyIXEQwheaAuRC3lh9Jzhb9J0LR+Tu3gkSzA6rfWPRQQVi63ohb1yFUHXqEqrzsK43wrImRUKBnAI5glOMnMW+oUbhNWTayIR3i9kpiOL+J0pIsf4Z9vrUh67DloAV35AXZBJF6OhiScRcE7qSL6UlciDxg+pgSnqOAt+JLPYNF+jyCkSHJZhWLEsWTtcusgndd1APRBnh9RxBl+HpWR14yc+UrzpB7LcpLf6hI2NaQ2mmdsyTk5kdY3Uwh5Dqr4z9l2qtrTrGvjW6+D0RgcWk74nmzrwg3djcYzsEAqyaAkbcTyXSou9tYJv4CBLUIBcC8h9id10T0wQJhmpyL/GoWV4tq3+lZZPRJJfpFb2q1RmoHBhoEPJDZHZHXTc4EntNvEW9f1dyzjmkpiQup5Rw1YOVv9zV5OdO4vzTOjxwz/qyIgjJ3N4/IStD750apkhj+VmyTUffyaCwpm/yChJmdGYLITL5hNkTiZRF5c5wurygxfVueOPLyAWVU1foJIl6MlXGSF+R/aL7DmTl0JNQqLzvpUKBVCHthofOW9gWlpkw8HgqlUgCC/Ow+z7plLLOJQWpkJQikswTCL9A8kn4NYFtrA55+s6CVEXnAgJSOnfIABMPEQEbAaRvGw8Z+rQemlfpgXKlXN4N4qGM9d5yzlyVmkdI2TmLIR8OMlKYu0GIfMGIigmLa6/5TpLULY9P2rXxEnI6yMTBpL7+uvEhwXzDZUOZFCwEvwkcvakol/xJSXbUrG4DK4ph7H+upboJzuHR/1UnuEkleEkexVKjf5mcBCmqLakUfdv2IX4TBknEoK8zlIud01jcqoBvGN/yaPRpT5BAy5/9+FaIW86HPL7suTK9h99E/Q15eb0XyvRHpX180tb5GDYmtNw+McoNo176aBVckirKNxzwOOxvqK3UrF/EMPY+Gujdcq7T3msH8gUJQ87jqPuelCCHRH14+LUKeY3QrREkd3/ow7xofTKrS5984yqPDlR2+TQd5JsYGi7jevCEXdmhak84t8Cy4cBfiAAggPQ9YRxATp7ys/Ir5QkVcqdp8Y9y5qDRYukej9SXmodheJh639XmXgDpbyPpLlaTSmEdbKHLJdtnt8qO/QEJJ6vlsY/+F14DFGMELq3I9cEsiJRuEgFoJQ+Fwmqc/JyiSXPJI1TWRXUpL9kqMumHtM4wQYpKjS28Tt5ZRt85wVXgpN733x3vCtJwulloqLAix8wd3nE2SRd1vtQe8BndPV0AXv09EED6fnb9LHOl7Q1DlcqtE5Cfnca/hUKQYB5/zwLUYDRE/I2M/rnhUHOZmWs0N7koaMEQQPp+dh0qH/6M4LEg/aFvnZA/i7fRao1+w2+552nF5QsQ5VCbBHPEg5adAZsQiZpjMyhqERBA+n5+vfiq6V4LmaAm86DhfSMskG/JeH66/kYaVb7AsziQzQnJ3Sp30G0as+w8sGi616H7cXz8fx7yUcZCIYD0/Uy7U4WbZWR5XKj3mWq96GplOyJ3iNQvOhho35MjgPT95F2ACiACiAAi8BAEkL4fghrWQQQQAUTgyRFA+n7yLkAFEAFEABF4CAJI3w9BDesgAogAIvDkCCB9P3kXoAKIACKACDwEAaTvh6CGdRABRAAReHIEkL6fvAtQAUQAEUAEHoIA0vdDUMM6iAAigAg8OQJI30/eBagAIoAIIAIPQQDp+yGoYR1EABFABJ4cAaTvJ+8CVAARQAQQgYcggPT9ENSwDiKACCACT44A0veTdwEqgAggAojAQxBA+n4IalgHEUAEEIEnRwDp+8m7ABVABBABROAhCCB9PwQ1rIMIIAKIwJMjgPT95F2ACiACiAAi8BAEkL4fgtrzrkPre77/pTaiZGHl75az6zi7Tmu9SEcuP9aJwsqD/h58Xr2llfSPwecv/YLfdLn0mM39AgtQ5AIigPQ9oVPhz2LVW9vN6mp5ZWlCmex0pXclhHgWf02YbnqxEOybTd+03r8W8aDbfN90mRCjBTJbftnRase7iqHtG9dW7n4tlre9SIqJDxMxdMvnQszxrwZX/o2gO09alJDR5u6nLiGmtBl1ab13EfOb0P1fiRBCt/q9v2fUwMu/MwJI3yO9v1RzBsBwnMEfpQ0l48RnTnmkoHGiAZQpRPilaJx8ikNad28EO27C3Z99ip0B56dARvD50Iu4EOfOY+sKM2K1d/mz9E2XS+X3vUiIlL6LX0JAP/Yamck/dQR/Ql4IcQEQpc1FXx8ImCltulp0J2Dfm9VtP76Ng/2ufx10nm6VNF1VvPocEED6tnvhTduPheBh969CeqG8HwkRdNLfYw+WVspziQmMFX7nk6WvQbhfz9/yr7qR4N7mnaX8yoKds5+lb6ldJzDomxBa/OMuiyRS/x6Lsxk9KeUXVlZLRoAJmgt2HoxLTtpEOeXtTlN2Xul/fX8QuJ/sWXhiPbzwmyKA9G12fKl7CV6cu24TIKzNZ9G3Kea5HYP+sfvhWaj1a+j7jqYVu5eCHzfvWNoo9pP0bUj6VYeF2larvmyP21/VFsp9LgggfRs9sSFDIHLJbJwF3660uqK88cJas3sS9jcIfef4V3F85bXfEEIKlc2ud+G2s2qF2hcvvIr5kLPzfuttdl9NkJDVlEelxp4XMs6HLDzqNt5Vm3t+dATi6XK9cxh6u0Xyptk/Z5yFXTXZLNWcozC6kVUOWuWkwWL9c09GnDk7D4JB+i9k510zHETftvonIRvy+CpwP1czdQkt/9P1LhgfxtG55xiLEkJo+WM/UDZeeN1/dJs5U2i5dRCAYiz0dqtO3vs25A/c9jujZVsOaDiI4iFnF57zzjG9b4lJ4O9V0xqFvxypszRnu1YgpLje7h2FjCcxsWDQg0gLLda33fDYKZJS8yBkQxbuwdoF+ugodD+n8hR9a3tvoiBF+FW9vef6gyD4N4ncVDa77kmQyJcCRqTBgNHDQ/YvDCH1gSZ8QJvHV76NNiFLtc5hgqSfKiDryQXiPMNHWh/8ftYILCZ9O47zQ34cx7k7/NVvEPKO9k1as2pX9+WunxDBXie4Zgz2y2Jvo+3fQqTUCLCUOmdcDL0mBbbtXfI0LDtBgtUKIRCqFjeeJP1S8xiiOexMEsRnX7UUf3fcS8bSgPubTsDBr6SEFtchtB0fKTYp1j87zjGDeNAB5JzIf/1waEUw6LrLBA/36itLhL7vs2xjk9YP4UoXMlUKlS2PCR7sJCv64nbAedRTl2Cvb+wCpda/FoJH3na9/L7ZHTB+azZN69+0fFqs74VcsP7YVcKHPrsV/Mrr/F2ubnYDBb3cukwhTUPh5EOfidjbqhQILX70YrnyKK63nV0PgDjvSxCaFaI77sZ1DiN2ncS7/9+pwtiMlshYDYvYSbf5vtrcC6BLzjpye7Hc2JZitVNf2uj0z3mKRnuMNDk8mNd6B6i2B1zwoPMKJhNAW0TdN4QsVVrQ76ED5+VHdjE7blWWYFB1L7hgbhomK8u9VsH6P7MnrFvC7xeDwALSt+M4yf0nv+7O4LCunxni/ODCrTsM5D2WxbshqJry13+dUOYtqFFAd0MhWP+9HhMTJOjLhFCons0iq7BNF2yn14FKOGfeJnC1Whb8B/buuP8xadA5hwYzX3QHXFUjeFJzbwwOpS2IrQD1q4+8qrYB5XLE3I+Vu3BR708oCXBd9ZK5brUbXvayFhNRRG4qxqBq8qGgW5p5AlDwYCfdEqz0rwU/benC6XfRuYCJMlVRQZTxtUQs/Vk7jAX3tZSWd+PrVZFkYZ2voqSDFZyzIznzpQH0dehlI9gtK36vpwpBEzBzJzLMpQAhRF41JjNbWgW2UiRHy9oUekeEX/5DiNwATyFVtZJ+TxDI9mZfyTGWbkffOfqfmoAHC4DAAtL3jx8/TPr+8ePHHfvpTvQN24Bj4qe5O7bwWm980WIVbleDPSdIyJSUfB3uasqT5Q0qaXpDIS67KefJilkyNV0eye6YTt8QGef+VtY+5Fq8hlhR85gLEfVWs0tk04NTcoGiEiogGXEt2+Y1ihJCINYMqxDjLICs6VvKDx1tKF1ueOa8ktYag1iOiK2fKhGFX3qdfHq7VUyJVzZ2UydXnZVTrIH5SEXJreybmrDyV3ODgVjSypBjmnI0NJdtbNLlks5SLax8hmzIRAeFgDWxSWyzWSoFCw9+IwSQvrPOlned4fZmV8yj/L2qruXvWBky9q8YuwzcU2bRNxkvwWgD/F9+2la0VvoKzppyeGUZ6R2Ppk/QcmPPjxiLBq5/nVEkVJlK39JzN2YXQw85nxleJCQdglua+LlUxoXUVMmCfKAW5NhuvpRs0reUH0dZRF6G5vczJzvRxWw0OZXDMPez1D6RkRAIboXuxzQonysmVQQ/2rZRmzmNvq1OzIvNDwaLvqWLPdp9iV2k8FfHPWfxdegdhxl9j0FArn5GNddy8Pt3QGAB6fvBwRMyaevS8I+Idd9mI8S+Y0sQvGYqeD3Knvm7PZOij+g7JxwKfh0GF4xz5lsJZOPo+00nGAp2nOxYmhQJIqfSt7w6Pq1Q0mvmHYOoER6RO7EyFG3NMcqSu9C3LV8jYH2PNDrSC2MgVXu8MWxLpI9TjSlmd5xu1iJcCBTlwiNEusM6XJO/mpdpSZOY5BdPql29E6D2h81aCgEjepMEr5C+dY/9nt8LSN+EkIdtXRIyIXEQ7lXtn8rIhr5vszFj3bG5cESOPSdIyGQRUvvGooMKWVpRQQzzEiEQqs4lL7dOIf6ho73SL9MBCqibUyDnFCtqyGLfUKPwGjJtZD6DxewyUMv9T5SQYv1zu65jDlQGE7J4vdYYFDP331TEXOum5EtpugIhlOpgSnZOmmxlBOUY0/pZ2XSaa7ryGyfkaTzdKqZKSA1ned8jXUY/yYgT4JCQu5mPaG2E6DlP+/JUTopZ7BsE0OLKMiWylQxDk75Vp1ukL6eB635FmUHLja1mZfbjwao0/r8gCCwmfT+8c6Qbm3tsRwZ8NX0rsrO3v/K7VduwGRUfNQqQgtbyrlUuuSamCRIMneVe4lGzvFpW/+y3bQAH5ei7M1A5MNAg5IfI7I66brAI4RetPzSTc4pLDmRK8HAPEuwSCVc94AW5q8nPnSTXhNbhgfskvQGEZAH6P/ss2zs1TJHG8jNHxS/ouy5EBDR9k1eQMKMzW2Qa317I7IlEyZKzIw92EzHVryDGmEQtXu6ciTh1VGnb5yL6V+2wQjHFs3SpkFAv7FfPom9lxVW/ofjxTRNyTVIrFJ6x335L6XK1dQj5l5ZMWV3TN1FTXbo4k2kksb9Ficz54eeAFZyETpEIywlNbnhmTySUdiDVKNhOdkDu/mCn0Td4+OIRQPoe6cLcQ/MqR+2iV6ekvBvEQxnrveWcuToNoOycxZAPBxkpzN2ABDDIllOfa6/5TpLULY9P2rXxEnI6yMRBLSD5vvEhwXzDldQA5/hN4OhNRboOeXXqw46a1W1gRTGM/c+1VDfBOTz6v+oEN3BRSvASh32p0b9MTsIF1ZZUir5t+xC/CYNBGMU8vtAURoqd01jcshAi12F8y6PRpz1BAi1/9iGCccshl/my58r0Hn4T9WXaBl3vhTpMDVPQSTsNVFug0HISzh5yyEDfd2EOu+XxVb+RYnIrDSSkdsDEbRxBnnvIhiBTP7yYAMuHnN94rf82XMZVx4lhHOwmSTRZL3PODhvpz/B7L4rBihxEhBBJphJTwaPDZgmWO4IPw+6qMWakNAVqgomqIVLoZMxNnRyG3Xd1SOG85TxJ6Sk0DsKYS7tUSO1zBlXy2oBsRrHAwx+LigDS94SehZw85fzqHJIJBSechse4y/phH8jwu8cj9aXmYRgept63TjTWmcXjW1QKy4wRYM37vyEPEk5Wy2Mf/S+8BijsRYDUYmlFrg9mQaR0kwhAK3koFFbj5NumKg2lGlBljD5ped19OpHDuGD2S3p6xkGaHFJYmQCR0i1p7k5vQyysbPvht0ZOQwl1imdhJR1CSsPEruQhMkNrWj1gI/lIxnU8XEQEkL6fXa9KTyq3oSfTpQd3eVnHszMHFZqIwEYvZPGYd9RMrDDlQrFzJiMwU4rgpYVDAOn72XWpfPjT2tqib52Qp+kTz05hVOjhCEBYfCTyfm9xhcYhY6dpjOje9bHCC0UA6fv5ddyrpnstxG0sw8oB5A4OWbBrvofk+emMGt0Xgf+2fXhBDY++N+0nsO4rqNQ9Z8EXte1837pY/mUjgPT9TPtPhZtlZHk00PlMdUa1EAFE4DERQPp+TLSxLUQAEUAE5oYA0vfcoERBiAAigAg8JgJI34+JNraFCCACiMDcEED6nhuUKAgRQAQQgcdEAOn7MdHGthABRAARmBsCSN9zgxIFIQKIACLwmAggfT8m2tgWIoAIIAJzQwDpe25QoiBEABFABB4TAaTvx0Qb20IEEAFEYG4IIH3PDUoUhAggAojAYyKA9P2YaGNbiAAigAjMDQGk77lBiYIQAUQAEXhMBJC+HxNtbAsRQAQQgbkhgPQ9NyhRECKACCACj4kA0vdjoo1tIQKIACIwNwSQvucGJQpCBBABROAxEUD6fky0sS1EABFABOaGANL33KBcREG0+Mfsv/VTWGt2dh1nt1VbWkQMEpvuBMUC2/98TKPrXf/EqY0oRJerzW3H2XWc7WZlkYdiZjnSd4bFXY9oyx8KcRv1/rxrjaTcgyvesx0o/rNtNXoXjN8KYfwh3cq/kRCCn7Ropg+tf2PxmR8OBXwG7ezK4hyNgWJxjHtxltCmFwvB+jn6Lu0EfBh52/Xql4DDMA06r16cbfdWGOk7g6x9An86FmjoFg7g360QceTn/g7sKyeEQrG3kdW909GDK95Jul3oZ9sqrKyW2yfcpO/GUQx2XzjZn9bd8GLutykhtFhaLa8spsszBgoba/z1aAjQ+vdYMK/5xm7xQ59l7lSxdRILEbv3vT1tkS/iF9J3rps6gRDirKPPFirbPpDWdb9u+pzLpfLrgi4z8ZvuhuLGNd0EereKEyXe58LPt1U7jE36JqSwsloqGjg0j7k4d4wT99Hv58tSJxSx++HnBc2WMALF7CpYYv4I/NENLnrmnaiagHF42c28ivk3/EwlIn3nOiZH33C1tBtyIfipGTTI1Rr/86WPqlmcVe5dmVPdeBB+4dlNj4uo+yhr5FlQ/EIrUfQsBH7ZOKTlxtazDqMjfefGxhj6JqTpQWw3dBRT0GJ92w1Ou1VdtfCX410wPuTxVeBu18AtX2t2D/0I1nBRMAiCgdtZhQiDXbFQ2ez6F26L0PI/Xf8q5kMW7jUsr/5No3sUsiHnLPT2GtV3ze5J5H0mlU2nd6TFEkJe1dv7XjAI3O1yolS+LVJYa3ZPwv4Goe8c/yqOr7x2bgUKNQu1L17IOL+JgoNm0/a+QcJR6H6WLYCBAeOpgb1G0nChtu0GypajbiNtQuoTHjtFUmoehAwsTbwo+jaxEdD7XE19ebpc7xyG/l6ZLNU6hwAC6PxWXa8091z/SuIL8KaGA5KyL+Jo4LbfpcIIWao5CsmbKDjsTNplpW9b/RPVlqVMnr6ltOiGQ5cdtMpGO5MaGjNIpiNGyOQqSU35NdFk1ePuRwJGDaJ4GEcnDuBLy62DAJRnYXfDGm6J3Ff19p7rD4Lg36RXK5td9yQIBmkvJ8PpIcKhDVr9rAaJ7Kb1Un3bDc96cENNHCdyZMK44uy830qGgbrRzHEIgyEYBOEV8z4aKKX9Je+jknHFGH6hZ4dJW6cylGpGC42Kz+FwMenbcZwf8uM4zj1RHkvfpHMGUd9gm5D3PQYbeiKLinzoMxF7W5UCocWPXqyW82tNZ7cPG3rXHmyF77br/zdXsdq7lnJE5J/G8XUIY+4G9lz8dNi96gRcxMeSHd40vRshhiwYBL0NUvir1T/nIvU9abW16zEh4kMZqhlRsrrPVGPBXie4ZkC7Y2L3xc4A+DjYa1ZX652jMDa2LtunSoAIdiSieQObFThdAgnMa60VyFKldcz0DlLb16A5hxG7zmLodL3Pbnm4Vy9SWlzvhlywb9KEz75qLz73ozgOB0FwLrW+6skJqtLcdSQCzAN4nfZ6kRDYRxU87K6DsPoeCOsnoZUadNJxq7JE6HILOkkBZQ8Ouu5C/b36yhKh7/tMaGUIsej7DfQLP25SQovrvYiL+EhPXmRCQ2MHyTTECJlYxVR6oslpj0enPosjAPASYI9PvSCO2XkQDGT/cr9lylPHtNzYhuHEj5vqRGmjI9EOVFTxp4QTUoNuinp/FYDH9yIYcxdB8L1TJpPGSalzxsXQA8SX671LLmIvQTw/DmXmyTGM9mSgEkJkf7HjVnWZkqU29N2goyItaY8XKSmstTwm+FknJfcW7P1khUdxevIzC0jfjuMkTCO/7sng4+lb3r0i2le+LXXOM/qGS9k90PJufJ1+UXNvcrEFqyJJSIEH29p7e9WNUgomBELnIuqtJoOkvB+ZkWiLUKAIaG6wUr4t8sGNheDDoPuGkKWV8h9mEFs2sQFb+tHXdPQS2CYyMk/IOkjI7gqSN7C4A9NNFoymbZ+noMkpkHN2JFnvD7XPCRL4WXIvEUIqB8wAU/bFdT/1lCEYZeiTRwAM5MFOGgKt9K8h5AW2yUv+VoJk6yj21RoiOSG/aMuHybKpPWlpnaYJs63/fAmNWVbizPrJUmxCQ5MGyRTEJlUxVVZ2jTc5sRrYRw8vaREPHe26Fr/CcMv6yxKdG072BPZTwuvQ6apfoEWAnX1Ll7Ljxsl/IVmAnyQTjbwvWP99qm5+HJId2MDSA7UCIb7Lrh7WVLpiofNfQkgDRrzpXKtbYF+6IiA+v9mTNvlMDhaQvn/8+GHS948fP+6D9V3oW44wvSdZhJtZ8Euvs54jxJFRRayKhJCR+8e6ZyRfh+nOoCycuD+a+rOfI/Sdb4vIuSH1p0YxkeRohZJNzoLycgLQdwWoYM9Pxe4lzGp1LbqwBt50ug88Kp9A8FqEu5owaVEmt6SEImNW2TZynkFy6kn5GVx0uQHrFdVNKg9HJpblOkkrS8iWzwVPKR7W8cY+s91WYUVPfnS52pNWJxvUExqaMEimITahSqYvIWSayRBSs7wBmOHPNCBKDNBcirYleXQ42Qj8jHA5TX5Phwn0suF2KKOscQg8+lrvmdNiFfwYU+3cOCQWfa/2IpH5EGBk6rvI4ad9MmW+HHLJCi8HyHP8ifSd65Xx9J0FT2Rx+zYotSFRSX7i0P2ofZ08u0FNu6IaZ+ZAtOg78Rk/KXYrATle9VLHIH875b3vkbZGCuQthwCROR/k6XIWfcu7iDNYpxv/vJ1E5RGFk9ssoQsqewAAIABJREFUvrLKB4OedoDzt2VOQu6n7KM4MpoGNfYTYaVPvowFCXEbh4d2tFoCIX1qsy8seHJtEVpu7PkRY9HA9a8tTpzQ0NhBMh2xsVUsraabPErBs4afKdweirnwERTMF7iz8CJEQq77aljQTQ9Wr1t6Ch/TkNJK7Q8xdhm4pxAmNBYN+XFi0bd0qA2fw7DRctLVeSlKe2ZG0Wd6uID0Pf/giQwCALXpMZYfqeCpwT6bJIh0LI6MqvvSN6HVLyEXnJ0HsJ3IfHOzMU8oM2+nkQK5ISm54Kfp2/C+c/JHFE7oO/O+cxVG5r+chNxPqX/mfeeFpdtisMEwLo8IbmbubY6pl1/rvOkEQ8HUnsRon05uaGSQJGSROqKjbY9UsYrMMvnBDDuGnXNo/wR9E/Km6cGcFwbnUczjcN9KBRxpyNhTUWGf/KJh5EYzeVkuGaOvaUjNAFAWs4cf0reBz1MdznfrsgKLtWwXK+dEVzad5po29I0DdJvE9UZG1citLsMjph8B95uuDqTRZ1H/T1J4PeaJGDnKjTUmJEFbi9D8HCNXkeYqVSudfCtlzGeR8jfSjOAJkTv1rG89jEqpnvPkVWt6IFIlfgrP/WQfo4ZvxF40h2abATn1pP7cTxYribxE2FrT2UzXLSXnHMIk+S07aZ0R+wYJhdfJOwNM5eHYqG7hPKGhSYNkCmKTqmRAETLNZEIUvGaPW6oSvfhbN0Wmx3Io6q1LQkY2QkaG092FF7eD+LRNabGkY1BpqxALh3wPe5zk4lr3om8Khhixb2iKLq9ADE0NP8NGIgtnA3Kp1tqqT4y2mUo/0fECet8/h6Ts7DTeSsutQ7kzftrWWx8g3hypnTMRp4E8tVn3r9rhlPStniZYKqj8LLOi5qM8fafBYhmNjb3NcnlV/dPhP2khlb5DdFArkMLK3w7k6k2nb0VP4zIuEsRkootgbkM9PPmmCckH5o2Up+98bFomS4gk8wSCjJB8Euq9ULDdlAatqlwXlXkivdb1bngNCQbyY/dFsqzO4DImsEJhiRClv8o8US7wXsjUVuROYATlafuUizHxTUnrkHkiUz9JobLlMR2tMpXvDFTeToGoMrcq4i9nigkNTRwkkF4yHrGJVZLekl9TTNZ7FbPoO93iM+XC2ISNjdhvv6V0udqSiZtW940Mp9zYtiIYlmxI0+bn3Woyqsu5J+BMqJN628DA8RHk1EJ+CKRsxe460RP9yDg0vW8iH9QU6WpJJjjd+PIhDipn4tBJ0ltp/RCyjXS2UtG5gIWakVZkmfEcfiB9Z70AD83LRM/0oXlxy9mF1/0nDWfDbrXL5MP0QvCbwFkltQMmbuNIZmKxoYhPMqKHS5DswXkcdd/nKpads1i+VESIYQw5qhsuSx/ZP+/CDPAKFum5Tyaf1l0QLz83gfMONvTFLY+PWqNKlneDWIm65Zy5aZpbZrw8Kmz0I3idi3xhAPN7MgGLD5m/Xc4kcM4OG5m2YCBLH1AuffKTxErQi0cHKo09s10M42BXTW+ySVrvXeidA0jHBL6AC3k0RuACeupDW5wDvnsyaXi9FxrC4pN20nOyZHwlszOvObSSJqSbECw1+pdqBChUVbFMeS57SiY7KtwFO2pWt+VLNoax//k/SqXRhqYMkgmITRtXpsp0gslZf00YEo1Dlox2zsM9o0e0dHiLSGIljw6bJcmJfBh2V8lPClf3RSJbfQ2j3jo1x601Tmi9n2TZQiZu8x0kbsJQP2n/Jx0nehyOsYuWs90pIUTSlrQTLkFcMoRUcQjk9I1E+OQtEakzp5F5Pt9I3/PoC/nGj/K4l34UXpfL9oPm92jvTdO9CN3U+37f7A4g98+Iz8LrOHQK4LxeiSdlrsqgwdJKWR3cQ2mVbgXLhbu/AgVyPDJD7tMYaFguLZvRF1r8A1q3T0pvXJ7P+Xqjjd1JGdXj+sUJdLlkNJcokG9o8iCRCWrjEJtWxVR8kslmmYccKyiSflxaMWx8iDRdh1Z3g2jgpN53fduDFe6Mp96Vjfr9lxMCL7qJcd9yqIwfz+rSmEhOqT3gU5K1xjXzqOeQvh8V7vs0JtduuTeKyAA3PD2EH0TghSIAqSAQ+jA/8kVUOnfevPDExzWX3f/Foo+oM9L3I4J9v6aqEBbNHjcA/7H8JeRche3uJwtLIwLPBQEIZHPvf8aCaQky9KPsYZnnoSktOwMW2Vkxz0OzTAuk7wyL53ZU3HQhtnsDEVt4pB5idIFjvsfjuWmM+iACsxGoQOaPTIeFgX0OL2MJD5tmasBsGb+8RNO9Np/h+OXtPawBpO+H4fZotVQkWmae6Ejro7WNDSECvwiBZIMBkk+sfKpf1NyiikX6XtSeRbsQAURgwRFA+l7wDkbzEAFEYFERQPpe1J5FuxABRGDBEUD6XvAORvMQAURgURFA+l7UnkW7EAFEYMERQPpe8A5G8xABRGBREUD6XtSeRbsQAURgwRFA+l7wDkbzEAFEYFERQPpe1J5FuxABRGDBEUD6XvAORvMQAURgURFA+l7UnkW7EAFEYMERQPpe8A5G8xABRGBREUD6XtSeRbsQAURgwRFA+l7wDkbzEAFEYFERQPpe1J5FuxABRGDBEUD6XvAORvMQAURgURFA+l7UnkW7EAFEYMERQPp+5A6e19+Df2S1H685uly6+5+on6HW3P44+ox21OXC6/LcNAeJhZUxf/v8Tppgod8EAaTvSR1dWFldKUy6+JDzjd4F47dCiKCjq1f+jYQQ/KRl/N1Wfe33+278GzIuAKCdnzW+vO1FMYiKD2s/K+sO9R+gOd3ywdarXmVU/mrHu5La37iPof2oAnjmhSCA9D2ho+Du4v7WhKsPOQ1/tbJ9wk36bhzJu/TCKT5E4KLVKbwulz8Dqf08fcOfUnzfix6LvrXm3Nu8a6cUv4RyevEaozVosbRa7V0KgfQ9Cg6eMRBA+jbAyA5p+xR8I37anq9fXDuMTfqGBTL+qdYMdkI+uABQ5n3X3Rvzp1l05nEneCz6BlVA89j9MEmrUUNo8Y9pwZbOGdL3JDDxfIIA0ve4oUDbPvP9SyG4P1/+HqHvca3/zudy9P2qG4l7uLQ2cs+Jvu9vyFzou/BXq7VenK8LYoOMv54SAaTvMejTTz47ahS/RsDfn+zBT4v1bTc87ZZJobbthozzm8j7XDYL0bet/knIhnDJ/1IzA+g5+i6sNbtHofs51YGWP/aDq5gPObvwuv+kYuG8f8H4kMdXvvNXJpIu1zuHobdbJG+a/XPGWdhdN3VJJNO3je4RqBRfhZ6tElmqOfISv4mCw05tKVUmOwA9T8L+BqHvHP8qjq+89ht1FUCQCrPwqNtIThJCxhnyqt7ec/1BEPybBAwqm133JAgGvSyAkNF3sf65550zLjg7D4Ks1kQooNW3rf4giiV6zjtnxPs2tD3pt96aQI1TOAMgPZosIfG+C7UvHowKluI83hDZcYG/V01FE1puHQTRjay7W3Xy3jct/9P1YAzE0blnjoHxaBNCViF8JETsbWSN4NEiIbCY9O04zg/5cRzn/r1F26cRrILBY8rFT9o+7D0KcRMCi10EwSBkQyFE1FtN2qHrLhMi2isRUqhsebEQ4Zcssm3Sd/tUijJiBcXtgPOoB+5SQe5qqk1OWj8Ekd03hCxVWscg0nklm/vsKxHxd8e9ZEwG0s3mlE5SJR7u1UHuWstjgp91Som+tT4T8XGrskTocsuLx+z1VfeZaiXY6wTXTO4uKkYodQZcMK+1VpCKMcGDjlRsvCG03Nj2mBD8uKkaL210+ufWZoARPCnWPzvOMRQPDxxn13E2K4RMhgLCF312K/iV1/m7XN3sBkrRbOuy1DnT2tJifS/kgrl6qhuvcAJR+jVNgtScs2sWHnbqq/XOUcSFYId1SsYYkkJq7KzW+tdC8MjbrpffN7sDucudxb6l4TzsqrGxBX0Y7CR9OFH5hL5Zf2JIJzUND14kAgtI347jJLwov+7N4LQTMLXjX+xeykQR00sjBFa1gvVTF3jTM3fb5G5kyuYQ8RSDNNOEmPQN42XdCvWC5KteWQ2k1W542ZO+WQMmgfS8qrKdjjYIEXDOvE1KYMtrNFtGVjd3RzdAXrQvUx7AZ8x2aFtHsZ8tBdImkpA0HwZyClkpy4S24k7AzWgvbftcRPug/gRD4ErOI84DknnfsvUdKG4ElKdAUXQuwNFspp1FndCIfcutQtMPleW5r5J+JiucgTBdgpp4wt20+SLMFulEmzeEkLHqbabVqXNuxL5ll5kTczLM/gT1pigPW7ivs7VaZgweLQQCC0jfP378MOn7x48f9+opuhMw7bLJ+IkIdtKbCiQ1jyc5jLIdWizpG6bwuu0PhTibTN82W6lElHjQba5Zt5yRCl1YyedmNL2hEJfdzMPPWStnF8Wq+oqsouaDV8BxYghO37QQqVqIaK9ZypFz241b10ILa92QJ8ZOMuSn6ZtMhGKMhuZUIbXlfktrSwhJgmMyuWiywmmFGRKMdUNShe4CtIGaaEfp25rJpPChl6xKpAAgZe19yyGX+gTystGtd1A+tQIPFgoBpO9cd1K4bTjnQ/VPTgRnHZO/ZziMhJClWucwZDELj7zwPvRNaL13KTOfwb8PzPhm4a+Oe87i69A7BpI0cjNq4OAbM0TOHgLEYZYnhMgqmhpKn/xYRYRu4/CwlYbbbTkmFaorUghn4UAGpvX/3o506icakpczA8wxrEfGQyEnQiMWkfP0LZMT00xkJiqcwjBLgj0TQzXzzBhDTCjGCDfpG46NxwVS4Ym9s5VPrcCDhUJgAen7p4Inr5zwqm88SSHdonQJLLt+OuPQ9T675eGe2rGUt6XBrdPrqpEl9wnV8ytRD1bHtP6NCR52VbjGJAWokG8iPzwlSRmLel1F0zeUV/uxNzBX8VMVTsiJMblGXUoYJ/W+cxXgqUHY8DQNyVEq1JgBSJ71JkNxN/q2tDXpW2o/TuHUrHH2mhLy/UKIdJCTiTZvSA6KRLj5kM4IfYeO6USM2DtV+dQKPFgoBBaQvgkhD966LH4JowODvZMltrX92IKU8OzJSeVk6ehEuXdlxKlHuHVsXe1KF+uf23W1J0kIlTFuECs3oLR826eDodiCB12MGSI/PGX1dLcQrlLg4iSlfa0ptwRVpZJzDs8qmRGGRJoUYvu2RNrC+jL8qhulFChmgiFQSDZtBGHq3+1EePksogaEyKWDEfueBoXEwQzxW9EJpW3U1fDqmUPpP0VhbRmZLoGQnOaEVA4Y7JEofGbQtxKud6RlmyZ9l/dhE918JoiCQJUWNUV5Wv6nlQvEZfbg0ctHYDHp+6H9UnQuIpuPkvwTYfBCfiVr+UHVvsyVcN7CRqJMbxDi3KFE8Zra9sxTv2YrcMEyN/nPPhPc/0jIeyny3ClTQpfrXUjVkMW0SAiOTKFvQoFneegkWX0qeUNnI+wEIotfy4eV0j1SE0TLRn3hAyiWZJ5AyKjSOmbh15JaEIwxBOpJNzP2228pXa62DiGX0ZoLTX+WKPpWtEULS3Q6FNKR58GuCv/Q6leIMmVTzp/yIczv9cSFfdMJuOCDjtwzmIC8NjT5niZBqSri03bS/DvYCeBnSv6IISDRXtBIhPkZ9DLMsLJ6GvsmFCYnfu4kuSa0DulNrC+99cnKyw3PbPs0Zw7+fPkIIH3rPvzscxV2vuX8pK3Otk94clIIPuT+54bLuHxvieDDsLtKyrtBDImDQtzy+Ajc1hLkY6gPD79WIe4BdaPee7Nu7H006nLODhuEFDunsbhV0eQwvuXRvuIamZ+nRA7D7rs6sOYt55e96oYr6Q+u8ZvA0cmL2iT9TcvtE5mKPAjCq5jHYX9Db43KZLv4KgwGQXjNxY2vE7p1XWLoecs5c7McbUJKn3ym4uZSheigIeVOMgRkmvhEh82S5GsFZuOQJWjzBEzyqhMMpbFDHh+3/kMmQwGcV26fyNxJ2LeIo30XJrZbHl/1lc6FjX4YQ+Y7pHtyzk4Sqp2MfAaCOpokQWseewd+LDdOoEcue3quIHlD0o675fGZI3ONaPmz3IS4hU2X+LLnQrxb8JuoL7O26du2L/swGIRRzOOLfiPJ0J+MttqXtlJ38hbh7xeNANL3L+i+pZXyarm0nPh593sRnaxbHnmSHt6qkZ180Ou0lOQxL7GDp7fLq+WHZpjBu1zKqyPPf08wBGh2uZSVn/lSQMiGtHSbDoUSLsEHu9Je0N2cGDvm1YCTFdZ11fcECWnW5ojCSfVJ503pqozsIzBkpLOk7aNGETJBefquz4QVMjJbw+OXjgDS90vvQdQfEZiIQHEniMfvRU+sghdeEAJI3y+os1BVROAeCBQ2XMbGRMPuIQKLPm8EkL6fd/+gdojAgxAofQ3ZwBn7BpsHycNKzxEBpO/n2CuoEyKACCACMxFA+p4JERZABBABROA5IoD0/Rx7BXVCBBABRGAmAkjfMyHCAogAIoAIPEcEkL6fY6+gTogAIoAIzEQA6XsmRFgAEUAEEIHniADS93PsFdQJEUAEEIGZCCB9z4QICyACiAAi8BwRQPp+jr2COiECiAAiMBMBpO+ZEGEBRAARQASeIwJI38+xV1AnRAARQARmIoD0PRMiLIAIIAKIwHNEAOn7OfYK6oQIIAKIwEwEkL5nQoQFEAFEABF4jgggfT/HXkGdEAFEABGYiQDS90yIsAAigAggAs8RAaTv59grqBMigAggAjMRQPqeCREWQAQQAUTgOSKA9P0ce2VOOhVWRv5U+Zwko5gnQuBN2x30W6+eqHVs9pkhgPT9zDpkLuqsdryrWAghbtzaXASikGeBQKl7KQQPOmPpm7b8oRC3Ue/PZ6ErKvEICCB9ZyC3TzgfcmC9WziAf7dCxJH/pVbISr2EI1osrVZ7l0jfL6Gz7qxjaTfkPOy+o+NrvHJCGLuxtzH+Op5dPASQvnN92gmEEGcdfbZQ2fbBj73u1yfcNbrks/vunCF9/+JOoU4oYvfDL24lEd9wL/32m6wtuhvmVld0uVR+/cI8jcwePLo/AkjfOcxy9A1XwesRgp+2XhaBI33nunb+Pzc9LqLu2FDG/BvLS2wec3HZLeZP4+/fCAGk71xnj6FvQpreUAgROtmNWqhtu8FVzIcsPOo2DJ+o8JfjXTA+5PFV4G6bUZcJVWixvu2Gp90ygQIh4/wm8j6XYapY7biDIEj+uZ1V0vhX//zeKYPitPxPVzYXR+ee85fleaX0ndUaBMG/DVNsTy20l2qdwyC64ZyF3l6jlEKidDt2iqTUPAjZkIV7+UUIXa53DkN/r1z4y/EVIActqX0mJVNy4LaNtX9hrdk9Cd2PhL5tdE+ieMjZebexlFYkZKnmHIVsCJgEh51aekmeB4WHLLSaK1Q2u/6F2yK0/LEPHXQT+btVSgh92+oPxjUBlxpd2Qp02WcorD6paQTwATXiK6/9Vl2vNPdcHzYY4kh2kLstO2Rqj2jBWv7bVv9EiTXblSac9xuEVnf96CaOjtolQuhyvbXv+3tVqLzW7B76kWxcDg8YG0R2VnDalSWmNzFj5OT0xJ/PFoHFpG/HcX7Ij+M494R+LH0ToEIhgm0lrNQZcMG81lqBLFVaxyzbTfrQZyL2tioFQosfvThbWU+q0vZvQbK4Cf2rOL4IgkHIYKqIevKGLG16ELphXut9qUhJ4XW1+S3iV27zXZESWj9kgofddbhS2fJAj52Me1P6Lryuds9h/RDu1WFxTYulvzvBTRx8qa8sEfKmEwwFO25VlkhhrQVSBh3p06W6uc5hxK7lXuiFY7l7n32pveCMRYNe6+9yfdtnQoirXiXBnda/aSVpsb4XcsH6MtpQ3YeCYOqpH8csHATBBTTBT1q6y2qAplSMLrcAzUO5EfumE3DBj5uU0OJ6L+IiPmrIKtXedSLSP2XxVRgMAuA4EftHwYQmCF3vs1tApkhpcb0L+n2TrWjT4nM/imNQ75zBxshVT/J0pbnr9AFV5u06zq7TXi+SWT2i7YJvuu4CLnvQBfR9nwnVbmpC0N0J2LVsMfa6GqsEgbWms9sPh0Jcew603q7/3x5LBlK2WT2hCWh8+sgx9cTj54zAAtK34zjqJlb/35PBx9N37RBoINqHO7e4E/CMlwmhbZ8nl6AY9zX9tLwbvy07f0oVQtTcwPqp7wxLchHsqGFTdC4sx795HIdfJIVuALMnx7Js4ygG3teJByl9w0VZWNMcIa+6UexJzit2zrgZQqWfwBqYPOQHhHDOjiRX/lEGus9/Wj4X4txJndbS10gI7n+SJz64MUwqKedX+tcQhkpkwFWYLbS3XoTMijRbRtb1t5KyraPY/wzH//kSgvyP6jx1zoVg/dTllD3Fg20tUjVx7ujfdhOk5t4IfqamKxBYOWBGD8rBcN1PvX6IV4gg3RiRbWU/FchTeiSxBPgTQIthBlIfUEMkPUKUCXzQLRFSeF0uLctSEGfXExhUklWyTRoQClCk6E1pYtbIyfTEo+eNwALS948fP0z6/vHjx326YCZ9J/d/XQstrIHLpnY7i8Asgl96HfCI08+0KoSQHCkQyTiavonkUxF9VQzY8mO/LUXLWhnPQmOS99Uck8wK6c1MgDfF0GtKpcr7ETuQ/vGrbiRE/D2zpvIVrElbV61MDe+O8IiUqThaVg9TaqfLDe/GoBjVuvKppWLWlKNSKYaRt1030SQky2eny/kEmyJMHuZ2InRo4rSONiERC3d1X9GinALT6jJoZlBkjq9zP2f2iGxf/rflc8HTmQmo19h1lCZwbzMrrhS3DRmBXfkBaY9PbuIeeuZUwJ/PDAGk71yHjKdvoJUkeCJvGy4X+1lgOvB2VLSg1D6RQQZYsofuR+XzTa+ivC3DibPpm5AGuNnXfWhgy4+16ypVMmoRong/pSqLCgmRU4tyisu9K837yjllEGcw/nkd7cLnGCoHlvw5yiMZhlLJJDqcyd9Pvc6p3EpI6ZMfq5jAbRweGiF1Wm7s+RFEbFz/2pgPCCE7wHJGNsjUJqCwiK9M24Ng0NP65U3LoZH7ObNHUvTkAsJUMr0iD/ImqKs5Q/K65SbsKU3cXU9bLfz17BBYQPqef/BEhkdg1QxemrxtbtzUXx3tUrXlJXmH+1t0ZpUcC+S872RFD/m8tH3K0qxeeRNmji2oIbl4En2rII+4cIp/9qM0hK2qZN533pq8bvnrGhDDRSUkR9+2kpaEHCXJOFLqP6qSavv0BqbPJPlHB+vV3Ag4mFXy3De1CUnfmfdt6TbGtBwauZ8zeyQTD+2O+tf6et4EdT5nyAz6ltPY+CbuoafWCL+fJwILSN+EkPluXVb2I9g+VDtahLROYcOqr/1T2a+UyvV3ZdNprumOfuOEPInzTqlCEoGGHy0pNY2BgDgZRoiPXf8q25gqg1bW/UklKSRBZ1LuXdm8RoiMDITu9yjY0eECIiPXyrXXipPEGvgtNTd0S8tkByM8YuivlNQqJXUy8as9iHTkgifp5sFa09nUO6Ck5JxDvKGlVErL5CIGhMgWTcc2x3rJDJHMvlIBfqrCUdqkTD8JjjEzSb7WCxeSXzbN6hEtP51os9g3XCq8XlGZQyMmqIo5Q0Zgz0GhJuZxTczSs1DbatVVwN1QGQ+fIQKLSd8/ATTcJNljO7TcOoy4EPEpJG8lH0gvkdkga/J2k8kn4Ve43jkz4shqS/NfmacwuYreujQoUt14BqnB9ijMGSIJWCs95N4UP3cSxWjdhfSFvn5KPlkl6J+yzp9Sc55Ez5WY2jdpjUzwABJZa3nXYVenQkpPzdAtgcD8Ug15LZVRt9ToX/EsFecVZIno9BiZ3LYXspRTRiy1mtsJRLbKkQjIrI/OQD1bWCAq3+YWZqm6nnMkw86i72z7sQhJRDIDRIbXZfLJtaeDJ/ZgSPg6E67YXG4MFApLyYbk5B4xQZOzEbSrUktl4pBO1xkxQVUcR98q73upoHgf0MsWIpObmDpyJLln+6im0nj83BBA+s56BB6al8/Mpw/Ni1vOLrzuPzptQZctffKTPC25po8OGur+qR0wcRtH50n+X3ySkf6EKg2XyUfzheDDsLtKyrtBDImD8OB+fKQzNJLUkfwTIvRt22eQrB0Mwijm8UU/SZpedYIbZUkiVisOeSz8WO1f6nOk1D5Jcvig3WHU3/j/7ZwxS8NAFMe/w+1dBEeddBCHo+AkDgrFQSfBUcTJLiJYl4J0EAXp0oJ00EEohUAhCPlo8u6uaUzSUAvSPv05pa1373+/9/g3ad7Fr2aqLRlHvWvf15yOSg/EvqPndjdKwmMGxu+tRnp2b2qN1mByO0B89+XC0yysdBrOozBH7eFn4vv/Bh9xMgp7Dl2rn0OUJMPHs/0r+YJIxlH38rDZj+Q5B+7l07kxJ53h5CkIUb9pTSGEa6JruYbFMOOoGzq7M2Pj1xtrbH5yOYkWhUkcx3H07jqyZ2YkpZUerJ+230KOJHRYXSZKHA8ffENkcSEyixSblI0EvznILG3Ua/rGofIQMrZCp72Ta83MeUCqmIOVI4B9L5ySta26tfVCL508b6TsfYkzY8hcEqbtFrl/X9uWcKG9LPdZ4WVtY6es+c+Y9S0rssP1e2FcxRvOvuVawa+udIba5u4PRGaChYH5veAe8mSDeG1jZ87lZ2b+diiNH3VrF3hAo+OWiz5/RhaP6+S7QLIhoOKvIsQMncK8vEgqwvDRMghg38ug/qdiin0Xzuj/1ApZDARWkwD2vZp5UaTqWLacZO7vKZKOVAioJoB9q07fssXvnTXve25f+qBzm+m6WbYu4kPgPxDAvv9Dln9tjeEXc/ldu+Q2wK+FZWIIQMAYg31TBhCAAARUEsC+VaYN0RCAAASwb2oAAhCAgEoC2LfKtCEaAhCAAPZNDUAAAhBQSQD7Vpk2REMAAhDAvqkBCEAAAioJYN8q04ZoCEAAAtg8RHurAAAAZ0lEQVQ3NQABCEBAJQHsW2XaEA0BCEAA+6YGIAABCKgkgH2rTBuiIQABCGDf1AAEIAABlQSwb5VpQzQEIAAB7JsagAAEIKCSAPatMm2IhgAEIIB9UwMQgAAEVBLAvlWmDdEQgAAEvgBC9pvv/ICvHwAAAABJRU5ErkJggg==)"
      ],
      "metadata": {
        "id": "ihNwNejr92sW"
      }
    },
    {
      "cell_type": "markdown",
      "source": [
        "##Preparação do modelo"
      ],
      "metadata": {
        "id": "WCEpysb5SZM0"
      }
    },
    {
      "cell_type": "markdown",
      "source": [
        "###Preparando os dados para o modelo"
      ],
      "metadata": {
        "id": "8WEZZTlN6Mvu"
      }
    },
    {
      "cell_type": "code",
      "source": [
        "from sklearn.preprocessing import OneHotEncoder"
      ],
      "metadata": {
        "id": "W6ojyusZoj7B"
      },
      "execution_count": null,
      "outputs": []
    },
    {
      "cell_type": "code",
      "source": [
        "colunas_categoricas = ['Migração', 'Sexo','Estrangeiro', 'Necessidades educacionais especiais', 'Devedor',\n",
        "                     'Taxas de matrícula em dia', 'Bolsista', 'Período','Estado civil', 'Curso', 'Qualificação prévia']"
      ],
      "metadata": {
        "id": "cZleeZWQovQb"
      },
      "execution_count": null,
      "outputs": []
    },
    {
      "cell_type": "code",
      "source": [
        "encoder = OneHotEncoder(drop='if_binary')\n",
        "\n",
        "students_categorico = students[colunas_categoricas]\n",
        "\n",
        "students_encoded = pd.DataFrame(encoder.fit_transform(students_categorico).toarray(),\n",
        "                          columns=encoder.get_feature_names_out(colunas_categoricas))\n",
        "\n",
        "students_final = pd.concat([students.drop(colunas_categoricas, axis=1), students_encoded], axis=1)"
      ],
      "metadata": {
        "id": "Ra3KroTDo4Hq"
      },
      "execution_count": null,
      "outputs": []
    },
    {
      "cell_type": "code",
      "source": [
        "students_final"
      ],
      "metadata": {
        "colab": {
          "base_uri": "https://localhost:8080/"
        },
        "id": "7DEAPudVqiKM",
        "outputId": "c812a5ee-c460-40a9-f84c-1549ca2daef4"
      },
      "execution_count": null,
      "outputs": [
        {
          "output_type": "execute_result",
          "data": {
            "text/plain": [
              "      Idade na matrícula  Taxa de desemprego  Taxa de inflação   PIB  \\\n",
              "0                     20                10.8               1.4  1.74   \n",
              "1                     19                13.9              -0.3  0.79   \n",
              "2                     19                10.8               1.4  1.74   \n",
              "3                     20                 9.4              -0.8 -3.12   \n",
              "4                     45                13.9              -0.3  0.79   \n",
              "...                  ...                 ...               ...   ...   \n",
              "4419                  19                15.5               2.8 -4.06   \n",
              "4420                  18                11.1               0.6  2.02   \n",
              "4421                  30                13.9              -0.3  0.79   \n",
              "4422                  20                 9.4              -0.8 -3.12   \n",
              "4423                  22                12.7               3.7 -1.70   \n",
              "\n",
              "      disciplinas 1º semestre (creditadas)  \\\n",
              "0                                        0   \n",
              "1                                        0   \n",
              "2                                        0   \n",
              "3                                        0   \n",
              "4                                        0   \n",
              "...                                    ...   \n",
              "4419                                     0   \n",
              "4420                                     0   \n",
              "4421                                     0   \n",
              "4422                                     0   \n",
              "4423                                     0   \n",
              "\n",
              "      disciplinas 1º semestre (matriculadas)  \\\n",
              "0                                          0   \n",
              "1                                          6   \n",
              "2                                          6   \n",
              "3                                          6   \n",
              "4                                          6   \n",
              "...                                      ...   \n",
              "4419                                       6   \n",
              "4420                                       6   \n",
              "4421                                       7   \n",
              "4422                                       5   \n",
              "4423                                       6   \n",
              "\n",
              "      disciplinas 1º semestre (avaliações)  \\\n",
              "0                                        0   \n",
              "1                                        6   \n",
              "2                                        0   \n",
              "3                                        8   \n",
              "4                                        9   \n",
              "...                                    ...   \n",
              "4419                                     7   \n",
              "4420                                     6   \n",
              "4421                                     8   \n",
              "4422                                     5   \n",
              "4423                                     8   \n",
              "\n",
              "      disciplinas 1º semestre (aprovadas)  disciplinas 1º semestre (notas)  \\\n",
              "0                                       0                         0.000000   \n",
              "1                                       6                        14.000000   \n",
              "2                                       0                         0.000000   \n",
              "3                                       6                        13.428571   \n",
              "4                                       5                        12.333333   \n",
              "...                                   ...                              ...   \n",
              "4419                                    5                        13.600000   \n",
              "4420                                    6                        12.000000   \n",
              "4421                                    7                        14.912500   \n",
              "4422                                    5                        13.800000   \n",
              "4423                                    6                        11.666667   \n",
              "\n",
              "      disciplinas 1º semestre (sem avaliações)  ...  \\\n",
              "0                                            0  ...   \n",
              "1                                            0  ...   \n",
              "2                                            0  ...   \n",
              "3                                            0  ...   \n",
              "4                                            0  ...   \n",
              "...                                        ...  ...   \n",
              "4419                                         0  ...   \n",
              "4420                                         0  ...   \n",
              "4421                                         0  ...   \n",
              "4422                                         0  ...   \n",
              "4423                                         0  ...   \n",
              "\n",
              "      Qualificação prévia_Educação básica 3º ciclo (9º/10º/11º ano) ou equivalente  \\\n",
              "0                                                   0.0                              \n",
              "1                                                   0.0                              \n",
              "2                                                   0.0                              \n",
              "3                                                   0.0                              \n",
              "4                                                   0.0                              \n",
              "...                                                 ...                              \n",
              "4419                                                0.0                              \n",
              "4420                                                0.0                              \n",
              "4421                                                0.0                              \n",
              "4422                                                0.0                              \n",
              "4423                                                0.0                              \n",
              "\n",
              "      Qualificação prévia_Educação secundária  \\\n",
              "0                                         1.0   \n",
              "1                                         1.0   \n",
              "2                                         1.0   \n",
              "3                                         1.0   \n",
              "4                                         1.0   \n",
              "...                                       ...   \n",
              "4419                                      1.0   \n",
              "4420                                      1.0   \n",
              "4421                                      1.0   \n",
              "4422                                      1.0   \n",
              "4423                                      1.0   \n",
              "\n",
              "      Qualificação prévia_Educação superior - bacharelado  \\\n",
              "0                                                   0.0     \n",
              "1                                                   0.0     \n",
              "2                                                   0.0     \n",
              "3                                                   0.0     \n",
              "4                                                   0.0     \n",
              "...                                                 ...     \n",
              "4419                                                0.0     \n",
              "4420                                                0.0     \n",
              "4421                                                0.0     \n",
              "4422                                                0.0     \n",
              "4423                                                0.0     \n",
              "\n",
              "      Qualificação prévia_Educação superior - doutorado  \\\n",
              "0                                                   0.0   \n",
              "1                                                   0.0   \n",
              "2                                                   0.0   \n",
              "3                                                   0.0   \n",
              "4                                                   0.0   \n",
              "...                                                 ...   \n",
              "4419                                                0.0   \n",
              "4420                                                0.0   \n",
              "4421                                                0.0   \n",
              "4422                                                0.0   \n",
              "4423                                                0.0   \n",
              "\n",
              "      Qualificação prévia_Educação superior - licenciatura  \\\n",
              "0                                                   0.0      \n",
              "1                                                   0.0      \n",
              "2                                                   0.0      \n",
              "3                                                   0.0      \n",
              "4                                                   0.0      \n",
              "...                                                 ...      \n",
              "4419                                                0.0      \n",
              "4420                                                0.0      \n",
              "4421                                                0.0      \n",
              "4422                                                0.0      \n",
              "4423                                                0.0      \n",
              "\n",
              "      Qualificação prévia_Educação superior - licenciatura (1º ciclo)  \\\n",
              "0                                                   0.0                 \n",
              "1                                                   0.0                 \n",
              "2                                                   0.0                 \n",
              "3                                                   0.0                 \n",
              "4                                                   0.0                 \n",
              "...                                                 ...                 \n",
              "4419                                                0.0                 \n",
              "4420                                                0.0                 \n",
              "4421                                                0.0                 \n",
              "4422                                                0.0                 \n",
              "4423                                                0.0                 \n",
              "\n",
              "     Qualificação prévia_Educação superior - mestrado  \\\n",
              "0                                                 0.0   \n",
              "1                                                 0.0   \n",
              "2                                                 0.0   \n",
              "3                                                 0.0   \n",
              "4                                                 0.0   \n",
              "...                                               ...   \n",
              "4419                                              0.0   \n",
              "4420                                              0.0   \n",
              "4421                                              0.0   \n",
              "4422                                              0.0   \n",
              "4423                                              0.0   \n",
              "\n",
              "      Qualificação prévia_Educação superior - mestrado (2º ciclo)  \\\n",
              "0                                                   0.0             \n",
              "1                                                   0.0             \n",
              "2                                                   0.0             \n",
              "3                                                   0.0             \n",
              "4                                                   0.0             \n",
              "...                                                 ...             \n",
              "4419                                                0.0             \n",
              "4420                                                0.0             \n",
              "4421                                                0.0             \n",
              "4422                                                0.0             \n",
              "4423                                                0.0             \n",
              "\n",
              "      Qualificação prévia_Frequência de educação superior  \\\n",
              "0                                                   0.0     \n",
              "1                                                   0.0     \n",
              "2                                                   0.0     \n",
              "3                                                   0.0     \n",
              "4                                                   0.0     \n",
              "...                                                 ...     \n",
              "4419                                                0.0     \n",
              "4420                                                0.0     \n",
              "4421                                                0.0     \n",
              "4422                                                0.0     \n",
              "4423                                                0.0     \n",
              "\n",
              "      Qualificação prévia_Outro - 11º ano de escolaridade  \n",
              "0                                                   0.0    \n",
              "1                                                   0.0    \n",
              "2                                                   0.0    \n",
              "3                                                   0.0    \n",
              "4                                                   0.0    \n",
              "...                                                 ...    \n",
              "4419                                                0.0    \n",
              "4420                                                0.0    \n",
              "4421                                                0.0    \n",
              "4422                                                0.0    \n",
              "4423                                                0.0    \n",
              "\n",
              "[4424 rows x 65 columns]"
            ],
            "text/html": [
              "\n",
              "  <div id=\"df-9f99e21a-1dca-46f0-8c07-d1fe96ca1fe5\" class=\"colab-df-container\">\n",
              "    <div>\n",
              "<style scoped>\n",
              "    .dataframe tbody tr th:only-of-type {\n",
              "        vertical-align: middle;\n",
              "    }\n",
              "\n",
              "    .dataframe tbody tr th {\n",
              "        vertical-align: top;\n",
              "    }\n",
              "\n",
              "    .dataframe thead th {\n",
              "        text-align: right;\n",
              "    }\n",
              "</style>\n",
              "<table border=\"1\" class=\"dataframe\">\n",
              "  <thead>\n",
              "    <tr style=\"text-align: right;\">\n",
              "      <th></th>\n",
              "      <th>Idade na matrícula</th>\n",
              "      <th>Taxa de desemprego</th>\n",
              "      <th>Taxa de inflação</th>\n",
              "      <th>PIB</th>\n",
              "      <th>disciplinas 1º semestre (creditadas)</th>\n",
              "      <th>disciplinas 1º semestre (matriculadas)</th>\n",
              "      <th>disciplinas 1º semestre (avaliações)</th>\n",
              "      <th>disciplinas 1º semestre (aprovadas)</th>\n",
              "      <th>disciplinas 1º semestre (notas)</th>\n",
              "      <th>disciplinas 1º semestre (sem avaliações)</th>\n",
              "      <th>...</th>\n",
              "      <th>Qualificação prévia_Educação básica 3º ciclo (9º/10º/11º ano) ou equivalente</th>\n",
              "      <th>Qualificação prévia_Educação secundária</th>\n",
              "      <th>Qualificação prévia_Educação superior - bacharelado</th>\n",
              "      <th>Qualificação prévia_Educação superior - doutorado</th>\n",
              "      <th>Qualificação prévia_Educação superior - licenciatura</th>\n",
              "      <th>Qualificação prévia_Educação superior - licenciatura (1º ciclo)</th>\n",
              "      <th>Qualificação prévia_Educação superior - mestrado</th>\n",
              "      <th>Qualificação prévia_Educação superior - mestrado (2º ciclo)</th>\n",
              "      <th>Qualificação prévia_Frequência de educação superior</th>\n",
              "      <th>Qualificação prévia_Outro - 11º ano de escolaridade</th>\n",
              "    </tr>\n",
              "  </thead>\n",
              "  <tbody>\n",
              "    <tr>\n",
              "      <th>0</th>\n",
              "      <td>20</td>\n",
              "      <td>10.8</td>\n",
              "      <td>1.4</td>\n",
              "      <td>1.74</td>\n",
              "      <td>0</td>\n",
              "      <td>0</td>\n",
              "      <td>0</td>\n",
              "      <td>0</td>\n",
              "      <td>0.000000</td>\n",
              "      <td>0</td>\n",
              "      <td>...</td>\n",
              "      <td>0.0</td>\n",
              "      <td>1.0</td>\n",
              "      <td>0.0</td>\n",
              "      <td>0.0</td>\n",
              "      <td>0.0</td>\n",
              "      <td>0.0</td>\n",
              "      <td>0.0</td>\n",
              "      <td>0.0</td>\n",
              "      <td>0.0</td>\n",
              "      <td>0.0</td>\n",
              "    </tr>\n",
              "    <tr>\n",
              "      <th>1</th>\n",
              "      <td>19</td>\n",
              "      <td>13.9</td>\n",
              "      <td>-0.3</td>\n",
              "      <td>0.79</td>\n",
              "      <td>0</td>\n",
              "      <td>6</td>\n",
              "      <td>6</td>\n",
              "      <td>6</td>\n",
              "      <td>14.000000</td>\n",
              "      <td>0</td>\n",
              "      <td>...</td>\n",
              "      <td>0.0</td>\n",
              "      <td>1.0</td>\n",
              "      <td>0.0</td>\n",
              "      <td>0.0</td>\n",
              "      <td>0.0</td>\n",
              "      <td>0.0</td>\n",
              "      <td>0.0</td>\n",
              "      <td>0.0</td>\n",
              "      <td>0.0</td>\n",
              "      <td>0.0</td>\n",
              "    </tr>\n",
              "    <tr>\n",
              "      <th>2</th>\n",
              "      <td>19</td>\n",
              "      <td>10.8</td>\n",
              "      <td>1.4</td>\n",
              "      <td>1.74</td>\n",
              "      <td>0</td>\n",
              "      <td>6</td>\n",
              "      <td>0</td>\n",
              "      <td>0</td>\n",
              "      <td>0.000000</td>\n",
              "      <td>0</td>\n",
              "      <td>...</td>\n",
              "      <td>0.0</td>\n",
              "      <td>1.0</td>\n",
              "      <td>0.0</td>\n",
              "      <td>0.0</td>\n",
              "      <td>0.0</td>\n",
              "      <td>0.0</td>\n",
              "      <td>0.0</td>\n",
              "      <td>0.0</td>\n",
              "      <td>0.0</td>\n",
              "      <td>0.0</td>\n",
              "    </tr>\n",
              "    <tr>\n",
              "      <th>3</th>\n",
              "      <td>20</td>\n",
              "      <td>9.4</td>\n",
              "      <td>-0.8</td>\n",
              "      <td>-3.12</td>\n",
              "      <td>0</td>\n",
              "      <td>6</td>\n",
              "      <td>8</td>\n",
              "      <td>6</td>\n",
              "      <td>13.428571</td>\n",
              "      <td>0</td>\n",
              "      <td>...</td>\n",
              "      <td>0.0</td>\n",
              "      <td>1.0</td>\n",
              "      <td>0.0</td>\n",
              "      <td>0.0</td>\n",
              "      <td>0.0</td>\n",
              "      <td>0.0</td>\n",
              "      <td>0.0</td>\n",
              "      <td>0.0</td>\n",
              "      <td>0.0</td>\n",
              "      <td>0.0</td>\n",
              "    </tr>\n",
              "    <tr>\n",
              "      <th>4</th>\n",
              "      <td>45</td>\n",
              "      <td>13.9</td>\n",
              "      <td>-0.3</td>\n",
              "      <td>0.79</td>\n",
              "      <td>0</td>\n",
              "      <td>6</td>\n",
              "      <td>9</td>\n",
              "      <td>5</td>\n",
              "      <td>12.333333</td>\n",
              "      <td>0</td>\n",
              "      <td>...</td>\n",
              "      <td>0.0</td>\n",
              "      <td>1.0</td>\n",
              "      <td>0.0</td>\n",
              "      <td>0.0</td>\n",
              "      <td>0.0</td>\n",
              "      <td>0.0</td>\n",
              "      <td>0.0</td>\n",
              "      <td>0.0</td>\n",
              "      <td>0.0</td>\n",
              "      <td>0.0</td>\n",
              "    </tr>\n",
              "    <tr>\n",
              "      <th>...</th>\n",
              "      <td>...</td>\n",
              "      <td>...</td>\n",
              "      <td>...</td>\n",
              "      <td>...</td>\n",
              "      <td>...</td>\n",
              "      <td>...</td>\n",
              "      <td>...</td>\n",
              "      <td>...</td>\n",
              "      <td>...</td>\n",
              "      <td>...</td>\n",
              "      <td>...</td>\n",
              "      <td>...</td>\n",
              "      <td>...</td>\n",
              "      <td>...</td>\n",
              "      <td>...</td>\n",
              "      <td>...</td>\n",
              "      <td>...</td>\n",
              "      <td>...</td>\n",
              "      <td>...</td>\n",
              "      <td>...</td>\n",
              "      <td>...</td>\n",
              "    </tr>\n",
              "    <tr>\n",
              "      <th>4419</th>\n",
              "      <td>19</td>\n",
              "      <td>15.5</td>\n",
              "      <td>2.8</td>\n",
              "      <td>-4.06</td>\n",
              "      <td>0</td>\n",
              "      <td>6</td>\n",
              "      <td>7</td>\n",
              "      <td>5</td>\n",
              "      <td>13.600000</td>\n",
              "      <td>0</td>\n",
              "      <td>...</td>\n",
              "      <td>0.0</td>\n",
              "      <td>1.0</td>\n",
              "      <td>0.0</td>\n",
              "      <td>0.0</td>\n",
              "      <td>0.0</td>\n",
              "      <td>0.0</td>\n",
              "      <td>0.0</td>\n",
              "      <td>0.0</td>\n",
              "      <td>0.0</td>\n",
              "      <td>0.0</td>\n",
              "    </tr>\n",
              "    <tr>\n",
              "      <th>4420</th>\n",
              "      <td>18</td>\n",
              "      <td>11.1</td>\n",
              "      <td>0.6</td>\n",
              "      <td>2.02</td>\n",
              "      <td>0</td>\n",
              "      <td>6</td>\n",
              "      <td>6</td>\n",
              "      <td>6</td>\n",
              "      <td>12.000000</td>\n",
              "      <td>0</td>\n",
              "      <td>...</td>\n",
              "      <td>0.0</td>\n",
              "      <td>1.0</td>\n",
              "      <td>0.0</td>\n",
              "      <td>0.0</td>\n",
              "      <td>0.0</td>\n",
              "      <td>0.0</td>\n",
              "      <td>0.0</td>\n",
              "      <td>0.0</td>\n",
              "      <td>0.0</td>\n",
              "      <td>0.0</td>\n",
              "    </tr>\n",
              "    <tr>\n",
              "      <th>4421</th>\n",
              "      <td>30</td>\n",
              "      <td>13.9</td>\n",
              "      <td>-0.3</td>\n",
              "      <td>0.79</td>\n",
              "      <td>0</td>\n",
              "      <td>7</td>\n",
              "      <td>8</td>\n",
              "      <td>7</td>\n",
              "      <td>14.912500</td>\n",
              "      <td>0</td>\n",
              "      <td>...</td>\n",
              "      <td>0.0</td>\n",
              "      <td>1.0</td>\n",
              "      <td>0.0</td>\n",
              "      <td>0.0</td>\n",
              "      <td>0.0</td>\n",
              "      <td>0.0</td>\n",
              "      <td>0.0</td>\n",
              "      <td>0.0</td>\n",
              "      <td>0.0</td>\n",
              "      <td>0.0</td>\n",
              "    </tr>\n",
              "    <tr>\n",
              "      <th>4422</th>\n",
              "      <td>20</td>\n",
              "      <td>9.4</td>\n",
              "      <td>-0.8</td>\n",
              "      <td>-3.12</td>\n",
              "      <td>0</td>\n",
              "      <td>5</td>\n",
              "      <td>5</td>\n",
              "      <td>5</td>\n",
              "      <td>13.800000</td>\n",
              "      <td>0</td>\n",
              "      <td>...</td>\n",
              "      <td>0.0</td>\n",
              "      <td>1.0</td>\n",
              "      <td>0.0</td>\n",
              "      <td>0.0</td>\n",
              "      <td>0.0</td>\n",
              "      <td>0.0</td>\n",
              "      <td>0.0</td>\n",
              "      <td>0.0</td>\n",
              "      <td>0.0</td>\n",
              "      <td>0.0</td>\n",
              "    </tr>\n",
              "    <tr>\n",
              "      <th>4423</th>\n",
              "      <td>22</td>\n",
              "      <td>12.7</td>\n",
              "      <td>3.7</td>\n",
              "      <td>-1.70</td>\n",
              "      <td>0</td>\n",
              "      <td>6</td>\n",
              "      <td>8</td>\n",
              "      <td>6</td>\n",
              "      <td>11.666667</td>\n",
              "      <td>0</td>\n",
              "      <td>...</td>\n",
              "      <td>0.0</td>\n",
              "      <td>1.0</td>\n",
              "      <td>0.0</td>\n",
              "      <td>0.0</td>\n",
              "      <td>0.0</td>\n",
              "      <td>0.0</td>\n",
              "      <td>0.0</td>\n",
              "      <td>0.0</td>\n",
              "      <td>0.0</td>\n",
              "      <td>0.0</td>\n",
              "    </tr>\n",
              "  </tbody>\n",
              "</table>\n",
              "<p>4424 rows × 65 columns</p>\n",
              "</div>\n",
              "    <div class=\"colab-df-buttons\">\n",
              "\n",
              "  <div class=\"colab-df-container\">\n",
              "    <button class=\"colab-df-convert\" onclick=\"convertToInteractive('df-9f99e21a-1dca-46f0-8c07-d1fe96ca1fe5')\"\n",
              "            title=\"Convert this dataframe to an interactive table.\"\n",
              "            style=\"display:none;\">\n",
              "\n",
              "  <svg xmlns=\"http://www.w3.org/2000/svg\" height=\"24px\" viewBox=\"0 -960 960 960\">\n",
              "    <path d=\"M120-120v-720h720v720H120Zm60-500h600v-160H180v160Zm220 220h160v-160H400v160Zm0 220h160v-160H400v160ZM180-400h160v-160H180v160Zm440 0h160v-160H620v160ZM180-180h160v-160H180v160Zm440 0h160v-160H620v160Z\"/>\n",
              "  </svg>\n",
              "    </button>\n",
              "\n",
              "  <style>\n",
              "    .colab-df-container {\n",
              "      display:flex;\n",
              "      gap: 12px;\n",
              "    }\n",
              "\n",
              "    .colab-df-convert {\n",
              "      background-color: #E8F0FE;\n",
              "      border: none;\n",
              "      border-radius: 50%;\n",
              "      cursor: pointer;\n",
              "      display: none;\n",
              "      fill: #1967D2;\n",
              "      height: 32px;\n",
              "      padding: 0 0 0 0;\n",
              "      width: 32px;\n",
              "    }\n",
              "\n",
              "    .colab-df-convert:hover {\n",
              "      background-color: #E2EBFA;\n",
              "      box-shadow: 0px 1px 2px rgba(60, 64, 67, 0.3), 0px 1px 3px 1px rgba(60, 64, 67, 0.15);\n",
              "      fill: #174EA6;\n",
              "    }\n",
              "\n",
              "    .colab-df-buttons div {\n",
              "      margin-bottom: 4px;\n",
              "    }\n",
              "\n",
              "    [theme=dark] .colab-df-convert {\n",
              "      background-color: #3B4455;\n",
              "      fill: #D2E3FC;\n",
              "    }\n",
              "\n",
              "    [theme=dark] .colab-df-convert:hover {\n",
              "      background-color: #434B5C;\n",
              "      box-shadow: 0px 1px 3px 1px rgba(0, 0, 0, 0.15);\n",
              "      filter: drop-shadow(0px 1px 2px rgba(0, 0, 0, 0.3));\n",
              "      fill: #FFFFFF;\n",
              "    }\n",
              "  </style>\n",
              "\n",
              "    <script>\n",
              "      const buttonEl =\n",
              "        document.querySelector('#df-9f99e21a-1dca-46f0-8c07-d1fe96ca1fe5 button.colab-df-convert');\n",
              "      buttonEl.style.display =\n",
              "        google.colab.kernel.accessAllowed ? 'block' : 'none';\n",
              "\n",
              "      async function convertToInteractive(key) {\n",
              "        const element = document.querySelector('#df-9f99e21a-1dca-46f0-8c07-d1fe96ca1fe5');\n",
              "        const dataTable =\n",
              "          await google.colab.kernel.invokeFunction('convertToInteractive',\n",
              "                                                    [key], {});\n",
              "        if (!dataTable) return;\n",
              "\n",
              "        const docLinkHtml = 'Like what you see? Visit the ' +\n",
              "          '<a target=\"_blank\" href=https://colab.research.google.com/notebooks/data_table.ipynb>data table notebook</a>'\n",
              "          + ' to learn more about interactive tables.';\n",
              "        element.innerHTML = '';\n",
              "        dataTable['output_type'] = 'display_data';\n",
              "        await google.colab.output.renderOutput(dataTable, element);\n",
              "        const docLink = document.createElement('div');\n",
              "        docLink.innerHTML = docLinkHtml;\n",
              "        element.appendChild(docLink);\n",
              "      }\n",
              "    </script>\n",
              "  </div>\n",
              "\n",
              "\n",
              "<div id=\"df-1957a90b-e286-4d04-8bff-a0bb667d6d12\">\n",
              "  <button class=\"colab-df-quickchart\" onclick=\"quickchart('df-1957a90b-e286-4d04-8bff-a0bb667d6d12')\"\n",
              "            title=\"Suggest charts\"\n",
              "            style=\"display:none;\">\n",
              "\n",
              "<svg xmlns=\"http://www.w3.org/2000/svg\" height=\"24px\"viewBox=\"0 0 24 24\"\n",
              "     width=\"24px\">\n",
              "    <g>\n",
              "        <path d=\"M19 3H5c-1.1 0-2 .9-2 2v14c0 1.1.9 2 2 2h14c1.1 0 2-.9 2-2V5c0-1.1-.9-2-2-2zM9 17H7v-7h2v7zm4 0h-2V7h2v10zm4 0h-2v-4h2v4z\"/>\n",
              "    </g>\n",
              "</svg>\n",
              "  </button>\n",
              "\n",
              "<style>\n",
              "  .colab-df-quickchart {\n",
              "      --bg-color: #E8F0FE;\n",
              "      --fill-color: #1967D2;\n",
              "      --hover-bg-color: #E2EBFA;\n",
              "      --hover-fill-color: #174EA6;\n",
              "      --disabled-fill-color: #AAA;\n",
              "      --disabled-bg-color: #DDD;\n",
              "  }\n",
              "\n",
              "  [theme=dark] .colab-df-quickchart {\n",
              "      --bg-color: #3B4455;\n",
              "      --fill-color: #D2E3FC;\n",
              "      --hover-bg-color: #434B5C;\n",
              "      --hover-fill-color: #FFFFFF;\n",
              "      --disabled-bg-color: #3B4455;\n",
              "      --disabled-fill-color: #666;\n",
              "  }\n",
              "\n",
              "  .colab-df-quickchart {\n",
              "    background-color: var(--bg-color);\n",
              "    border: none;\n",
              "    border-radius: 50%;\n",
              "    cursor: pointer;\n",
              "    display: none;\n",
              "    fill: var(--fill-color);\n",
              "    height: 32px;\n",
              "    padding: 0;\n",
              "    width: 32px;\n",
              "  }\n",
              "\n",
              "  .colab-df-quickchart:hover {\n",
              "    background-color: var(--hover-bg-color);\n",
              "    box-shadow: 0 1px 2px rgba(60, 64, 67, 0.3), 0 1px 3px 1px rgba(60, 64, 67, 0.15);\n",
              "    fill: var(--button-hover-fill-color);\n",
              "  }\n",
              "\n",
              "  .colab-df-quickchart-complete:disabled,\n",
              "  .colab-df-quickchart-complete:disabled:hover {\n",
              "    background-color: var(--disabled-bg-color);\n",
              "    fill: var(--disabled-fill-color);\n",
              "    box-shadow: none;\n",
              "  }\n",
              "\n",
              "  .colab-df-spinner {\n",
              "    border: 2px solid var(--fill-color);\n",
              "    border-color: transparent;\n",
              "    border-bottom-color: var(--fill-color);\n",
              "    animation:\n",
              "      spin 1s steps(1) infinite;\n",
              "  }\n",
              "\n",
              "  @keyframes spin {\n",
              "    0% {\n",
              "      border-color: transparent;\n",
              "      border-bottom-color: var(--fill-color);\n",
              "      border-left-color: var(--fill-color);\n",
              "    }\n",
              "    20% {\n",
              "      border-color: transparent;\n",
              "      border-left-color: var(--fill-color);\n",
              "      border-top-color: var(--fill-color);\n",
              "    }\n",
              "    30% {\n",
              "      border-color: transparent;\n",
              "      border-left-color: var(--fill-color);\n",
              "      border-top-color: var(--fill-color);\n",
              "      border-right-color: var(--fill-color);\n",
              "    }\n",
              "    40% {\n",
              "      border-color: transparent;\n",
              "      border-right-color: var(--fill-color);\n",
              "      border-top-color: var(--fill-color);\n",
              "    }\n",
              "    60% {\n",
              "      border-color: transparent;\n",
              "      border-right-color: var(--fill-color);\n",
              "    }\n",
              "    80% {\n",
              "      border-color: transparent;\n",
              "      border-right-color: var(--fill-color);\n",
              "      border-bottom-color: var(--fill-color);\n",
              "    }\n",
              "    90% {\n",
              "      border-color: transparent;\n",
              "      border-bottom-color: var(--fill-color);\n",
              "    }\n",
              "  }\n",
              "</style>\n",
              "\n",
              "  <script>\n",
              "    async function quickchart(key) {\n",
              "      const quickchartButtonEl =\n",
              "        document.querySelector('#' + key + ' button');\n",
              "      quickchartButtonEl.disabled = true;  // To prevent multiple clicks.\n",
              "      quickchartButtonEl.classList.add('colab-df-spinner');\n",
              "      try {\n",
              "        const charts = await google.colab.kernel.invokeFunction(\n",
              "            'suggestCharts', [key], {});\n",
              "      } catch (error) {\n",
              "        console.error('Error during call to suggestCharts:', error);\n",
              "      }\n",
              "      quickchartButtonEl.classList.remove('colab-df-spinner');\n",
              "      quickchartButtonEl.classList.add('colab-df-quickchart-complete');\n",
              "    }\n",
              "    (() => {\n",
              "      let quickchartButtonEl =\n",
              "        document.querySelector('#df-1957a90b-e286-4d04-8bff-a0bb667d6d12 button');\n",
              "      quickchartButtonEl.style.display =\n",
              "        google.colab.kernel.accessAllowed ? 'block' : 'none';\n",
              "    })();\n",
              "  </script>\n",
              "</div>\n",
              "\n",
              "  <div id=\"id_124c71d1-e7f9-4e43-9b64-ced6577546d0\">\n",
              "    <style>\n",
              "      .colab-df-generate {\n",
              "        background-color: #E8F0FE;\n",
              "        border: none;\n",
              "        border-radius: 50%;\n",
              "        cursor: pointer;\n",
              "        display: none;\n",
              "        fill: #1967D2;\n",
              "        height: 32px;\n",
              "        padding: 0 0 0 0;\n",
              "        width: 32px;\n",
              "      }\n",
              "\n",
              "      .colab-df-generate:hover {\n",
              "        background-color: #E2EBFA;\n",
              "        box-shadow: 0px 1px 2px rgba(60, 64, 67, 0.3), 0px 1px 3px 1px rgba(60, 64, 67, 0.15);\n",
              "        fill: #174EA6;\n",
              "      }\n",
              "\n",
              "      [theme=dark] .colab-df-generate {\n",
              "        background-color: #3B4455;\n",
              "        fill: #D2E3FC;\n",
              "      }\n",
              "\n",
              "      [theme=dark] .colab-df-generate:hover {\n",
              "        background-color: #434B5C;\n",
              "        box-shadow: 0px 1px 3px 1px rgba(0, 0, 0, 0.15);\n",
              "        filter: drop-shadow(0px 1px 2px rgba(0, 0, 0, 0.3));\n",
              "        fill: #FFFFFF;\n",
              "      }\n",
              "    </style>\n",
              "    <button class=\"colab-df-generate\" onclick=\"generateWithVariable('students_final')\"\n",
              "            title=\"Generate code using this dataframe.\"\n",
              "            style=\"display:none;\">\n",
              "\n",
              "  <svg xmlns=\"http://www.w3.org/2000/svg\" height=\"24px\"viewBox=\"0 0 24 24\"\n",
              "       width=\"24px\">\n",
              "    <path d=\"M7,19H8.4L18.45,9,17,7.55,7,17.6ZM5,21V16.75L18.45,3.32a2,2,0,0,1,2.83,0l1.4,1.43a1.91,1.91,0,0,1,.58,1.4,1.91,1.91,0,0,1-.58,1.4L9.25,21ZM18.45,9,17,7.55Zm-12,3A5.31,5.31,0,0,0,4.9,8.1,5.31,5.31,0,0,0,1,6.5,5.31,5.31,0,0,0,4.9,4.9,5.31,5.31,0,0,0,6.5,1,5.31,5.31,0,0,0,8.1,4.9,5.31,5.31,0,0,0,12,6.5,5.46,5.46,0,0,0,6.5,12Z\"/>\n",
              "  </svg>\n",
              "    </button>\n",
              "    <script>\n",
              "      (() => {\n",
              "      const buttonEl =\n",
              "        document.querySelector('#id_124c71d1-e7f9-4e43-9b64-ced6577546d0 button.colab-df-generate');\n",
              "      buttonEl.style.display =\n",
              "        google.colab.kernel.accessAllowed ? 'block' : 'none';\n",
              "\n",
              "      buttonEl.onclick = () => {\n",
              "        google.colab.notebook.generateWithVariable('students_final');\n",
              "      }\n",
              "      })();\n",
              "    </script>\n",
              "  </div>\n",
              "\n",
              "    </div>\n",
              "  </div>\n"
            ],
            "application/vnd.google.colaboratory.intrinsic+json": {
              "type": "dataframe",
              "variable_name": "students_final"
            }
          },
          "metadata": {},
          "execution_count": 42
        }
      ]
    },
    {
      "cell_type": "markdown",
      "source": [
        "###Separando os dados"
      ],
      "metadata": {
        "id": "TPiqcefIq-IO"
      }
    },
    {
      "cell_type": "code",
      "source": [
        "#features\n",
        "X = students_final.drop('Target', axis=1)\n",
        "#target\n",
        "y = students_final['Target']"
      ],
      "metadata": {
        "id": "ykUHZJ-JrBXv"
      },
      "execution_count": null,
      "outputs": []
    },
    {
      "cell_type": "code",
      "source": [
        "X,X_test,y,y_test = train_test_split(X, y, test_size=0.15, stratify=y,random_state=0)\n",
        "X_train,X_val,y_train,y_val = train_test_split(X, y, stratify=y, random_state=0)"
      ],
      "metadata": {
        "id": "G9Kcvn6wrcbi"
      },
      "execution_count": null,
      "outputs": []
    },
    {
      "cell_type": "markdown",
      "source": [
        "###Modelo"
      ],
      "metadata": {
        "id": "DNnpFEMeSSFV"
      }
    },
    {
      "cell_type": "code",
      "source": [
        "from sklearn.ensemble import RandomForestClassifier"
      ],
      "metadata": {
        "id": "v23XBWOPVOVE"
      },
      "execution_count": null,
      "outputs": []
    },
    {
      "cell_type": "code",
      "source": [
        "rf_model = RandomForestClassifier(random_state=0)\n",
        "rf_model.fit(X_train, y_train)\n",
        "y_pred = rf_model.predict(X_val)\n",
        "print(f'Training accuracy: {rf_model.score(X_train, y_train)}')\n",
        "print(f'Validation accuracy {rf_model.score(X_val, y_val)}')\n",
        "#Overfitting"
      ],
      "metadata": {
        "colab": {
          "base_uri": "https://localhost:8080/"
        },
        "id": "4bdr9CgiWA_X",
        "outputId": "284dd9ff-08a9-4b48-beae-e6d1e96be4b7"
      },
      "execution_count": null,
      "outputs": [
        {
          "output_type": "stream",
          "name": "stdout",
          "text": [
            "Training accuracy: 0.9975177304964539\n",
            "Validation accuracy 0.7680851063829788\n"
          ]
        }
      ]
    },
    {
      "cell_type": "code",
      "source": [
        "rf_model = RandomForestClassifier(random_state=0, max_depth=10)\n",
        "rf_model.fit(X_train, y_train)\n",
        "y_pred = rf_model.predict(X_val)\n",
        "print(f'Training accuracy: {rf_model.score(X_train, y_train)}')\n",
        "print(f'Validation accuracy {rf_model.score(X_val, y_val)}')"
      ],
      "metadata": {
        "colab": {
          "base_uri": "https://localhost:8080/"
        },
        "id": "6sad0CrMWOE5",
        "outputId": "98b3491b-89aa-4f24-e8a0-be4617cbc541"
      },
      "execution_count": null,
      "outputs": [
        {
          "output_type": "stream",
          "name": "stdout",
          "text": [
            "Training accuracy: 0.898936170212766\n",
            "Validation accuracy 0.7734042553191489\n"
          ]
        }
      ]
    },
    {
      "cell_type": "markdown",
      "source": [
        "![image.png](data:image/png;base64,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)"
      ],
      "metadata": {
        "id": "7N014_IKD-BV"
      }
    },
    {
      "cell_type": "markdown",
      "source": [
        "##Análise do modelo"
      ],
      "metadata": {
        "id": "OIOM4r3F1xCU"
      }
    },
    {
      "cell_type": "markdown",
      "source": [
        "###Conf matrix"
      ],
      "metadata": {
        "id": "QjkITDGo2FQT"
      }
    },
    {
      "cell_type": "code",
      "source": [
        "from sklearn.metrics import confusion_matrix, ConfusionMatrixDisplay"
      ],
      "metadata": {
        "id": "FLdaFC1G100N"
      },
      "execution_count": null,
      "outputs": []
    },
    {
      "cell_type": "code",
      "source": [
        "#Matriz de confusão = linhas: val, colunas:pred\n",
        "conf_matrix = confusion_matrix(y_val, y_pred)"
      ],
      "metadata": {
        "id": "Co6z7__4151y"
      },
      "execution_count": null,
      "outputs": []
    },
    {
      "cell_type": "code",
      "source": [
        "visualizacao = ConfusionMatrixDisplay(confusion_matrix=conf_matrix,display_labels=rf_model.classes_)\n",
        "visualizacao.plot();"
      ],
      "metadata": {
        "colab": {
          "base_uri": "https://localhost:8080/"
        },
        "id": "IPcDqWmY2Obj",
        "outputId": "b3439dcb-cb86-4177-d50f-e3343df0843f"
      },
      "execution_count": null,
      "outputs": [
        {
          "output_type": "display_data",
          "data": {
            "text/plain": [
              "<Figure size 640x480 with 2 Axes>"
            ],
            "image/png": "[encoded data removed]"
          },
          "metadata": {}
        }
      ]
    },
    {
      "cell_type": "code",
      "source": [
        "ConfusionMatrixDisplay.from_predictions(y_val, y_pred, normalize='true', cmap='Blues');"
      ],
      "metadata": {
        "colab": {
          "base_uri": "https://localhost:8080/"
        },
        "id": "CYQUIirK3f6c",
        "outputId": "d240a321-fa92-499f-9963-df00e65bccb0"
      },
      "execution_count": null,
      "outputs": [
        {
          "output_type": "display_data",
          "data": {
            "text/plain": [
              "<Figure size 640x480 with 2 Axes>"
            ],
            "image/png": "[encoded data removed]"
          },
          "metadata": {}
        }
      ]
    },
    {
      "cell_type": "markdown",
      "source": [
        "###Classification Report"
      ],
      "metadata": {
        "id": "srCxBDsR5gvV"
      }
    },
    {
      "cell_type": "code",
      "source": [
        "from sklearn.metrics import classification_report"
      ],
      "metadata": {
        "id": "xmClKMkb5iTS"
      },
      "execution_count": null,
      "outputs": []
    },
    {
      "cell_type": "markdown",
      "source": [
        "  Taxa de acerto na classificação de positivos\n",
        "\n",
        "Precision: VP/ (VP+FP)\n",
        "\n",
        "  Proporção dos positivos que foram classificados corretamente versus incorretamente\n",
        "  \n",
        "  (alto recall é bom: raramente chama um positivo de negativo)\n",
        "\n",
        "Recall: VP/ (VP+FN)\n",
        "\n"
      ],
      "metadata": {
        "id": "-epGmrRv8vxl"
      }
    },
    {
      "cell_type": "code",
      "source": [
        "report = classification_report(y_val, y_pred)\n",
        "print(f'Relatório de Classificação:\\n', report)"
      ],
      "metadata": {
        "colab": {
          "base_uri": "https://localhost:8080/"
        },
        "id": "7Cwp-xDs5mao",
        "outputId": "303d4327-03e6-4017-c07b-6581a4cca400"
      },
      "execution_count": null,
      "outputs": [
        {
          "output_type": "stream",
          "name": "stdout",
          "text": [
            "Relatório de Classificação:\n",
            "               precision    recall  f1-score   support\n",
            "\n",
            "  Desistente       0.82      0.77      0.79       302\n",
            "    Graduado       0.77      0.96      0.86       469\n",
            " Matriculado       0.61      0.26      0.37       169\n",
            "\n",
            "    accuracy                           0.77       940\n",
            "   macro avg       0.73      0.66      0.67       940\n",
            "weighted avg       0.76      0.77      0.75       940\n",
            "\n"
          ]
        }
      ]
    },
    {
      "cell_type": "markdown",
      "source": [
        "##Balanceamento - Oversampling\n",
        "\n",
        "    Inflar a quantidade de amostras na classe minoritária até todas as classes terem a mesma quantidade que a classe majoritária"
      ],
      "metadata": {
        "id": "VzDJ_IxYC_Jb"
      }
    },
    {
      "cell_type": "code",
      "source": [
        "y_train.value_counts()"
      ],
      "metadata": {
        "colab": {
          "base_uri": "https://localhost:8080/"
        },
        "id": "spglaQxc6lRO",
        "outputId": "b493e941-dd68-4de7-e4db-185db6b4960a"
      },
      "execution_count": null,
      "outputs": [
        {
          "output_type": "execute_result",
          "data": {
            "text/plain": [
              "Target\n",
              "Graduado       1408\n",
              "Desistente      906\n",
              "Matriculado     506\n",
              "Name: count, dtype: int64"
            ],
            "text/html": [
              "<div>\n",
              "<style scoped>\n",
              "    .dataframe tbody tr th:only-of-type {\n",
              "        vertical-align: middle;\n",
              "    }\n",
              "\n",
              "    .dataframe tbody tr th {\n",
              "        vertical-align: top;\n",
              "    }\n",
              "\n",
              "    .dataframe thead th {\n",
              "        text-align: right;\n",
              "    }\n",
              "</style>\n",
              "<table border=\"1\" class=\"dataframe\">\n",
              "  <thead>\n",
              "    <tr style=\"text-align: right;\">\n",
              "      <th></th>\n",
              "      <th>count</th>\n",
              "    </tr>\n",
              "    <tr>\n",
              "      <th>Target</th>\n",
              "      <th></th>\n",
              "    </tr>\n",
              "  </thead>\n",
              "  <tbody>\n",
              "    <tr>\n",
              "      <th>Graduado</th>\n",
              "      <td>1408</td>\n",
              "    </tr>\n",
              "    <tr>\n",
              "      <th>Desistente</th>\n",
              "      <td>906</td>\n",
              "    </tr>\n",
              "    <tr>\n",
              "      <th>Matriculado</th>\n",
              "      <td>506</td>\n",
              "    </tr>\n",
              "  </tbody>\n",
              "</table>\n",
              "</div><br><label><b>dtype:</b> int64</label>"
            ]
          },
          "metadata": {},
          "execution_count": 54
        }
      ]
    },
    {
      "cell_type": "code",
      "source": [
        "from imblearn.over_sampling import SMOTE"
      ],
      "metadata": {
        "id": "DqWIyhIYDX7_"
      },
      "execution_count": null,
      "outputs": []
    },
    {
      "cell_type": "code",
      "source": [
        "oversample = SMOTE(random_state=0)\n",
        "X_balanced, y_balanced = oversample.fit_resample(X_train, y_train)"
      ],
      "metadata": {
        "id": "dmGavcQ5DjRe"
      },
      "execution_count": null,
      "outputs": []
    },
    {
      "cell_type": "code",
      "source": [
        "y_balanced.value_counts()"
      ],
      "metadata": {
        "colab": {
          "base_uri": "https://localhost:8080/"
        },
        "id": "l9My30XSEBRR",
        "outputId": "0c9f77d0-dbdb-482d-d353-f226fb5db72e"
      },
      "execution_count": null,
      "outputs": [
        {
          "output_type": "execute_result",
          "data": {
            "text/plain": [
              "Target\n",
              "Desistente     1408\n",
              "Graduado       1408\n",
              "Matriculado    1408\n",
              "Name: count, dtype: int64"
            ],
            "text/html": [
              "<div>\n",
              "<style scoped>\n",
              "    .dataframe tbody tr th:only-of-type {\n",
              "        vertical-align: middle;\n",
              "    }\n",
              "\n",
              "    .dataframe tbody tr th {\n",
              "        vertical-align: top;\n",
              "    }\n",
              "\n",
              "    .dataframe thead th {\n",
              "        text-align: right;\n",
              "    }\n",
              "</style>\n",
              "<table border=\"1\" class=\"dataframe\">\n",
              "  <thead>\n",
              "    <tr style=\"text-align: right;\">\n",
              "      <th></th>\n",
              "      <th>count</th>\n",
              "    </tr>\n",
              "    <tr>\n",
              "      <th>Target</th>\n",
              "      <th></th>\n",
              "    </tr>\n",
              "  </thead>\n",
              "  <tbody>\n",
              "    <tr>\n",
              "      <th>Desistente</th>\n",
              "      <td>1408</td>\n",
              "    </tr>\n",
              "    <tr>\n",
              "      <th>Graduado</th>\n",
              "      <td>1408</td>\n",
              "    </tr>\n",
              "    <tr>\n",
              "      <th>Matriculado</th>\n",
              "      <td>1408</td>\n",
              "    </tr>\n",
              "  </tbody>\n",
              "</table>\n",
              "</div><br><label><b>dtype:</b> int64</label>"
            ]
          },
          "metadata": {},
          "execution_count": 57
        }
      ]
    },
    {
      "cell_type": "code",
      "source": [
        "balanced_model = RandomForestClassifier(random_state=0, max_depth=10)\n",
        "balanced_model.fit(X_balanced, y_balanced)\n",
        "y_pred = balanced_model.predict(X_val)"
      ],
      "metadata": {
        "id": "4F_kwHBZEKgi"
      },
      "execution_count": null,
      "outputs": []
    },
    {
      "cell_type": "code",
      "source": [
        "ConfusionMatrixDisplay.from_predictions(y_val, y_pred, normalize='true', cmap='Blues');\n",
        "print(classification_report(y_val, y_pred))"
      ],
      "metadata": {
        "colab": {
          "base_uri": "https://localhost:8080/"
        },
        "id": "00nYMl-_EmYC",
        "outputId": "852e8d78-a073-495a-96c4-e613370fcdde"
      },
      "execution_count": null,
      "outputs": [
        {
          "output_type": "stream",
          "name": "stdout",
          "text": [
            "              precision    recall  f1-score   support\n",
            "\n",
            "  Desistente       0.85      0.72      0.78       302\n",
            "    Graduado       0.81      0.87      0.84       469\n",
            " Matriculado       0.48      0.52      0.50       169\n",
            "\n",
            "    accuracy                           0.76       940\n",
            "   macro avg       0.72      0.70      0.71       940\n",
            "weighted avg       0.77      0.76      0.76       940\n",
            "\n"
          ]
        },
        {
          "output_type": "display_data",
          "data": {
            "text/plain": [
              "<Figure size 640x480 with 2 Axes>"
            ],
            "image/png": "[encoded data removed]"
          },
          "metadata": {}
        }
      ]
    },
    {
      "cell_type": "markdown",
      "source": [
        "###Desafio - Oversampling"
      ],
      "metadata": {
        "id": "GFcq_KM5676o"
      }
    },
    {
      "cell_type": "code",
      "source": [
        "from sklearn.ensemble import GradientBoostingClassifier"
      ],
      "metadata": {
        "id": "G9djPGrQ7EM4"
      },
      "execution_count": null,
      "outputs": []
    },
    {
      "cell_type": "code",
      "source": [
        "gbc_model = GradientBoostingClassifier()\n",
        "gbc_model.fit(X_train,y_train)\n",
        "y_pred = gbc_model.predict(X_val)\n",
        "\n",
        "print(f'Training accuracy: {gbc_model.score(X_train, y_train)}')\n",
        "print(f'Validation accuracy {gbc_model.score(X_val, y_val)}')"
      ],
      "metadata": {
        "colab": {
          "base_uri": "https://localhost:8080/"
        },
        "id": "NLc3rcbA65-O",
        "outputId": "6df13d5d-404e-4645-9bad-917cacd1e757"
      },
      "execution_count": null,
      "outputs": [
        {
          "output_type": "stream",
          "name": "stdout",
          "text": [
            "Training accuracy: 0.8411347517730496\n",
            "Validation accuracy 0.7702127659574468\n"
          ]
        }
      ]
    },
    {
      "cell_type": "code",
      "source": [
        "from imblearn.over_sampling import SMOTE"
      ],
      "metadata": {
        "id": "JFqXYxdi7IjL"
      },
      "execution_count": null,
      "outputs": []
    },
    {
      "cell_type": "code",
      "source": [
        "oversample = SMOTE(random_state=0)\n",
        "X_balanced, y_balanced = oversample.fit_resample(X_train, y_train)"
      ],
      "metadata": {
        "id": "9anw8epR7VgF"
      },
      "execution_count": null,
      "outputs": []
    },
    {
      "cell_type": "code",
      "source": [
        "gbc_balanced = GradientBoostingClassifier()\n",
        "gbc_balanced.fit(X_balanced, y_balanced)\n",
        "y_pred = gbc_balanced.predict(X_val)\n",
        "\n",
        "print(f'Training accuracy: {gbc_model.score(X_balanced, y_balanced)}')\n",
        "print(f'Validation accuracy {gbc_model.score(X_val, y_val)}')"
      ],
      "metadata": {
        "colab": {
          "base_uri": "https://localhost:8080/"
        },
        "id": "guqNK95M7jen",
        "outputId": "e04f002a-11e9-46a3-e12c-70f74c63d84f"
      },
      "execution_count": null,
      "outputs": [
        {
          "output_type": "stream",
          "name": "stdout",
          "text": [
            "Training accuracy: 0.775094696969697\n",
            "Validation accuracy 0.7702127659574468\n"
          ]
        }
      ]
    },
    {
      "cell_type": "code",
      "source": [
        "from sklearn.metrics import ConfusionMatrixDisplay"
      ],
      "metadata": {
        "id": "MOEXVxEb8E_A"
      },
      "execution_count": null,
      "outputs": []
    },
    {
      "cell_type": "code",
      "source": [
        "ConfusionMatrixDisplay.from_estimator(gbc_balanced, X_val, y_val, normalize='true', cmap='Blues');"
      ],
      "metadata": {
        "colab": {
          "base_uri": "https://localhost:8080/"
        },
        "id": "ryqIpQX-8I6l",
        "outputId": "822809a5-6a30-4a81-fac2-dff3fec34c9e"
      },
      "execution_count": null,
      "outputs": [
        {
          "output_type": "display_data",
          "data": {
            "text/plain": [
              "<Figure size 640x480 with 2 Axes>"
            ],
            "image/png": "[encoded data removed]"
          },
          "metadata": {}
        }
      ]
    },
    {
      "cell_type": "code",
      "source": [
        "from sklearn.metrics import classification_report"
      ],
      "metadata": {
        "id": "srOe9rbW8jxf"
      },
      "execution_count": null,
      "outputs": []
    },
    {
      "cell_type": "code",
      "source": [
        "report = classification_report(y_val, y_pred)\n",
        "print(f'Relatório de Classificação:\\n', report)"
      ],
      "metadata": {
        "colab": {
          "base_uri": "https://localhost:8080/"
        },
        "id": "7q7hjtIG8nAQ",
        "outputId": "df7928c9-b401-4855-ad1b-ddaed3954d12"
      },
      "execution_count": null,
      "outputs": [
        {
          "output_type": "stream",
          "name": "stdout",
          "text": [
            "Relatório de Classificação:\n",
            "               precision    recall  f1-score   support\n",
            "\n",
            "  Desistente       0.83      0.74      0.78       302\n",
            "    Graduado       0.82      0.89      0.85       469\n",
            " Matriculado       0.50      0.47      0.48       169\n",
            "\n",
            "    accuracy                           0.77       940\n",
            "   macro avg       0.71      0.70      0.71       940\n",
            "weighted avg       0.76      0.77      0.76       940\n",
            "\n"
          ]
        }
      ]
    },
    {
      "cell_type": "markdown",
      "source": [
        "Antes do oversampling:\n",
        "\n",
        "![image.png](data:image/png;base64,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)"
      ],
      "metadata": {
        "id": "bPsKjTCE9Ihm"
      }
    },
    {
      "cell_type": "markdown",
      "source": [
        "![image.png](data:image/png;base64,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)"
      ],
      "metadata": {
        "id": "BQEBD_1W9nUl"
      }
    },
    {
      "cell_type": "markdown",
      "source": [
        "##Pipeline para validação"
      ],
      "metadata": {
        "id": "vxmS9txX-EcE"
      }
    },
    {
      "cell_type": "code",
      "source": [
        "from imblearn.pipeline import Pipeline as imbpipeline"
      ],
      "metadata": {
        "id": "n_oVKkWx-Gry"
      },
      "execution_count": null,
      "outputs": []
    },
    {
      "cell_type": "code",
      "source": [
        "model = RandomForestClassifier(max_depth=10)\n",
        "pipeline = imbpipeline([('oversample', SMOTE()), ('Random Forest', model)])"
      ],
      "metadata": {
        "id": "G8v-L4Ro_CxY"
      },
      "execution_count": null,
      "outputs": []
    },
    {
      "cell_type": "code",
      "source": [
        "from sklearn.model_selection import cross_validate, StratifiedKFold"
      ],
      "metadata": {
        "id": "1B1xoQxN_gsa"
      },
      "execution_count": null,
      "outputs": []
    },
    {
      "cell_type": "code",
      "source": [
        "skf = StratifiedKFold(n_splits=5, shuffle=True, random_state=0)\n",
        "cv_results = cross_validate(pipeline, X, y, cv=skf,scoring='recall_weighted')\n",
        "cv_results['test_score']"
      ],
      "metadata": {
        "colab": {
          "base_uri": "https://localhost:8080/"
        },
        "id": "WjgcI5CW_vsd",
        "outputId": "d8fd7eee-5400-4e8a-81f5-b6c8f49990f0"
      },
      "execution_count": null,
      "outputs": [
        {
          "output_type": "execute_result",
          "data": {
            "text/plain": [
              "array([0.76462766, 0.73537234, 0.74601064, 0.77659574, 0.75132979])"
            ]
          },
          "metadata": {},
          "execution_count": 72
        }
      ]
    },
    {
      "cell_type": "markdown",
      "source": [
        "##Intervalo conf"
      ],
      "metadata": {
        "id": "4zjvlzWWlixw"
      }
    },
    {
      "cell_type": "code",
      "source": [
        "mean = cv_results['test_score'].mean()\n",
        "std = cv_results['test_score'].std()\n",
        "print(f'Intervalo de confiança: [{mean-2*std}], [{min(mean+2*std, 1.0)}]')"
      ],
      "metadata": {
        "colab": {
          "base_uri": "https://localhost:8080/"
        },
        "id": "VarY3SVAllIQ",
        "outputId": "b0e0992a-65ee-45ea-aff4-a2e291d0a4a2"
      },
      "execution_count": null,
      "outputs": [
        {
          "output_type": "stream",
          "name": "stdout",
          "text": [
            "Intervalo de confiança: [0.725965495352885], [0.7836089727322214]\n"
          ]
        }
      ]
    },
    {
      "cell_type": "markdown",
      "source": [
        "##Teste do modelo"
      ],
      "metadata": {
        "id": "Rt6yu2whng1n"
      }
    },
    {
      "cell_type": "code",
      "source": [
        "oversample = SMOTE(random_state=0)\n",
        "X_balanced, y_balanced = oversample.fit_resample(X, y)\n",
        "final_model = RandomForestClassifier(random_state=0, max_depth=10)\n",
        "final_model.fit(X_balanced, y_balanced)\n",
        "y_pred = final_model.predict(X_test)\n",
        "\n",
        "print(classification_report(y_test, y_pred))\n",
        "ConfusionMatrixDisplay.from_predictions(y_test, y_pred, normalize='true', cmap='Blues');"
      ],
      "metadata": {
        "colab": {
          "base_uri": "https://localhost:8080/"
        },
        "id": "3MSdxGK_njy9",
        "outputId": "c8458dc2-b3a6-4f6a-9ec8-d187d2078c3c"
      },
      "execution_count": null,
      "outputs": [
        {
          "output_type": "stream",
          "name": "stdout",
          "text": [
            "              precision    recall  f1-score   support\n",
            "\n",
            "  Desistente       0.88      0.75      0.81       213\n",
            "    Graduado       0.82      0.85      0.84       332\n",
            " Matriculado       0.50      0.59      0.54       119\n",
            "\n",
            "    accuracy                           0.77       664\n",
            "   macro avg       0.73      0.73      0.73       664\n",
            "weighted avg       0.78      0.77      0.77       664\n",
            "\n"
          ]
        },
        {
          "output_type": "display_data",
          "data": {
            "text/plain": [
              "<Figure size 640x480 with 2 Axes>"
            ],
            "image/png": "[encoded data removed]"
          },
          "metadata": {}
        }
      ]
    },
    {
      "cell_type": "code",
      "source": [],
      "metadata": {
        "id": "8Pxsl_dkoc9S"
      },
      "execution_count": null,
      "outputs": []
    },
    {
      "cell_type": "markdown",
      "source": [
        "#Teste de diferentes algorítmos"
      ],
      "metadata": {
        "id": "Z5-yy9IJD0ZT"
      }
    },
    {
      "cell_type": "markdown",
      "source": [
        "##tree.DecisionTreeClassifier"
      ],
      "metadata": {
        "id": "AKC94yUOh4Xe"
      }
    },
    {
      "cell_type": "code",
      "source": [
        "from sklearn.tree import DecisionTreeClassifier"
      ],
      "metadata": {
        "id": "oia9-F4Yh8oP"
      },
      "execution_count": null,
      "outputs": []
    },
    {
      "cell_type": "code",
      "source": [
        "dt_model = DecisionTreeClassifier(random_state=0)\n",
        "dt_model.fit(X_train,y_train)\n",
        "y_pred = dt_model.predict(X_val)\n",
        "print(f'Training accuracy: {dt_model.score(X_train, y_train)}')\n",
        "print(f'Validation accuracy {dt_model.score(X_val, y_val)}')\n",
        "#Still overfitting"
      ],
      "metadata": {
        "colab": {
          "base_uri": "https://localhost:8080/"
        },
        "id": "STAExibvh_P7",
        "outputId": "870e7c9e-f316-4e04-de6a-461266c103a9"
      },
      "execution_count": null,
      "outputs": [
        {
          "output_type": "stream",
          "name": "stdout",
          "text": [
            "Training accuracy: 0.9975177304964539\n",
            "Validation accuracy 0.6882978723404255\n"
          ]
        }
      ]
    },
    {
      "cell_type": "code",
      "source": [
        "dt_model = DecisionTreeClassifier(random_state=0, max_depth=10)\n",
        "dt_model.fit(X_train,y_train)\n",
        "y_pred = dt_model.predict(X_val)\n",
        "print(f'Training accuracy: {dt_model.score(X_train, y_train)}')\n",
        "print(f'Validation accuracy {dt_model.score(X_val, y_val)}')"
      ],
      "metadata": {
        "colab": {
          "base_uri": "https://localhost:8080/"
        },
        "id": "oxecYjX1iUrw",
        "outputId": "98aba9dc-745b-467f-d602-f740b6fbde5f"
      },
      "execution_count": null,
      "outputs": [
        {
          "output_type": "stream",
          "name": "stdout",
          "text": [
            "Training accuracy: 0.8776595744680851\n",
            "Validation accuracy 0.7457446808510638\n"
          ]
        }
      ]
    },
    {
      "cell_type": "markdown",
      "source": [
        "##tree.ExtraTreeClassifier"
      ],
      "metadata": {
        "id": "lV9TIJ8Jibj2"
      }
    },
    {
      "cell_type": "code",
      "source": [
        "from sklearn.tree import ExtraTreeClassifier"
      ],
      "metadata": {
        "id": "iDmza7QGiezo"
      },
      "execution_count": null,
      "outputs": []
    },
    {
      "cell_type": "code",
      "source": [
        "et_model = ExtraTreeClassifier(random_state=0)\n",
        "et_model.fit(X_train,y_train)\n",
        "y_pred = et_model.predict(X_val)\n",
        "print(f'Training accuracy: {dt_model.score(X_train, y_train)}')\n",
        "print(f'Validation accuracy {dt_model.score(X_val, y_val)}')"
      ],
      "metadata": {
        "colab": {
          "base_uri": "https://localhost:8080/"
        },
        "id": "-FpoJV8FiiSW",
        "outputId": "5a21148c-4248-4902-ca97-8134d3e4b66c"
      },
      "execution_count": null,
      "outputs": [
        {
          "output_type": "stream",
          "name": "stdout",
          "text": [
            "Training accuracy: 0.8776595744680851\n",
            "Validation accuracy 0.7457446808510638\n"
          ]
        }
      ]
    },
    {
      "cell_type": "code",
      "source": [
        "et_model = ExtraTreeClassifier(random_state=0, max_depth=10)\n",
        "et_model.fit(X_train,y_train)\n",
        "y_pred=et_model.predict(X_val)\n",
        "print(f'Training accuracy: {dt_model.score(X_train, y_train)}')\n",
        "print(f'Validation accuracy {dt_model.score(X_val, y_val)}')\n",
        "#Não mudou nada"
      ],
      "metadata": {
        "colab": {
          "base_uri": "https://localhost:8080/"
        },
        "id": "-cfJJQ3-jBqZ",
        "outputId": "a16d11f1-a50c-4900-e1ac-0bf0dd5324de"
      },
      "execution_count": null,
      "outputs": [
        {
          "output_type": "stream",
          "name": "stdout",
          "text": [
            "Training accuracy: 0.8776595744680851\n",
            "Validation accuracy 0.7457446808510638\n"
          ]
        }
      ]
    },
    {
      "cell_type": "markdown",
      "source": [
        "##neighbors.KNeighborsClassifier"
      ],
      "metadata": {
        "id": "YcoZox69jKWY"
      }
    },
    {
      "cell_type": "code",
      "source": [
        "from sklearn.neighbors import KNeighborsClassifier"
      ],
      "metadata": {
        "id": "SZGEkvRAjO3u"
      },
      "execution_count": null,
      "outputs": []
    },
    {
      "cell_type": "code",
      "source": [
        "knc_model = KNeighborsClassifier(n_neighbors=8)\n",
        "knc_model.fit(X_train,y_train)\n",
        "y_pred = knc_model.predict(X_val)\n",
        "print(f'Training accuracy: {knc_model.score(X_train, y_train)}')\n",
        "print(f'Validation accuracy {knc_model.score(X_val, y_val)}')\n",
        "#Less overfitting but poor no acurracy improvement overall"
      ],
      "metadata": {
        "colab": {
          "base_uri": "https://localhost:8080/"
        },
        "id": "EoTAfiFvjPjS",
        "outputId": "e8d57481-e9e2-4d74-d258-2727824c41a8"
      },
      "execution_count": null,
      "outputs": [
        {
          "output_type": "stream",
          "name": "stdout",
          "text": [
            "Training accuracy: 0.7656028368794326\n",
            "Validation accuracy 0.7297872340425532\n"
          ]
        }
      ]
    },
    {
      "cell_type": "markdown",
      "source": [
        "##linear_model.LogisticRegression (setting multi_class=\"multinomial\")"
      ],
      "metadata": {
        "id": "bzYhss28kV_I"
      }
    },
    {
      "cell_type": "code",
      "source": [
        "from sklearn.linear_model import LogisticRegression"
      ],
      "metadata": {
        "id": "ZSqq4PyRkfCm"
      },
      "execution_count": null,
      "outputs": []
    },
    {
      "cell_type": "code",
      "source": [
        "lr_model = LogisticRegression(multi_class=\"multinomial\")\n",
        "lr_model.fit(X_train,y_train)\n",
        "y_pred = lr_model.predict(X_val)\n",
        "print(f'Training accuracy: {lr_model.score(X_train, y_train)}')\n",
        "print(f'Validation accuracy {lr_model.score(X_val, y_val)}')\n",
        "#Almost no overfitting and slight acuraccy improvement"
      ],
      "metadata": {
        "colab": {
          "base_uri": "https://localhost:8080/"
        },
        "id": "_8d_trELkyIg",
        "outputId": "b59b1009-54fd-41b8-c040-8cf20f13a414"
      },
      "execution_count": null,
      "outputs": [
        {
          "output_type": "stream",
          "name": "stdout",
          "text": [
            "Training accuracy: 0.7808510638297872\n",
            "Validation accuracy 0.7734042553191489\n"
          ]
        },
        {
          "output_type": "stream",
          "name": "stderr",
          "text": [
            "/usr/local/lib/python3.10/dist-packages/sklearn/linear_model/_logistic.py:460: ConvergenceWarning:\n",
            "\n",
            "lbfgs failed to converge (status=1):\n",
            "STOP: TOTAL NO. of ITERATIONS REACHED LIMIT.\n",
            "\n",
            "Increase the number of iterations (max_iter) or scale the data as shown in:\n",
            "    https://scikit-learn.org/stable/modules/preprocessing.html\n",
            "Please also refer to the documentation for alternative solver options:\n",
            "    https://scikit-learn.org/stable/modules/linear_model.html#logistic-regression\n",
            "\n"
          ]
        }
      ]
    },
    {
      "cell_type": "code",
      "source": [
        "#Pesquisei o output anterior no chatgpt para achar o que era\n",
        "from sklearn.preprocessing import StandardScaler\n",
        "\n",
        "scaler = StandardScaler()\n",
        "X_train_scaled = scaler.fit_transform(X_train)\n",
        "X_valid_scaled = scaler.transform(X_val)\n",
        "\n",
        "lr_model = LogisticRegression(max_iter=200, multi_class=\"multinomial\")\n",
        "lr_model.fit(X_train_scaled, y_train)\n",
        "\n",
        "print(f'Training accuracy: {lr_model.score(X_train, y_train)}')\n",
        "print(f'Validation accuracy {lr_model.score(X_val, y_val)}')"
      ],
      "metadata": {
        "colab": {
          "base_uri": "https://localhost:8080/"
        },
        "id": "5BXb-3TpmJU2",
        "outputId": "053ba29c-154f-47bf-d0d4-a123032e4c96"
      },
      "execution_count": null,
      "outputs": [
        {
          "output_type": "stream",
          "name": "stdout",
          "text": [
            "Training accuracy: 0.7404255319148936\n",
            "Validation accuracy 0.7468085106382979\n"
          ]
        },
        {
          "output_type": "stream",
          "name": "stderr",
          "text": [
            "/usr/local/lib/python3.10/dist-packages/sklearn/base.py:458: UserWarning:\n",
            "\n",
            "X has feature names, but LogisticRegression was fitted without feature names\n",
            "\n",
            "/usr/local/lib/python3.10/dist-packages/sklearn/base.py:458: UserWarning:\n",
            "\n",
            "X has feature names, but LogisticRegression was fitted without feature names\n",
            "\n"
          ]
        }
      ]
    },
    {
      "cell_type": "markdown",
      "source": [
        "##linear_model.RidgeClassifier"
      ],
      "metadata": {
        "id": "bzML2CL1ljzK"
      }
    },
    {
      "cell_type": "code",
      "source": [
        "from sklearn.linear_model import RidgeClassifier"
      ],
      "metadata": {
        "id": "jXbDVWU8lmmL"
      },
      "execution_count": null,
      "outputs": []
    },
    {
      "cell_type": "code",
      "source": [
        "rc_model = RidgeClassifier()\n",
        "rc_model.fit(X_train,y_train)\n",
        "y_pred = rc_model.predict(X_val)\n",
        "print(f'Training accuracy: {rc_model.score(X_train, y_train)}')\n",
        "print(f'Validation accuracy {rc_model.score(X_val, y_val)}')"
      ],
      "metadata": {
        "colab": {
          "base_uri": "https://localhost:8080/"
        },
        "id": "574JWYXDlrkx",
        "outputId": "8f142714-7d19-4fab-d0f4-785aec9f95d8"
      },
      "execution_count": null,
      "outputs": [
        {
          "output_type": "stream",
          "name": "stdout",
          "text": [
            "Training accuracy: 0.7737588652482269\n",
            "Validation accuracy 0.7510638297872341\n"
          ]
        }
      ]
    },
    {
      "cell_type": "markdown",
      "source": [
        "##ensemble.GradientBoostingClassifier"
      ],
      "metadata": {
        "id": "T6AiwOuA_3Uk"
      }
    },
    {
      "cell_type": "code",
      "source": [
        "from sklearn.ensemble import GradientBoostingClassifier"
      ],
      "metadata": {
        "id": "XgCgVu6d_7Gi"
      },
      "execution_count": null,
      "outputs": []
    },
    {
      "cell_type": "code",
      "source": [
        "gbc_model = GradientBoostingClassifier()\n",
        "gbc_model.fit(X_train,y_train)\n",
        "y_pred = gbc_model.predict(X_val)\n",
        "\n",
        "print(f'Training accuracy: {gbc_model.score(X_train, y_train)}')\n",
        "print(f'Validation accuracy {gbc_model.score(X_val, y_val)}')"
      ],
      "metadata": {
        "colab": {
          "base_uri": "https://localhost:8080/"
        },
        "id": "HYQbG0JWAADc",
        "outputId": "9967d898-ef97-4824-f85d-90fc0b4140b5"
      },
      "execution_count": null,
      "outputs": [
        {
          "output_type": "stream",
          "name": "stdout",
          "text": [
            "Training accuracy: 0.8411347517730496\n",
            "Validation accuracy 0.7691489361702127\n"
          ]
        }
      ]
    },
    {
      "cell_type": "code",
      "source": [
        "print(f'Relatório de Classificação:\\n', classification_report(y_val, y_pred))"
      ],
      "metadata": {
        "colab": {
          "base_uri": "https://localhost:8080/"
        },
        "id": "YmLQJu0N81_O",
        "outputId": "73c74488-0379-4f94-c9e9-ad880cb52873"
      },
      "execution_count": null,
      "outputs": [
        {
          "output_type": "stream",
          "name": "stdout",
          "text": [
            "Relatório de Classificação:\n",
            "               precision    recall  f1-score   support\n",
            "\n",
            "  Desistente       0.82      0.75      0.79       302\n",
            "    Graduado       0.79      0.93      0.85       469\n",
            " Matriculado       0.53      0.36      0.43       169\n",
            "\n",
            "    accuracy                           0.77       940\n",
            "   macro avg       0.71      0.68      0.69       940\n",
            "weighted avg       0.75      0.77      0.76       940\n",
            "\n"
          ]
        }
      ]
    },
    {
      "cell_type": "markdown",
      "source": [
        "###Automatizar a busca pelos melhores valores dos parâmetros:"
      ],
      "metadata": {
        "id": "jDrKSQMPB632"
      }
    },
    {
      "cell_type": "code",
      "source": [
        "from sklearn.model_selection import GridSearchCV\n",
        "\n",
        "param_grid = {\n",
        "    'n_estimators': [100, 200],\n",
        "    'learning_rate': [0.01, 0.1, 0.2],\n",
        "    'max_depth': [3, 4, 5],\n",
        "    'subsample': [0.7, 0.8, 0.9]\n",
        "}\n",
        "\n",
        "grid_search = GridSearchCV(GradientBoostingClassifier(), param_grid, cv=3)\n",
        "grid_search.fit(X_train, y_train)\n",
        "\n",
        "# Melhores hiperparâmetros\n",
        "print(grid_search.best_params_)\n"
      ],
      "metadata": {
        "id": "2dxpX5fxCB16",
        "colab": {
          "base_uri": "https://localhost:8080/"
        },
        "outputId": "11f05a18-218a-47c2-9367-68268ebb1172"
      },
      "execution_count": null,
      "outputs": [
        {
          "output_type": "stream",
          "name": "stdout",
          "text": [
            "{'learning_rate': 0.01, 'max_depth': 5, 'n_estimators': 200, 'subsample': 0.7}\n"
          ]
        }
      ]
    },
    {
      "cell_type": "markdown",
      "source": [
        "#Patologias de pele\n"
      ],
      "metadata": {
        "id": "gD8TRvAvvRQc"
      }
    },
    {
      "cell_type": "code",
      "source": [
        "import pandas as pd\n",
        "df = pd.read_csv('https://raw.githubusercontent.com/alura-cursos/classificacao_multiclasse/main/Dados/dermatology_database_1.csv')"
      ],
      "metadata": {
        "id": "lRkdKpiQvTlo"
      },
      "execution_count": null,
      "outputs": []
    },
    {
      "cell_type": "code",
      "source": [
        "df.info()"
      ],
      "metadata": {
        "id": "0cHi8Ximvcba",
        "colab": {
          "base_uri": "https://localhost:8080/"
        },
        "outputId": "bf492d22-c098-47ce-ecc1-14a02deea0db"
      },
      "execution_count": null,
      "outputs": [
        {
          "output_type": "stream",
          "name": "stdout",
          "text": [
            "<class 'pandas.core.frame.DataFrame'>\n",
            "RangeIndex: 366 entries, 0 to 365\n",
            "Data columns (total 35 columns):\n",
            " #   Column                               Non-Null Count  Dtype \n",
            "---  ------                               --------------  ----- \n",
            " 0   erythema                             366 non-null    int64 \n",
            " 1   scaling                              366 non-null    int64 \n",
            " 2   definite_borders                     366 non-null    int64 \n",
            " 3   itching                              366 non-null    int64 \n",
            " 4   koebner_phenomenon                   366 non-null    int64 \n",
            " 5   polygonal_papules                    366 non-null    int64 \n",
            " 6   follicular_papules                   366 non-null    int64 \n",
            " 7   oral_mucosal_involvement             366 non-null    int64 \n",
            " 8   knee_and_elbow_involvement           366 non-null    int64 \n",
            " 9   scalp_involvement                    366 non-null    int64 \n",
            " 10  family_history                       366 non-null    int64 \n",
            " 11  melanin_incontinence                 366 non-null    int64 \n",
            " 12  eosinophils_infiltrate               366 non-null    int64 \n",
            " 13  PNL_infiltrate                       366 non-null    int64 \n",
            " 14  fibrosis_papillary_dermis            366 non-null    int64 \n",
            " 15  exocytosis                           366 non-null    int64 \n",
            " 16  acanthosis                           366 non-null    int64 \n",
            " 17  hyperkeratosis                       366 non-null    int64 \n",
            " 18  parakeratosis                        366 non-null    int64 \n",
            " 19  clubbing_rete_ridges                 366 non-null    int64 \n",
            " 20  elongation_rete_ridges               366 non-null    int64 \n",
            " 21  thinning_suprapapillary_epidermis    366 non-null    int64 \n",
            " 22  spongiform_pustule                   366 non-null    int64 \n",
            " 23  munro_microabcess                    366 non-null    int64 \n",
            " 24  focal_hypergranulosis                366 non-null    int64 \n",
            " 25  disappearance_granular_layer         366 non-null    int64 \n",
            " 26  vacuolisation_damage_basal_layer     366 non-null    int64 \n",
            " 27  spongiosis                           366 non-null    int64 \n",
            " 28  saw_tooth_appearance_retes           366 non-null    int64 \n",
            " 29  follicular_horn_plug                 366 non-null    int64 \n",
            " 30  perifollicular_parakeratosis         366 non-null    int64 \n",
            " 31  inflammatory_mononuclear_infiltrate  366 non-null    int64 \n",
            " 32  band_like_infiltrate                 366 non-null    int64 \n",
            " 33  age                                  366 non-null    object\n",
            " 34  class                                366 non-null    int64 \n",
            "dtypes: int64(34), object(1)\n",
            "memory usage: 100.2+ KB\n"
          ]
        }
      ]
    },
    {
      "cell_type": "code",
      "source": [
        "df.describe()"
      ],
      "metadata": {
        "id": "VTcn4xSZvroK",
        "colab": {
          "base_uri": "https://localhost:8080/"
        },
        "outputId": "40115e42-09a5-46d5-aa20-72e744f1d903"
      },
      "execution_count": null,
      "outputs": [
        {
          "output_type": "execute_result",
          "data": {
            "text/plain": [
              "         erythema     scaling  definite_borders     itching  \\\n",
              "count  366.000000  366.000000        366.000000  366.000000   \n",
              "mean     2.068306    1.795082          1.549180    1.366120   \n",
              "std      0.664753    0.701527          0.907525    1.138299   \n",
              "min      0.000000    0.000000          0.000000    0.000000   \n",
              "25%      2.000000    1.000000          1.000000    0.000000   \n",
              "50%      2.000000    2.000000          2.000000    1.000000   \n",
              "75%      2.000000    2.000000          2.000000    2.000000   \n",
              "max      3.000000    3.000000          3.000000    3.000000   \n",
              "\n",
              "       koebner_phenomenon  polygonal_papules  follicular_papules  \\\n",
              "count          366.000000         366.000000          366.000000   \n",
              "mean             0.633880           0.448087            0.166667   \n",
              "std              0.908016           0.957327            0.570588   \n",
              "min              0.000000           0.000000            0.000000   \n",
              "25%              0.000000           0.000000            0.000000   \n",
              "50%              0.000000           0.000000            0.000000   \n",
              "75%              1.000000           0.000000            0.000000   \n",
              "max              3.000000           3.000000            3.000000   \n",
              "\n",
              "       oral_mucosal_involvement  knee_and_elbow_involvement  \\\n",
              "count                366.000000                  366.000000   \n",
              "mean                   0.377049                    0.614754   \n",
              "std                    0.834147                    0.982979   \n",
              "min                    0.000000                    0.000000   \n",
              "25%                    0.000000                    0.000000   \n",
              "50%                    0.000000                    0.000000   \n",
              "75%                    0.000000                    1.000000   \n",
              "max                    3.000000                    3.000000   \n",
              "\n",
              "       scalp_involvement  ...  focal_hypergranulosis  \\\n",
              "count         366.000000  ...             366.000000   \n",
              "mean            0.519126  ...               0.393443   \n",
              "std             0.905639  ...               0.849406   \n",
              "min             0.000000  ...               0.000000   \n",
              "25%             0.000000  ...               0.000000   \n",
              "50%             0.000000  ...               0.000000   \n",
              "75%             1.000000  ...               0.000000   \n",
              "max             3.000000  ...               3.000000   \n",
              "\n",
              "       disappearance_granular_layer  vacuolisation_damage_basal_layer  \\\n",
              "count                    366.000000                        366.000000   \n",
              "mean                       0.464481                          0.456284   \n",
              "std                        0.864899                          0.954873   \n",
              "min                        0.000000                          0.000000   \n",
              "25%                        0.000000                          0.000000   \n",
              "50%                        0.000000                          0.000000   \n",
              "75%                        1.000000                          0.000000   \n",
              "max                        3.000000                          3.000000   \n",
              "\n",
              "       spongiosis  saw_tooth_appearance_retes  follicular_horn_plug  \\\n",
              "count  366.000000                  366.000000            366.000000   \n",
              "mean     0.953552                    0.453552              0.103825   \n",
              "std      1.130172                    0.954744              0.450433   \n",
              "min      0.000000                    0.000000              0.000000   \n",
              "25%      0.000000                    0.000000              0.000000   \n",
              "50%      0.000000                    0.000000              0.000000   \n",
              "75%      2.000000                    0.000000              0.000000   \n",
              "max      3.000000                    3.000000              3.000000   \n",
              "\n",
              "       perifollicular_parakeratosis  inflammatory_mononuclear_infiltrate  \\\n",
              "count                    366.000000                           366.000000   \n",
              "mean                       0.114754                             1.866120   \n",
              "std                        0.488723                             0.726108   \n",
              "min                        0.000000                             0.000000   \n",
              "25%                        0.000000                             1.000000   \n",
              "50%                        0.000000                             2.000000   \n",
              "75%                        0.000000                             2.000000   \n",
              "max                        3.000000                             3.000000   \n",
              "\n",
              "       band_like_infiltrate       class  \n",
              "count            366.000000  366.000000  \n",
              "mean               0.554645    2.803279  \n",
              "std                1.105908    1.597803  \n",
              "min                0.000000    1.000000  \n",
              "25%                0.000000    1.000000  \n",
              "50%                0.000000    3.000000  \n",
              "75%                0.000000    4.000000  \n",
              "max                3.000000    6.000000  \n",
              "\n",
              "[8 rows x 34 columns]"
            ],
            "text/html": [
              "\n",
              "  <div id=\"df-32b71064-2996-47a6-b290-7bad4cb813d3\" class=\"colab-df-container\">\n",
              "    <div>\n",
              "<style scoped>\n",
              "    .dataframe tbody tr th:only-of-type {\n",
              "        vertical-align: middle;\n",
              "    }\n",
              "\n",
              "    .dataframe tbody tr th {\n",
              "        vertical-align: top;\n",
              "    }\n",
              "\n",
              "    .dataframe thead th {\n",
              "        text-align: right;\n",
              "    }\n",
              "</style>\n",
              "<table border=\"1\" class=\"dataframe\">\n",
              "  <thead>\n",
              "    <tr style=\"text-align: right;\">\n",
              "      <th></th>\n",
              "      <th>erythema</th>\n",
              "      <th>scaling</th>\n",
              "      <th>definite_borders</th>\n",
              "      <th>itching</th>\n",
              "      <th>koebner_phenomenon</th>\n",
              "      <th>polygonal_papules</th>\n",
              "      <th>follicular_papules</th>\n",
              "      <th>oral_mucosal_involvement</th>\n",
              "      <th>knee_and_elbow_involvement</th>\n",
              "      <th>scalp_involvement</th>\n",
              "      <th>...</th>\n",
              "      <th>focal_hypergranulosis</th>\n",
              "      <th>disappearance_granular_layer</th>\n",
              "      <th>vacuolisation_damage_basal_layer</th>\n",
              "      <th>spongiosis</th>\n",
              "      <th>saw_tooth_appearance_retes</th>\n",
              "      <th>follicular_horn_plug</th>\n",
              "      <th>perifollicular_parakeratosis</th>\n",
              "      <th>inflammatory_mononuclear_infiltrate</th>\n",
              "      <th>band_like_infiltrate</th>\n",
              "      <th>class</th>\n",
              "    </tr>\n",
              "  </thead>\n",
              "  <tbody>\n",
              "    <tr>\n",
              "      <th>count</th>\n",
              "      <td>366.000000</td>\n",
              "      <td>366.000000</td>\n",
              "      <td>366.000000</td>\n",
              "      <td>366.000000</td>\n",
              "      <td>366.000000</td>\n",
              "      <td>366.000000</td>\n",
              "      <td>366.000000</td>\n",
              "      <td>366.000000</td>\n",
              "      <td>366.000000</td>\n",
              "      <td>366.000000</td>\n",
              "      <td>...</td>\n",
              "      <td>366.000000</td>\n",
              "      <td>366.000000</td>\n",
              "      <td>366.000000</td>\n",
              "      <td>366.000000</td>\n",
              "      <td>366.000000</td>\n",
              "      <td>366.000000</td>\n",
              "      <td>366.000000</td>\n",
              "      <td>366.000000</td>\n",
              "      <td>366.000000</td>\n",
              "      <td>366.000000</td>\n",
              "    </tr>\n",
              "    <tr>\n",
              "      <th>mean</th>\n",
              "      <td>2.068306</td>\n",
              "      <td>1.795082</td>\n",
              "      <td>1.549180</td>\n",
              "      <td>1.366120</td>\n",
              "      <td>0.633880</td>\n",
              "      <td>0.448087</td>\n",
              "      <td>0.166667</td>\n",
              "      <td>0.377049</td>\n",
              "      <td>0.614754</td>\n",
              "      <td>0.519126</td>\n",
              "      <td>...</td>\n",
              "      <td>0.393443</td>\n",
              "      <td>0.464481</td>\n",
              "      <td>0.456284</td>\n",
              "      <td>0.953552</td>\n",
              "      <td>0.453552</td>\n",
              "      <td>0.103825</td>\n",
              "      <td>0.114754</td>\n",
              "      <td>1.866120</td>\n",
              "      <td>0.554645</td>\n",
              "      <td>2.803279</td>\n",
              "    </tr>\n",
              "    <tr>\n",
              "      <th>std</th>\n",
              "      <td>0.664753</td>\n",
              "      <td>0.701527</td>\n",
              "      <td>0.907525</td>\n",
              "      <td>1.138299</td>\n",
              "      <td>0.908016</td>\n",
              "      <td>0.957327</td>\n",
              "      <td>0.570588</td>\n",
              "      <td>0.834147</td>\n",
              "      <td>0.982979</td>\n",
              "      <td>0.905639</td>\n",
              "      <td>...</td>\n",
              "      <td>0.849406</td>\n",
              "      <td>0.864899</td>\n",
              "      <td>0.954873</td>\n",
              "      <td>1.130172</td>\n",
              "      <td>0.954744</td>\n",
              "      <td>0.450433</td>\n",
              "      <td>0.488723</td>\n",
              "      <td>0.726108</td>\n",
              "      <td>1.105908</td>\n",
              "      <td>1.597803</td>\n",
              "    </tr>\n",
              "    <tr>\n",
              "      <th>min</th>\n",
              "      <td>0.000000</td>\n",
              "      <td>0.000000</td>\n",
              "      <td>0.000000</td>\n",
              "      <td>0.000000</td>\n",
              "      <td>0.000000</td>\n",
              "      <td>0.000000</td>\n",
              "      <td>0.000000</td>\n",
              "      <td>0.000000</td>\n",
              "      <td>0.000000</td>\n",
              "      <td>0.000000</td>\n",
              "      <td>...</td>\n",
              "      <td>0.000000</td>\n",
              "      <td>0.000000</td>\n",
              "      <td>0.000000</td>\n",
              "      <td>0.000000</td>\n",
              "      <td>0.000000</td>\n",
              "      <td>0.000000</td>\n",
              "      <td>0.000000</td>\n",
              "      <td>0.000000</td>\n",
              "      <td>0.000000</td>\n",
              "      <td>1.000000</td>\n",
              "    </tr>\n",
              "    <tr>\n",
              "      <th>25%</th>\n",
              "      <td>2.000000</td>\n",
              "      <td>1.000000</td>\n",
              "      <td>1.000000</td>\n",
              "      <td>0.000000</td>\n",
              "      <td>0.000000</td>\n",
              "      <td>0.000000</td>\n",
              "      <td>0.000000</td>\n",
              "      <td>0.000000</td>\n",
              "      <td>0.000000</td>\n",
              "      <td>0.000000</td>\n",
              "      <td>...</td>\n",
              "      <td>0.000000</td>\n",
              "      <td>0.000000</td>\n",
              "      <td>0.000000</td>\n",
              "      <td>0.000000</td>\n",
              "      <td>0.000000</td>\n",
              "      <td>0.000000</td>\n",
              "      <td>0.000000</td>\n",
              "      <td>1.000000</td>\n",
              "      <td>0.000000</td>\n",
              "      <td>1.000000</td>\n",
              "    </tr>\n",
              "    <tr>\n",
              "      <th>50%</th>\n",
              "      <td>2.000000</td>\n",
              "      <td>2.000000</td>\n",
              "      <td>2.000000</td>\n",
              "      <td>1.000000</td>\n",
              "      <td>0.000000</td>\n",
              "      <td>0.000000</td>\n",
              "      <td>0.000000</td>\n",
              "      <td>0.000000</td>\n",
              "      <td>0.000000</td>\n",
              "      <td>0.000000</td>\n",
              "      <td>...</td>\n",
              "      <td>0.000000</td>\n",
              "      <td>0.000000</td>\n",
              "      <td>0.000000</td>\n",
              "      <td>0.000000</td>\n",
              "      <td>0.000000</td>\n",
              "      <td>0.000000</td>\n",
              "      <td>0.000000</td>\n",
              "      <td>2.000000</td>\n",
              "      <td>0.000000</td>\n",
              "      <td>3.000000</td>\n",
              "    </tr>\n",
              "    <tr>\n",
              "      <th>75%</th>\n",
              "      <td>2.000000</td>\n",
              "      <td>2.000000</td>\n",
              "      <td>2.000000</td>\n",
              "      <td>2.000000</td>\n",
              "      <td>1.000000</td>\n",
              "      <td>0.000000</td>\n",
              "      <td>0.000000</td>\n",
              "      <td>0.000000</td>\n",
              "      <td>1.000000</td>\n",
              "      <td>1.000000</td>\n",
              "      <td>...</td>\n",
              "      <td>0.000000</td>\n",
              "      <td>1.000000</td>\n",
              "      <td>0.000000</td>\n",
              "      <td>2.000000</td>\n",
              "      <td>0.000000</td>\n",
              "      <td>0.000000</td>\n",
              "      <td>0.000000</td>\n",
              "      <td>2.000000</td>\n",
              "      <td>0.000000</td>\n",
              "      <td>4.000000</td>\n",
              "    </tr>\n",
              "    <tr>\n",
              "      <th>max</th>\n",
              "      <td>3.000000</td>\n",
              "      <td>3.000000</td>\n",
              "      <td>3.000000</td>\n",
              "      <td>3.000000</td>\n",
              "      <td>3.000000</td>\n",
              "      <td>3.000000</td>\n",
              "      <td>3.000000</td>\n",
              "      <td>3.000000</td>\n",
              "      <td>3.000000</td>\n",
              "      <td>3.000000</td>\n",
              "      <td>...</td>\n",
              "      <td>3.000000</td>\n",
              "      <td>3.000000</td>\n",
              "      <td>3.000000</td>\n",
              "      <td>3.000000</td>\n",
              "      <td>3.000000</td>\n",
              "      <td>3.000000</td>\n",
              "      <td>3.000000</td>\n",
              "      <td>3.000000</td>\n",
              "      <td>3.000000</td>\n",
              "      <td>6.000000</td>\n",
              "    </tr>\n",
              "  </tbody>\n",
              "</table>\n",
              "<p>8 rows × 34 columns</p>\n",
              "</div>\n",
              "    <div class=\"colab-df-buttons\">\n",
              "\n",
              "  <div class=\"colab-df-container\">\n",
              "    <button class=\"colab-df-convert\" onclick=\"convertToInteractive('df-32b71064-2996-47a6-b290-7bad4cb813d3')\"\n",
              "            title=\"Convert this dataframe to an interactive table.\"\n",
              "            style=\"display:none;\">\n",
              "\n",
              "  <svg xmlns=\"http://www.w3.org/2000/svg\" height=\"24px\" viewBox=\"0 -960 960 960\">\n",
              "    <path d=\"M120-120v-720h720v720H120Zm60-500h600v-160H180v160Zm220 220h160v-160H400v160Zm0 220h160v-160H400v160ZM180-400h160v-160H180v160Zm440 0h160v-160H620v160ZM180-180h160v-160H180v160Zm440 0h160v-160H620v160Z\"/>\n",
              "  </svg>\n",
              "    </button>\n",
              "\n",
              "  <style>\n",
              "    .colab-df-container {\n",
              "      display:flex;\n",
              "      gap: 12px;\n",
              "    }\n",
              "\n",
              "    .colab-df-convert {\n",
              "      background-color: #E8F0FE;\n",
              "      border: none;\n",
              "      border-radius: 50%;\n",
              "      cursor: pointer;\n",
              "      display: none;\n",
              "      fill: #1967D2;\n",
              "      height: 32px;\n",
              "      padding: 0 0 0 0;\n",
              "      width: 32px;\n",
              "    }\n",
              "\n",
              "    .colab-df-convert:hover {\n",
              "      background-color: #E2EBFA;\n",
              "      box-shadow: 0px 1px 2px rgba(60, 64, 67, 0.3), 0px 1px 3px 1px rgba(60, 64, 67, 0.15);\n",
              "      fill: #174EA6;\n",
              "    }\n",
              "\n",
              "    .colab-df-buttons div {\n",
              "      margin-bottom: 4px;\n",
              "    }\n",
              "\n",
              "    [theme=dark] .colab-df-convert {\n",
              "      background-color: #3B4455;\n",
              "      fill: #D2E3FC;\n",
              "    }\n",
              "\n",
              "    [theme=dark] .colab-df-convert:hover {\n",
              "      background-color: #434B5C;\n",
              "      box-shadow: 0px 1px 3px 1px rgba(0, 0, 0, 0.15);\n",
              "      filter: drop-shadow(0px 1px 2px rgba(0, 0, 0, 0.3));\n",
              "      fill: #FFFFFF;\n",
              "    }\n",
              "  </style>\n",
              "\n",
              "    <script>\n",
              "      const buttonEl =\n",
              "        document.querySelector('#df-32b71064-2996-47a6-b290-7bad4cb813d3 button.colab-df-convert');\n",
              "      buttonEl.style.display =\n",
              "        google.colab.kernel.accessAllowed ? 'block' : 'none';\n",
              "\n",
              "      async function convertToInteractive(key) {\n",
              "        const element = document.querySelector('#df-32b71064-2996-47a6-b290-7bad4cb813d3');\n",
              "        const dataTable =\n",
              "          await google.colab.kernel.invokeFunction('convertToInteractive',\n",
              "                                                    [key], {});\n",
              "        if (!dataTable) return;\n",
              "\n",
              "        const docLinkHtml = 'Like what you see? Visit the ' +\n",
              "          '<a target=\"_blank\" href=https://colab.research.google.com/notebooks/data_table.ipynb>data table notebook</a>'\n",
              "          + ' to learn more about interactive tables.';\n",
              "        element.innerHTML = '';\n",
              "        dataTable['output_type'] = 'display_data';\n",
              "        await google.colab.output.renderOutput(dataTable, element);\n",
              "        const docLink = document.createElement('div');\n",
              "        docLink.innerHTML = docLinkHtml;\n",
              "        element.appendChild(docLink);\n",
              "      }\n",
              "    </script>\n",
              "  </div>\n",
              "\n",
              "\n",
              "<div id=\"df-5deec2fb-88b9-4f5f-b9e6-febe91066f44\">\n",
              "  <button class=\"colab-df-quickchart\" onclick=\"quickchart('df-5deec2fb-88b9-4f5f-b9e6-febe91066f44')\"\n",
              "            title=\"Suggest charts\"\n",
              "            style=\"display:none;\">\n",
              "\n",
              "<svg xmlns=\"http://www.w3.org/2000/svg\" height=\"24px\"viewBox=\"0 0 24 24\"\n",
              "     width=\"24px\">\n",
              "    <g>\n",
              "        <path d=\"M19 3H5c-1.1 0-2 .9-2 2v14c0 1.1.9 2 2 2h14c1.1 0 2-.9 2-2V5c0-1.1-.9-2-2-2zM9 17H7v-7h2v7zm4 0h-2V7h2v10zm4 0h-2v-4h2v4z\"/>\n",
              "    </g>\n",
              "</svg>\n",
              "  </button>\n",
              "\n",
              "<style>\n",
              "  .colab-df-quickchart {\n",
              "      --bg-color: #E8F0FE;\n",
              "      --fill-color: #1967D2;\n",
              "      --hover-bg-color: #E2EBFA;\n",
              "      --hover-fill-color: #174EA6;\n",
              "      --disabled-fill-color: #AAA;\n",
              "      --disabled-bg-color: #DDD;\n",
              "  }\n",
              "\n",
              "  [theme=dark] .colab-df-quickchart {\n",
              "      --bg-color: #3B4455;\n",
              "      --fill-color: #D2E3FC;\n",
              "      --hover-bg-color: #434B5C;\n",
              "      --hover-fill-color: #FFFFFF;\n",
              "      --disabled-bg-color: #3B4455;\n",
              "      --disabled-fill-color: #666;\n",
              "  }\n",
              "\n",
              "  .colab-df-quickchart {\n",
              "    background-color: var(--bg-color);\n",
              "    border: none;\n",
              "    border-radius: 50%;\n",
              "    cursor: pointer;\n",
              "    display: none;\n",
              "    fill: var(--fill-color);\n",
              "    height: 32px;\n",
              "    padding: 0;\n",
              "    width: 32px;\n",
              "  }\n",
              "\n",
              "  .colab-df-quickchart:hover {\n",
              "    background-color: var(--hover-bg-color);\n",
              "    box-shadow: 0 1px 2px rgba(60, 64, 67, 0.3), 0 1px 3px 1px rgba(60, 64, 67, 0.15);\n",
              "    fill: var(--button-hover-fill-color);\n",
              "  }\n",
              "\n",
              "  .colab-df-quickchart-complete:disabled,\n",
              "  .colab-df-quickchart-complete:disabled:hover {\n",
              "    background-color: var(--disabled-bg-color);\n",
              "    fill: var(--disabled-fill-color);\n",
              "    box-shadow: none;\n",
              "  }\n",
              "\n",
              "  .colab-df-spinner {\n",
              "    border: 2px solid var(--fill-color);\n",
              "    border-color: transparent;\n",
              "    border-bottom-color: var(--fill-color);\n",
              "    animation:\n",
              "      spin 1s steps(1) infinite;\n",
              "  }\n",
              "\n",
              "  @keyframes spin {\n",
              "    0% {\n",
              "      border-color: transparent;\n",
              "      border-bottom-color: var(--fill-color);\n",
              "      border-left-color: var(--fill-color);\n",
              "    }\n",
              "    20% {\n",
              "      border-color: transparent;\n",
              "      border-left-color: var(--fill-color);\n",
              "      border-top-color: var(--fill-color);\n",
              "    }\n",
              "    30% {\n",
              "      border-color: transparent;\n",
              "      border-left-color: var(--fill-color);\n",
              "      border-top-color: var(--fill-color);\n",
              "      border-right-color: var(--fill-color);\n",
              "    }\n",
              "    40% {\n",
              "      border-color: transparent;\n",
              "      border-right-color: var(--fill-color);\n",
              "      border-top-color: var(--fill-color);\n",
              "    }\n",
              "    60% {\n",
              "      border-color: transparent;\n",
              "      border-right-color: var(--fill-color);\n",
              "    }\n",
              "    80% {\n",
              "      border-color: transparent;\n",
              "      border-right-color: var(--fill-color);\n",
              "      border-bottom-color: var(--fill-color);\n",
              "    }\n",
              "    90% {\n",
              "      border-color: transparent;\n",
              "      border-bottom-color: var(--fill-color);\n",
              "    }\n",
              "  }\n",
              "</style>\n",
              "\n",
              "  <script>\n",
              "    async function quickchart(key) {\n",
              "      const quickchartButtonEl =\n",
              "        document.querySelector('#' + key + ' button');\n",
              "      quickchartButtonEl.disabled = true;  // To prevent multiple clicks.\n",
              "      quickchartButtonEl.classList.add('colab-df-spinner');\n",
              "      try {\n",
              "        const charts = await google.colab.kernel.invokeFunction(\n",
              "            'suggestCharts', [key], {});\n",
              "      } catch (error) {\n",
              "        console.error('Error during call to suggestCharts:', error);\n",
              "      }\n",
              "      quickchartButtonEl.classList.remove('colab-df-spinner');\n",
              "      quickchartButtonEl.classList.add('colab-df-quickchart-complete');\n",
              "    }\n",
              "    (() => {\n",
              "      let quickchartButtonEl =\n",
              "        document.querySelector('#df-5deec2fb-88b9-4f5f-b9e6-febe91066f44 button');\n",
              "      quickchartButtonEl.style.display =\n",
              "        google.colab.kernel.accessAllowed ? 'block' : 'none';\n",
              "    })();\n",
              "  </script>\n",
              "</div>\n",
              "\n",
              "    </div>\n",
              "  </div>\n"
            ],
            "application/vnd.google.colaboratory.intrinsic+json": {
              "type": "dataframe"
            }
          },
          "metadata": {},
          "execution_count": 94
        }
      ]
    },
    {
      "cell_type": "markdown",
      "source": [
        "#Vinhos"
      ],
      "metadata": {
        "id": "Ui3FeTO31d77"
      }
    },
    {
      "cell_type": "code",
      "source": [
        "import pandas as pd\n",
        "df  = pd.read_csv('https://raw.githubusercontent.com/alura-cursos/classificacao_multiclasse/main/Dados/df_vinho.csv')\n",
        "df.head()"
      ],
      "metadata": {
        "id": "ibuZTl3m1fiq",
        "colab": {
          "base_uri": "https://localhost:8080/",
          "height": 206
        },
        "outputId": "0730838b-ad2b-4971-8e77-5959c234de13"
      },
      "execution_count": null,
      "outputs": [
        {
          "output_type": "execute_result",
          "data": {
            "text/plain": [
              "   acidez fixa  acidez volátil  ácido cítrico  açúcar residual  cloretos  \\\n",
              "0          7.4            0.70           0.00              1.9     0.076   \n",
              "1          7.8            0.88           0.00              2.6     0.098   \n",
              "2          7.8            0.76           0.04              2.3     0.092   \n",
              "3         11.2            0.28           0.56              1.9     0.075   \n",
              "4          7.4            0.66           0.00              1.8     0.075   \n",
              "\n",
              "   dióxido de enxofre livre   dióxido de enxofre total  densidade    pH  \\\n",
              "0                       11.0                      34.0     0.9978  3.51   \n",
              "1                       25.0                      67.0     0.9968  3.20   \n",
              "2                       15.0                      54.0     0.9970  3.26   \n",
              "3                       17.0                      60.0     0.9980  3.16   \n",
              "4                       13.0                      40.0     0.9978  3.51   \n",
              "\n",
              "   sulfatos  álcool qualidade  \n",
              "0      0.56     9.4   mediano  \n",
              "1      0.68     9.8   mediano  \n",
              "2      0.65     9.8   mediano  \n",
              "3      0.58     9.8   mediano  \n",
              "4      0.56     9.4   mediano  "
            ],
            "text/html": [
              "\n",
              "  <div id=\"df-915a77e6-40b6-412e-88c1-7d6c50ee1bb6\" class=\"colab-df-container\">\n",
              "    <div>\n",
              "<style scoped>\n",
              "    .dataframe tbody tr th:only-of-type {\n",
              "        vertical-align: middle;\n",
              "    }\n",
              "\n",
              "    .dataframe tbody tr th {\n",
              "        vertical-align: top;\n",
              "    }\n",
              "\n",
              "    .dataframe thead th {\n",
              "        text-align: right;\n",
              "    }\n",
              "</style>\n",
              "<table border=\"1\" class=\"dataframe\">\n",
              "  <thead>\n",
              "    <tr style=\"text-align: right;\">\n",
              "      <th></th>\n",
              "      <th>acidez fixa</th>\n",
              "      <th>acidez volátil</th>\n",
              "      <th>ácido cítrico</th>\n",
              "      <th>açúcar residual</th>\n",
              "      <th>cloretos</th>\n",
              "      <th>dióxido de enxofre livre</th>\n",
              "      <th>dióxido de enxofre total</th>\n",
              "      <th>densidade</th>\n",
              "      <th>pH</th>\n",
              "      <th>sulfatos</th>\n",
              "      <th>álcool</th>\n",
              "      <th>qualidade</th>\n",
              "    </tr>\n",
              "  </thead>\n",
              "  <tbody>\n",
              "    <tr>\n",
              "      <th>0</th>\n",
              "      <td>7.4</td>\n",
              "      <td>0.70</td>\n",
              "      <td>0.00</td>\n",
              "      <td>1.9</td>\n",
              "      <td>0.076</td>\n",
              "      <td>11.0</td>\n",
              "      <td>34.0</td>\n",
              "      <td>0.9978</td>\n",
              "      <td>3.51</td>\n",
              "      <td>0.56</td>\n",
              "      <td>9.4</td>\n",
              "      <td>mediano</td>\n",
              "    </tr>\n",
              "    <tr>\n",
              "      <th>1</th>\n",
              "      <td>7.8</td>\n",
              "      <td>0.88</td>\n",
              "      <td>0.00</td>\n",
              "      <td>2.6</td>\n",
              "      <td>0.098</td>\n",
              "      <td>25.0</td>\n",
              "      <td>67.0</td>\n",
              "      <td>0.9968</td>\n",
              "      <td>3.20</td>\n",
              "      <td>0.68</td>\n",
              "      <td>9.8</td>\n",
              "      <td>mediano</td>\n",
              "    </tr>\n",
              "    <tr>\n",
              "      <th>2</th>\n",
              "      <td>7.8</td>\n",
              "      <td>0.76</td>\n",
              "      <td>0.04</td>\n",
              "      <td>2.3</td>\n",
              "      <td>0.092</td>\n",
              "      <td>15.0</td>\n",
              "      <td>54.0</td>\n",
              "      <td>0.9970</td>\n",
              "      <td>3.26</td>\n",
              "      <td>0.65</td>\n",
              "      <td>9.8</td>\n",
              "      <td>mediano</td>\n",
              "    </tr>\n",
              "    <tr>\n",
              "      <th>3</th>\n",
              "      <td>11.2</td>\n",
              "      <td>0.28</td>\n",
              "      <td>0.56</td>\n",
              "      <td>1.9</td>\n",
              "      <td>0.075</td>\n",
              "      <td>17.0</td>\n",
              "      <td>60.0</td>\n",
              "      <td>0.9980</td>\n",
              "      <td>3.16</td>\n",
              "      <td>0.58</td>\n",
              "      <td>9.8</td>\n",
              "      <td>mediano</td>\n",
              "    </tr>\n",
              "    <tr>\n",
              "      <th>4</th>\n",
              "      <td>7.4</td>\n",
              "      <td>0.66</td>\n",
              "      <td>0.00</td>\n",
              "      <td>1.8</td>\n",
              "      <td>0.075</td>\n",
              "      <td>13.0</td>\n",
              "      <td>40.0</td>\n",
              "      <td>0.9978</td>\n",
              "      <td>3.51</td>\n",
              "      <td>0.56</td>\n",
              "      <td>9.4</td>\n",
              "      <td>mediano</td>\n",
              "    </tr>\n",
              "  </tbody>\n",
              "</table>\n",
              "</div>\n",
              "    <div class=\"colab-df-buttons\">\n",
              "\n",
              "  <div class=\"colab-df-container\">\n",
              "    <button class=\"colab-df-convert\" onclick=\"convertToInteractive('df-915a77e6-40b6-412e-88c1-7d6c50ee1bb6')\"\n",
              "            title=\"Convert this dataframe to an interactive table.\"\n",
              "            style=\"display:none;\">\n",
              "\n",
              "  <svg xmlns=\"http://www.w3.org/2000/svg\" height=\"24px\" viewBox=\"0 -960 960 960\">\n",
              "    <path d=\"M120-120v-720h720v720H120Zm60-500h600v-160H180v160Zm220 220h160v-160H400v160Zm0 220h160v-160H400v160ZM180-400h160v-160H180v160Zm440 0h160v-160H620v160ZM180-180h160v-160H180v160Zm440 0h160v-160H620v160Z\"/>\n",
              "  </svg>\n",
              "    </button>\n",
              "\n",
              "  <style>\n",
              "    .colab-df-container {\n",
              "      display:flex;\n",
              "      gap: 12px;\n",
              "    }\n",
              "\n",
              "    .colab-df-convert {\n",
              "      background-color: #E8F0FE;\n",
              "      border: none;\n",
              "      border-radius: 50%;\n",
              "      cursor: pointer;\n",
              "      display: none;\n",
              "      fill: #1967D2;\n",
              "      height: 32px;\n",
              "      padding: 0 0 0 0;\n",
              "      width: 32px;\n",
              "    }\n",
              "\n",
              "    .colab-df-convert:hover {\n",
              "      background-color: #E2EBFA;\n",
              "      box-shadow: 0px 1px 2px rgba(60, 64, 67, 0.3), 0px 1px 3px 1px rgba(60, 64, 67, 0.15);\n",
              "      fill: #174EA6;\n",
              "    }\n",
              "\n",
              "    .colab-df-buttons div {\n",
              "      margin-bottom: 4px;\n",
              "    }\n",
              "\n",
              "    [theme=dark] .colab-df-convert {\n",
              "      background-color: #3B4455;\n",
              "      fill: #D2E3FC;\n",
              "    }\n",
              "\n",
              "    [theme=dark] .colab-df-convert:hover {\n",
              "      background-color: #434B5C;\n",
              "      box-shadow: 0px 1px 3px 1px rgba(0, 0, 0, 0.15);\n",
              "      filter: drop-shadow(0px 1px 2px rgba(0, 0, 0, 0.3));\n",
              "      fill: #FFFFFF;\n",
              "    }\n",
              "  </style>\n",
              "\n",
              "    <script>\n",
              "      const buttonEl =\n",
              "        document.querySelector('#df-915a77e6-40b6-412e-88c1-7d6c50ee1bb6 button.colab-df-convert');\n",
              "      buttonEl.style.display =\n",
              "        google.colab.kernel.accessAllowed ? 'block' : 'none';\n",
              "\n",
              "      async function convertToInteractive(key) {\n",
              "        const element = document.querySelector('#df-915a77e6-40b6-412e-88c1-7d6c50ee1bb6');\n",
              "        const dataTable =\n",
              "          await google.colab.kernel.invokeFunction('convertToInteractive',\n",
              "                                                    [key], {});\n",
              "        if (!dataTable) return;\n",
              "\n",
              "        const docLinkHtml = 'Like what you see? Visit the ' +\n",
              "          '<a target=\"_blank\" href=https://colab.research.google.com/notebooks/data_table.ipynb>data table notebook</a>'\n",
              "          + ' to learn more about interactive tables.';\n",
              "        element.innerHTML = '';\n",
              "        dataTable['output_type'] = 'display_data';\n",
              "        await google.colab.output.renderOutput(dataTable, element);\n",
              "        const docLink = document.createElement('div');\n",
              "        docLink.innerHTML = docLinkHtml;\n",
              "        element.appendChild(docLink);\n",
              "      }\n",
              "    </script>\n",
              "  </div>\n",
              "\n",
              "\n",
              "<div id=\"df-c450c58a-50aa-45bc-9bf5-a78611edbb9f\">\n",
              "  <button class=\"colab-df-quickchart\" onclick=\"quickchart('df-c450c58a-50aa-45bc-9bf5-a78611edbb9f')\"\n",
              "            title=\"Suggest charts\"\n",
              "            style=\"display:none;\">\n",
              "\n",
              "<svg xmlns=\"http://www.w3.org/2000/svg\" height=\"24px\"viewBox=\"0 0 24 24\"\n",
              "     width=\"24px\">\n",
              "    <g>\n",
              "        <path d=\"M19 3H5c-1.1 0-2 .9-2 2v14c0 1.1.9 2 2 2h14c1.1 0 2-.9 2-2V5c0-1.1-.9-2-2-2zM9 17H7v-7h2v7zm4 0h-2V7h2v10zm4 0h-2v-4h2v4z\"/>\n",
              "    </g>\n",
              "</svg>\n",
              "  </button>\n",
              "\n",
              "<style>\n",
              "  .colab-df-quickchart {\n",
              "      --bg-color: #E8F0FE;\n",
              "      --fill-color: #1967D2;\n",
              "      --hover-bg-color: #E2EBFA;\n",
              "      --hover-fill-color: #174EA6;\n",
              "      --disabled-fill-color: #AAA;\n",
              "      --disabled-bg-color: #DDD;\n",
              "  }\n",
              "\n",
              "  [theme=dark] .colab-df-quickchart {\n",
              "      --bg-color: #3B4455;\n",
              "      --fill-color: #D2E3FC;\n",
              "      --hover-bg-color: #434B5C;\n",
              "      --hover-fill-color: #FFFFFF;\n",
              "      --disabled-bg-color: #3B4455;\n",
              "      --disabled-fill-color: #666;\n",
              "  }\n",
              "\n",
              "  .colab-df-quickchart {\n",
              "    background-color: var(--bg-color);\n",
              "    border: none;\n",
              "    border-radius: 50%;\n",
              "    cursor: pointer;\n",
              "    display: none;\n",
              "    fill: var(--fill-color);\n",
              "    height: 32px;\n",
              "    padding: 0;\n",
              "    width: 32px;\n",
              "  }\n",
              "\n",
              "  .colab-df-quickchart:hover {\n",
              "    background-color: var(--hover-bg-color);\n",
              "    box-shadow: 0 1px 2px rgba(60, 64, 67, 0.3), 0 1px 3px 1px rgba(60, 64, 67, 0.15);\n",
              "    fill: var(--button-hover-fill-color);\n",
              "  }\n",
              "\n",
              "  .colab-df-quickchart-complete:disabled,\n",
              "  .colab-df-quickchart-complete:disabled:hover {\n",
              "    background-color: var(--disabled-bg-color);\n",
              "    fill: var(--disabled-fill-color);\n",
              "    box-shadow: none;\n",
              "  }\n",
              "\n",
              "  .colab-df-spinner {\n",
              "    border: 2px solid var(--fill-color);\n",
              "    border-color: transparent;\n",
              "    border-bottom-color: var(--fill-color);\n",
              "    animation:\n",
              "      spin 1s steps(1) infinite;\n",
              "  }\n",
              "\n",
              "  @keyframes spin {\n",
              "    0% {\n",
              "      border-color: transparent;\n",
              "      border-bottom-color: var(--fill-color);\n",
              "      border-left-color: var(--fill-color);\n",
              "    }\n",
              "    20% {\n",
              "      border-color: transparent;\n",
              "      border-left-color: var(--fill-color);\n",
              "      border-top-color: var(--fill-color);\n",
              "    }\n",
              "    30% {\n",
              "      border-color: transparent;\n",
              "      border-left-color: var(--fill-color);\n",
              "      border-top-color: var(--fill-color);\n",
              "      border-right-color: var(--fill-color);\n",
              "    }\n",
              "    40% {\n",
              "      border-color: transparent;\n",
              "      border-right-color: var(--fill-color);\n",
              "      border-top-color: var(--fill-color);\n",
              "    }\n",
              "    60% {\n",
              "      border-color: transparent;\n",
              "      border-right-color: var(--fill-color);\n",
              "    }\n",
              "    80% {\n",
              "      border-color: transparent;\n",
              "      border-right-color: var(--fill-color);\n",
              "      border-bottom-color: var(--fill-color);\n",
              "    }\n",
              "    90% {\n",
              "      border-color: transparent;\n",
              "      border-bottom-color: var(--fill-color);\n",
              "    }\n",
              "  }\n",
              "</style>\n",
              "\n",
              "  <script>\n",
              "    async function quickchart(key) {\n",
              "      const quickchartButtonEl =\n",
              "        document.querySelector('#' + key + ' button');\n",
              "      quickchartButtonEl.disabled = true;  // To prevent multiple clicks.\n",
              "      quickchartButtonEl.classList.add('colab-df-spinner');\n",
              "      try {\n",
              "        const charts = await google.colab.kernel.invokeFunction(\n",
              "            'suggestCharts', [key], {});\n",
              "      } catch (error) {\n",
              "        console.error('Error during call to suggestCharts:', error);\n",
              "      }\n",
              "      quickchartButtonEl.classList.remove('colab-df-spinner');\n",
              "      quickchartButtonEl.classList.add('colab-df-quickchart-complete');\n",
              "    }\n",
              "    (() => {\n",
              "      let quickchartButtonEl =\n",
              "        document.querySelector('#df-c450c58a-50aa-45bc-9bf5-a78611edbb9f button');\n",
              "      quickchartButtonEl.style.display =\n",
              "        google.colab.kernel.accessAllowed ? 'block' : 'none';\n",
              "    })();\n",
              "  </script>\n",
              "</div>\n",
              "\n",
              "    </div>\n",
              "  </div>\n"
            ],
            "application/vnd.google.colaboratory.intrinsic+json": {
              "type": "dataframe",
              "variable_name": "df",
              "summary": "{\n  \"name\": \"df\",\n  \"rows\": 1359,\n  \"fields\": [\n    {\n      \"column\": \"acidez fixa\",\n      \"properties\": {\n        \"dtype\": \"number\",\n        \"std\": 1.7369898075324683,\n        \"min\": 4.6,\n        \"max\": 15.9,\n        \"num_unique_values\": 96,\n        \"samples\": [\n          5.3,\n          12.7,\n          12.6\n        ],\n        \"semantic_type\": \"\",\n        \"description\": \"\"\n      }\n    },\n    {\n      \"column\": \"acidez vol\\u00e1til\",\n      \"properties\": {\n        \"dtype\": \"number\",\n        \"std\": 0.1830313176190719,\n        \"min\": 0.12,\n        \"max\": 1.58,\n        \"num_unique_values\": 143,\n        \"samples\": [\n          1.025,\n          0.4,\n          0.87\n        ],\n        \"semantic_type\": \"\",\n        \"description\": \"\"\n      }\n    },\n    {\n      \"column\": \"\\u00e1cido c\\u00edtrico\",\n      \"properties\": {\n        \"dtype\": \"number\",\n        \"std\": 0.1955365445504638,\n        \"min\": 0.0,\n        \"max\": 1.0,\n        \"num_unique_values\": 80,\n        \"samples\": [\n          0.37,\n          0.0,\n          0.09\n        ],\n        \"semantic_type\": \"\",\n        \"description\": \"\"\n      }\n    },\n    {\n      \"column\": \"a\\u00e7\\u00facar residual\",\n      \"properties\": {\n        \"dtype\": \"number\",\n        \"std\": 1.3523137577104225,\n        \"min\": 0.9,\n        \"max\": 15.5,\n        \"num_unique_values\": 91,\n        \"samples\": [\n          11.0,\n          3.0,\n          15.5\n        ],\n        \"semantic_type\": \"\",\n        \"description\": \"\"\n      }\n    },\n    {\n      \"column\": \"cloretos\",\n      \"properties\": {\n        \"dtype\": \"number\",\n        \"std\": 0.04937686244348607,\n        \"min\": 0.012,\n        \"max\": 0.611,\n        \"num_unique_values\": 153,\n        \"samples\": [\n          0.096,\n          0.3429999999999999,\n          0.159\n        ],\n        \"semantic_type\": \"\",\n        \"description\": \"\"\n      }\n    },\n    {\n      \"column\": \"di\\u00f3xido de enxofre livre \",\n      \"properties\": {\n        \"dtype\": \"number\",\n        \"std\": 10.447270259048693,\n        \"min\": 1.0,\n        \"max\": 72.0,\n        \"num_unique_values\": 60,\n        \"samples\": [\n          11.0,\n          9.0,\n          32.0\n        ],\n        \"semantic_type\": \"\",\n        \"description\": \"\"\n      }\n    },\n    {\n      \"column\": \"di\\u00f3xido de enxofre total\",\n      \"properties\": {\n        \"dtype\": \"number\",\n        \"std\": 33.40894570661652,\n        \"min\": 6.0,\n        \"max\": 289.0,\n        \"num_unique_values\": 144,\n        \"samples\": [\n          68.0,\n          35.0,\n          101.0\n        ],\n        \"semantic_type\": \"\",\n        \"description\": \"\"\n      }\n    },\n    {\n      \"column\": \"densidade\",\n      \"properties\": {\n        \"dtype\": \"number\",\n        \"std\": 0.0018689171325591413,\n        \"min\": 0.99007,\n        \"max\": 1.00369,\n        \"num_unique_values\": 436,\n        \"samples\": [\n          0.99974,\n          1.0001,\n          0.99471\n        ],\n        \"semantic_type\": \"\",\n        \"description\": \"\"\n      }\n    },\n    {\n      \"column\": \"pH\",\n      \"properties\": {\n        \"dtype\": \"number\",\n        \"std\": 0.15503631128729617,\n        \"min\": 2.74,\n        \"max\": 4.01,\n        \"num_unique_values\": 89,\n        \"samples\": [\n          3.07,\n          3.0,\n          3.15\n        ],\n        \"semantic_type\": \"\",\n        \"description\": \"\"\n      }\n    },\n    {\n      \"column\": \"sulfatos\",\n      \"properties\": {\n        \"dtype\": \"number\",\n        \"std\": 0.17066689057420686,\n        \"min\": 0.33,\n        \"max\": 2.0,\n        \"num_unique_values\": 96,\n        \"samples\": [\n          1.07,\n          1.04,\n          1.18\n        ],\n        \"semantic_type\": \"\",\n        \"description\": \"\"\n      }\n    },\n    {\n      \"column\": \"\\u00e1lcool\",\n      \"properties\": {\n        \"dtype\": \"number\",\n        \"std\": 1.0820654499402542,\n        \"min\": 8.4,\n        \"max\": 14.9,\n        \"num_unique_values\": 65,\n        \"samples\": [\n          8.5,\n          9.95,\n          9.4\n        ],\n        \"semantic_type\": \"\",\n        \"description\": \"\"\n      }\n    },\n    {\n      \"column\": \"qualidade\",\n      \"properties\": {\n        \"dtype\": \"category\",\n        \"num_unique_values\": 3,\n        \"samples\": [\n          \"mediano\",\n          \"bom\",\n          \"ruim\"\n        ],\n        \"semantic_type\": \"\",\n        \"description\": \"\"\n      }\n    }\n  ]\n}"
            }
          },
          "metadata": {},
          "execution_count": 95
        }
      ]
    },
    {
      "cell_type": "code",
      "source": [
        "df.info()"
      ],
      "metadata": {
        "colab": {
          "base_uri": "https://localhost:8080/"
        },
        "id": "9qN1JYTjr0mY",
        "outputId": "3adf619f-078b-4b5a-a559-f447811315fb"
      },
      "execution_count": null,
      "outputs": [
        {
          "output_type": "stream",
          "name": "stdout",
          "text": [
            "<class 'pandas.core.frame.DataFrame'>\n",
            "RangeIndex: 1359 entries, 0 to 1358\n",
            "Data columns (total 12 columns):\n",
            " #   Column                     Non-Null Count  Dtype  \n",
            "---  ------                     --------------  -----  \n",
            " 0   acidez fixa                1359 non-null   float64\n",
            " 1   acidez volátil             1359 non-null   float64\n",
            " 2   ácido cítrico              1359 non-null   float64\n",
            " 3   açúcar residual            1359 non-null   float64\n",
            " 4   cloretos                   1359 non-null   float64\n",
            " 5   dióxido de enxofre livre   1359 non-null   float64\n",
            " 6   dióxido de enxofre total   1359 non-null   float64\n",
            " 7   densidade                  1359 non-null   float64\n",
            " 8   pH                         1359 non-null   float64\n",
            " 9   sulfatos                   1359 non-null   float64\n",
            " 10  álcool                     1359 non-null   float64\n",
            " 11  qualidade                  1359 non-null   object \n",
            "dtypes: float64(11), object(1)\n",
            "memory usage: 127.5+ KB\n"
          ]
        }
      ]
    },
    {
      "cell_type": "code",
      "source": [
        "X = df.drop('qualidade', axis=1)\n",
        "y = df['qualidade']"
      ],
      "metadata": {
        "id": "93O-lbLqsGtS"
      },
      "execution_count": null,
      "outputs": []
    },
    {
      "cell_type": "code",
      "source": [
        "X, X_test, y, y_test = train_test_split(X, y, test_size=0.15,stratify=y, random_state=0)\n",
        "X_train, X_val, y_train, y_val = train_test_split(X, y, stratify=y, random_state=0)"
      ],
      "metadata": {
        "id": "33ZJL7YWseI3"
      },
      "execution_count": null,
      "outputs": []
    },
    {
      "cell_type": "code",
      "source": [
        "from sklearn.ensemble import RandomForestClassifier\n",
        "\n",
        "ex_model = RandomForestClassifier(random_state=0, max_depth=4)\n",
        "ex_model.fit(X_train, y_train)\n",
        "y_pred = ex_model.predict(X_val)\n",
        "print(f'Acurácia de treino: {ex_model.score(X_train, y_train)}')\n",
        "print(f'Acurácia de validação: {ex_model.score(X_val, y_val)}')"
      ],
      "metadata": {
        "colab": {
          "base_uri": "https://localhost:8080/"
        },
        "id": "j84Jg92YtLcJ",
        "outputId": "93811362-27b8-49cd-864c-30d2ab4e4869"
      },
      "execution_count": null,
      "outputs": [
        {
          "output_type": "stream",
          "name": "stdout",
          "text": [
            "Acurácia de treino: 0.8545034642032333\n",
            "Acurácia de validação: 0.8477508650519031\n"
          ]
        }
      ]
    },
    {
      "cell_type": "code",
      "source": [
        "ConfusionMatrixDisplay.from_estimator(ex_model, X_val, y_val, normalize='true', cmap='Blues');"
      ],
      "metadata": {
        "colab": {
          "base_uri": "https://localhost:8080/",
          "height": 455
        },
        "id": "m2u42qB3ttMO",
        "outputId": "0327c237-3e5e-43c7-8a82-36934bb60641"
      },
      "execution_count": null,
      "outputs": [
        {
          "output_type": "display_data",
          "data": {
            "text/plain": [
              "<Figure size 640x480 with 2 Axes>"
            ],
            "image/png": "[encoded data removed]"
          },
          "metadata": {}
        }
      ]
    },
    {
      "cell_type": "code",
      "source": [
        "from sklearn.metrics import classification_report\n",
        "\n",
        "report = classification_report(y_val, y_pred)\n",
        "print(\"Relatório de Classificação:\\n\", report)"
      ],
      "metadata": {
        "colab": {
          "base_uri": "https://localhost:8080/"
        },
        "id": "dTXhJLlwvt7e",
        "outputId": "47baab39-5e4d-446b-9259-ff1f32393b74"
      },
      "execution_count": null,
      "outputs": [
        {
          "output_type": "stream",
          "name": "stdout",
          "text": [
            "Relatório de Classificação:\n",
            "               precision    recall  f1-score   support\n",
            "\n",
            "         bom       1.00      0.23      0.38        39\n",
            "     mediano       0.84      1.00      0.91       236\n",
            "        ruim       0.00      0.00      0.00        14\n",
            "\n",
            "    accuracy                           0.85       289\n",
            "   macro avg       0.61      0.41      0.43       289\n",
            "weighted avg       0.82      0.85      0.80       289\n",
            "\n"
          ]
        },
        {
          "output_type": "stream",
          "name": "stderr",
          "text": [
            "/usr/local/lib/python3.10/dist-packages/sklearn/metrics/_classification.py:1471: UndefinedMetricWarning:\n",
            "\n",
            "Precision and F-score are ill-defined and being set to 0.0 in labels with no predicted samples. Use `zero_division` parameter to control this behavior.\n",
            "\n",
            "/usr/local/lib/python3.10/dist-packages/sklearn/metrics/_classification.py:1471: UndefinedMetricWarning:\n",
            "\n",
            "Precision and F-score are ill-defined and being set to 0.0 in labels with no predicted samples. Use `zero_division` parameter to control this behavior.\n",
            "\n",
            "/usr/local/lib/python3.10/dist-packages/sklearn/metrics/_classification.py:1471: UndefinedMetricWarning:\n",
            "\n",
            "Precision and F-score are ill-defined and being set to 0.0 in labels with no predicted samples. Use `zero_division` parameter to control this behavior.\n",
            "\n"
          ]
        }
      ]
    },
    {
      "cell_type": "code",
      "source": [
        "y_train.value_counts()\n",
        "#Considerar o balanceamento dos dados"
      ],
      "metadata": {
        "colab": {
          "base_uri": "https://localhost:8080/",
          "height": 210
        },
        "id": "KQt9AUhwyS1n",
        "outputId": "3e9f26cf-6000-4df4-a35d-103d3df8f83f"
      },
      "execution_count": null,
      "outputs": [
        {
          "output_type": "execute_result",
          "data": {
            "text/plain": [
              "qualidade\n",
              "mediano    709\n",
              "bom        117\n",
              "ruim        40\n",
              "Name: count, dtype: int64"
            ],
            "text/html": [
              "<div>\n",
              "<style scoped>\n",
              "    .dataframe tbody tr th:only-of-type {\n",
              "        vertical-align: middle;\n",
              "    }\n",
              "\n",
              "    .dataframe tbody tr th {\n",
              "        vertical-align: top;\n",
              "    }\n",
              "\n",
              "    .dataframe thead th {\n",
              "        text-align: right;\n",
              "    }\n",
              "</style>\n",
              "<table border=\"1\" class=\"dataframe\">\n",
              "  <thead>\n",
              "    <tr style=\"text-align: right;\">\n",
              "      <th></th>\n",
              "      <th>count</th>\n",
              "    </tr>\n",
              "    <tr>\n",
              "      <th>qualidade</th>\n",
              "      <th></th>\n",
              "    </tr>\n",
              "  </thead>\n",
              "  <tbody>\n",
              "    <tr>\n",
              "      <th>mediano</th>\n",
              "      <td>709</td>\n",
              "    </tr>\n",
              "    <tr>\n",
              "      <th>bom</th>\n",
              "      <td>117</td>\n",
              "    </tr>\n",
              "    <tr>\n",
              "      <th>ruim</th>\n",
              "      <td>40</td>\n",
              "    </tr>\n",
              "  </tbody>\n",
              "</table>\n",
              "</div><br><label><b>dtype:</b> int64</label>"
            ]
          },
          "metadata": {},
          "execution_count": 103
        }
      ]
    },
    {
      "cell_type": "code",
      "source": [
        "oversample = SMOTE(random_state=0)\n",
        "X_balanced, y_balanced = oversample.fit_resample(X_train, y_train)\n",
        "wine_model = RandomForestClassifier(random_state=0, max_depth=4)\n",
        "wine_model.fit(X_balanced, y_balanced)\n",
        "y_pred = wine_model.predict(X_val)\n",
        "print(classification_report(y_val, y_pred))\n",
        "ConfusionMatrixDisplay.from_predictions(y_val, y_pred, normalize='true', cmap='Blues');"
      ],
      "metadata": {
        "colab": {
          "base_uri": "https://localhost:8080/",
          "height": 623
        },
        "id": "Q0ryJs6s0TU0",
        "outputId": "7eee90e3-bf1f-4204-b3ff-14477dcf44e6"
      },
      "execution_count": null,
      "outputs": [
        {
          "output_type": "stream",
          "name": "stdout",
          "text": [
            "              precision    recall  f1-score   support\n",
            "\n",
            "         bom       0.36      0.77      0.49        39\n",
            "     mediano       0.92      0.56      0.69       236\n",
            "        ruim       0.13      0.57      0.21        14\n",
            "\n",
            "    accuracy                           0.59       289\n",
            "   macro avg       0.47      0.63      0.47       289\n",
            "weighted avg       0.80      0.59      0.64       289\n",
            "\n"
          ]
        },
        {
          "output_type": "display_data",
          "data": {
            "text/plain": [
              "<Figure size 640x480 with 2 Axes>"
            ],
            "image/png": "[encoded data removed]"
          },
          "metadata": {}
        }
      ]
    },
    {
      "cell_type": "code",
      "source": [
        "from imblearn.pipeline import Pipeline as imbpipeline\n",
        "modelo = RandomForestClassifier(max_depth = 4)\n",
        "pipeline = imbpipeline([('oversample', SMOTE()), ('floresta', modelo)])"
      ],
      "metadata": {
        "id": "tbCnGkVY1C8L"
      },
      "execution_count": null,
      "outputs": []
    },
    {
      "cell_type": "code",
      "source": [
        "from sklearn.model_selection import cross_validate, StratifiedKFold\n",
        "skf = StratifiedKFold(n_splits=5, shuffle=True, random_state=0)\n",
        "cv_resultados = cross_validate(pipeline, X, y, cv=skf, scoring='recall_weighted')\n",
        "cv_resultados['test_score']"
      ],
      "metadata": {
        "colab": {
          "base_uri": "https://localhost:8080/"
        },
        "id": "OylCIxDo1FHi",
        "outputId": "951e6d75-cd1e-4ffb-e075-938d050be232"
      },
      "execution_count": null,
      "outputs": [
        {
          "output_type": "execute_result",
          "data": {
            "text/plain": [
              "array([0.60606061, 0.65367965, 0.6017316 , 0.65367965, 0.63203463])"
            ]
          },
          "metadata": {},
          "execution_count": 106
        }
      ]
    },
    {
      "cell_type": "code",
      "source": [
        "media = cv_resultados['test_score'].mean()\n",
        "desvio_padrao = cv_resultados['test_score'].std()\n",
        "print(f'Intervalo de confiança: [{media-2*desvio_padrao}, {min(media+2*desvio_padrao, 1.0)}]')"
      ],
      "metadata": {
        "colab": {
          "base_uri": "https://localhost:8080/"
        },
        "id": "ZHbEDAGp1KHA",
        "outputId": "c2ad3e7d-e5c6-42ef-8f00-522dd131cac7"
      },
      "execution_count": null,
      "outputs": [
        {
          "output_type": "stream",
          "name": "stdout",
          "text": [
            "Intervalo de confiança: [0.5847498254525926, 0.6741246334218666]\n"
          ]
        }
      ]
    },
    {
      "cell_type": "code",
      "source": [
        "oversample = SMOTE(random_state=0)\n",
        "X_balanced, y_balanced = oversample.fit_resample(X, y)\n",
        "modelo = RandomForestClassifier(random_state=0, max_depth=4)\n",
        "modelo.fit(X_balanced, y_balanced)\n",
        "y_pred = modelo.predict(X_test)\n",
        "\n",
        "print(classification_report(y_test, y_pred))\n",
        "ConfusionMatrixDisplay.from_predictions(y_test, y_pred, normalize='true', cmap='Blues');"
      ],
      "metadata": {
        "colab": {
          "base_uri": "https://localhost:8080/"
        },
        "id": "5VqcR0dS1MNu",
        "outputId": "41e24d8a-56e1-4e52-fcb6-7bc2b717136f"
      },
      "execution_count": null,
      "outputs": [
        {
          "output_type": "stream",
          "name": "stdout",
          "text": [
            "              precision    recall  f1-score   support\n",
            "\n",
            "         bom       0.45      0.89      0.60        28\n",
            "     mediano       0.96      0.69      0.81       167\n",
            "        ruim       0.18      0.56      0.27         9\n",
            "\n",
            "    accuracy                           0.72       204\n",
            "   macro avg       0.53      0.71      0.56       204\n",
            "weighted avg       0.86      0.72      0.75       204\n",
            "\n"
          ]
        },
        {
          "output_type": "display_data",
          "data": {
            "text/plain": [
              "<Figure size 640x480 with 2 Axes>"
            ],
            "image/png": "[encoded data removed]"
          },
          "metadata": {}
        }
      ]
    },
    {
      "cell_type": "markdown",
      "source": [
        "#Iris de flores"
      ],
      "metadata": {
        "id": "ZJorjTDW2ch9"
      }
    },
    {
      "cell_type": "code",
      "source": [
        "iris = pd.read_csv('https://gist.githubusercontent.com/curran/a08a1080b88344b0c8a7/raw/0e7a9b0a5d22642a06d3d5b9bcbad9890c8ee534/iris.csv')\n",
        "iris.head()"
      ],
      "metadata": {
        "colab": {
          "base_uri": "https://localhost:8080/",
          "height": 206
        },
        "id": "ejTGQJWD2iDl",
        "outputId": "d673b107-ebfc-4a28-9da5-0e80919c6870"
      },
      "execution_count": null,
      "outputs": [
        {
          "output_type": "execute_result",
          "data": {
            "text/plain": [
              "   sepal_length  sepal_width  petal_length  petal_width species\n",
              "0           5.1          3.5           1.4          0.2  setosa\n",
              "1           4.9          3.0           1.4          0.2  setosa\n",
              "2           4.7          3.2           1.3          0.2  setosa\n",
              "3           4.6          3.1           1.5          0.2  setosa\n",
              "4           5.0          3.6           1.4          0.2  setosa"
            ],
            "text/html": [
              "\n",
              "  <div id=\"df-e3370e6e-1426-42f1-9798-50cbd2b661a0\" class=\"colab-df-container\">\n",
              "    <div>\n",
              "<style scoped>\n",
              "    .dataframe tbody tr th:only-of-type {\n",
              "        vertical-align: middle;\n",
              "    }\n",
              "\n",
              "    .dataframe tbody tr th {\n",
              "        vertical-align: top;\n",
              "    }\n",
              "\n",
              "    .dataframe thead th {\n",
              "        text-align: right;\n",
              "    }\n",
              "</style>\n",
              "<table border=\"1\" class=\"dataframe\">\n",
              "  <thead>\n",
              "    <tr style=\"text-align: right;\">\n",
              "      <th></th>\n",
              "      <th>sepal_length</th>\n",
              "      <th>sepal_width</th>\n",
              "      <th>petal_length</th>\n",
              "      <th>petal_width</th>\n",
              "      <th>species</th>\n",
              "    </tr>\n",
              "  </thead>\n",
              "  <tbody>\n",
              "    <tr>\n",
              "      <th>0</th>\n",
              "      <td>5.1</td>\n",
              "      <td>3.5</td>\n",
              "      <td>1.4</td>\n",
              "      <td>0.2</td>\n",
              "      <td>setosa</td>\n",
              "    </tr>\n",
              "    <tr>\n",
              "      <th>1</th>\n",
              "      <td>4.9</td>\n",
              "      <td>3.0</td>\n",
              "      <td>1.4</td>\n",
              "      <td>0.2</td>\n",
              "      <td>setosa</td>\n",
              "    </tr>\n",
              "    <tr>\n",
              "      <th>2</th>\n",
              "      <td>4.7</td>\n",
              "      <td>3.2</td>\n",
              "      <td>1.3</td>\n",
              "      <td>0.2</td>\n",
              "      <td>setosa</td>\n",
              "    </tr>\n",
              "    <tr>\n",
              "      <th>3</th>\n",
              "      <td>4.6</td>\n",
              "      <td>3.1</td>\n",
              "      <td>1.5</td>\n",
              "      <td>0.2</td>\n",
              "      <td>setosa</td>\n",
              "    </tr>\n",
              "    <tr>\n",
              "      <th>4</th>\n",
              "      <td>5.0</td>\n",
              "      <td>3.6</td>\n",
              "      <td>1.4</td>\n",
              "      <td>0.2</td>\n",
              "      <td>setosa</td>\n",
              "    </tr>\n",
              "  </tbody>\n",
              "</table>\n",
              "</div>\n",
              "    <div class=\"colab-df-buttons\">\n",
              "\n",
              "  <div class=\"colab-df-container\">\n",
              "    <button class=\"colab-df-convert\" onclick=\"convertToInteractive('df-e3370e6e-1426-42f1-9798-50cbd2b661a0')\"\n",
              "            title=\"Convert this dataframe to an interactive table.\"\n",
              "            style=\"display:none;\">\n",
              "\n",
              "  <svg xmlns=\"http://www.w3.org/2000/svg\" height=\"24px\" viewBox=\"0 -960 960 960\">\n",
              "    <path d=\"M120-120v-720h720v720H120Zm60-500h600v-160H180v160Zm220 220h160v-160H400v160Zm0 220h160v-160H400v160ZM180-400h160v-160H180v160Zm440 0h160v-160H620v160ZM180-180h160v-160H180v160Zm440 0h160v-160H620v160Z\"/>\n",
              "  </svg>\n",
              "    </button>\n",
              "\n",
              "  <style>\n",
              "    .colab-df-container {\n",
              "      display:flex;\n",
              "      gap: 12px;\n",
              "    }\n",
              "\n",
              "    .colab-df-convert {\n",
              "      background-color: #E8F0FE;\n",
              "      border: none;\n",
              "      border-radius: 50%;\n",
              "      cursor: pointer;\n",
              "      display: none;\n",
              "      fill: #1967D2;\n",
              "      height: 32px;\n",
              "      padding: 0 0 0 0;\n",
              "      width: 32px;\n",
              "    }\n",
              "\n",
              "    .colab-df-convert:hover {\n",
              "      background-color: #E2EBFA;\n",
              "      box-shadow: 0px 1px 2px rgba(60, 64, 67, 0.3), 0px 1px 3px 1px rgba(60, 64, 67, 0.15);\n",
              "      fill: #174EA6;\n",
              "    }\n",
              "\n",
              "    .colab-df-buttons div {\n",
              "      margin-bottom: 4px;\n",
              "    }\n",
              "\n",
              "    [theme=dark] .colab-df-convert {\n",
              "      background-color: #3B4455;\n",
              "      fill: #D2E3FC;\n",
              "    }\n",
              "\n",
              "    [theme=dark] .colab-df-convert:hover {\n",
              "      background-color: #434B5C;\n",
              "      box-shadow: 0px 1px 3px 1px rgba(0, 0, 0, 0.15);\n",
              "      filter: drop-shadow(0px 1px 2px rgba(0, 0, 0, 0.3));\n",
              "      fill: #FFFFFF;\n",
              "    }\n",
              "  </style>\n",
              "\n",
              "    <script>\n",
              "      const buttonEl =\n",
              "        document.querySelector('#df-e3370e6e-1426-42f1-9798-50cbd2b661a0 button.colab-df-convert');\n",
              "      buttonEl.style.display =\n",
              "        google.colab.kernel.accessAllowed ? 'block' : 'none';\n",
              "\n",
              "      async function convertToInteractive(key) {\n",
              "        const element = document.querySelector('#df-e3370e6e-1426-42f1-9798-50cbd2b661a0');\n",
              "        const dataTable =\n",
              "          await google.colab.kernel.invokeFunction('convertToInteractive',\n",
              "                                                    [key], {});\n",
              "        if (!dataTable) return;\n",
              "\n",
              "        const docLinkHtml = 'Like what you see? Visit the ' +\n",
              "          '<a target=\"_blank\" href=https://colab.research.google.com/notebooks/data_table.ipynb>data table notebook</a>'\n",
              "          + ' to learn more about interactive tables.';\n",
              "        element.innerHTML = '';\n",
              "        dataTable['output_type'] = 'display_data';\n",
              "        await google.colab.output.renderOutput(dataTable, element);\n",
              "        const docLink = document.createElement('div');\n",
              "        docLink.innerHTML = docLinkHtml;\n",
              "        element.appendChild(docLink);\n",
              "      }\n",
              "    </script>\n",
              "  </div>\n",
              "\n",
              "\n",
              "<div id=\"df-5a207eee-462a-4e0a-b027-c20b82855716\">\n",
              "  <button class=\"colab-df-quickchart\" onclick=\"quickchart('df-5a207eee-462a-4e0a-b027-c20b82855716')\"\n",
              "            title=\"Suggest charts\"\n",
              "            style=\"display:none;\">\n",
              "\n",
              "<svg xmlns=\"http://www.w3.org/2000/svg\" height=\"24px\"viewBox=\"0 0 24 24\"\n",
              "     width=\"24px\">\n",
              "    <g>\n",
              "        <path d=\"M19 3H5c-1.1 0-2 .9-2 2v14c0 1.1.9 2 2 2h14c1.1 0 2-.9 2-2V5c0-1.1-.9-2-2-2zM9 17H7v-7h2v7zm4 0h-2V7h2v10zm4 0h-2v-4h2v4z\"/>\n",
              "    </g>\n",
              "</svg>\n",
              "  </button>\n",
              "\n",
              "<style>\n",
              "  .colab-df-quickchart {\n",
              "      --bg-color: #E8F0FE;\n",
              "      --fill-color: #1967D2;\n",
              "      --hover-bg-color: #E2EBFA;\n",
              "      --hover-fill-color: #174EA6;\n",
              "      --disabled-fill-color: #AAA;\n",
              "      --disabled-bg-color: #DDD;\n",
              "  }\n",
              "\n",
              "  [theme=dark] .colab-df-quickchart {\n",
              "      --bg-color: #3B4455;\n",
              "      --fill-color: #D2E3FC;\n",
              "      --hover-bg-color: #434B5C;\n",
              "      --hover-fill-color: #FFFFFF;\n",
              "      --disabled-bg-color: #3B4455;\n",
              "      --disabled-fill-color: #666;\n",
              "  }\n",
              "\n",
              "  .colab-df-quickchart {\n",
              "    background-color: var(--bg-color);\n",
              "    border: none;\n",
              "    border-radius: 50%;\n",
              "    cursor: pointer;\n",
              "    display: none;\n",
              "    fill: var(--fill-color);\n",
              "    height: 32px;\n",
              "    padding: 0;\n",
              "    width: 32px;\n",
              "  }\n",
              "\n",
              "  .colab-df-quickchart:hover {\n",
              "    background-color: var(--hover-bg-color);\n",
              "    box-shadow: 0 1px 2px rgba(60, 64, 67, 0.3), 0 1px 3px 1px rgba(60, 64, 67, 0.15);\n",
              "    fill: var(--button-hover-fill-color);\n",
              "  }\n",
              "\n",
              "  .colab-df-quickchart-complete:disabled,\n",
              "  .colab-df-quickchart-complete:disabled:hover {\n",
              "    background-color: var(--disabled-bg-color);\n",
              "    fill: var(--disabled-fill-color);\n",
              "    box-shadow: none;\n",
              "  }\n",
              "\n",
              "  .colab-df-spinner {\n",
              "    border: 2px solid var(--fill-color);\n",
              "    border-color: transparent;\n",
              "    border-bottom-color: var(--fill-color);\n",
              "    animation:\n",
              "      spin 1s steps(1) infinite;\n",
              "  }\n",
              "\n",
              "  @keyframes spin {\n",
              "    0% {\n",
              "      border-color: transparent;\n",
              "      border-bottom-color: var(--fill-color);\n",
              "      border-left-color: var(--fill-color);\n",
              "    }\n",
              "    20% {\n",
              "      border-color: transparent;\n",
              "      border-left-color: var(--fill-color);\n",
              "      border-top-color: var(--fill-color);\n",
              "    }\n",
              "    30% {\n",
              "      border-color: transparent;\n",
              "      border-left-color: var(--fill-color);\n",
              "      border-top-color: var(--fill-color);\n",
              "      border-right-color: var(--fill-color);\n",
              "    }\n",
              "    40% {\n",
              "      border-color: transparent;\n",
              "      border-right-color: var(--fill-color);\n",
              "      border-top-color: var(--fill-color);\n",
              "    }\n",
              "    60% {\n",
              "      border-color: transparent;\n",
              "      border-right-color: var(--fill-color);\n",
              "    }\n",
              "    80% {\n",
              "      border-color: transparent;\n",
              "      border-right-color: var(--fill-color);\n",
              "      border-bottom-color: var(--fill-color);\n",
              "    }\n",
              "    90% {\n",
              "      border-color: transparent;\n",
              "      border-bottom-color: var(--fill-color);\n",
              "    }\n",
              "  }\n",
              "</style>\n",
              "\n",
              "  <script>\n",
              "    async function quickchart(key) {\n",
              "      const quickchartButtonEl =\n",
              "        document.querySelector('#' + key + ' button');\n",
              "      quickchartButtonEl.disabled = true;  // To prevent multiple clicks.\n",
              "      quickchartButtonEl.classList.add('colab-df-spinner');\n",
              "      try {\n",
              "        const charts = await google.colab.kernel.invokeFunction(\n",
              "            'suggestCharts', [key], {});\n",
              "      } catch (error) {\n",
              "        console.error('Error during call to suggestCharts:', error);\n",
              "      }\n",
              "      quickchartButtonEl.classList.remove('colab-df-spinner');\n",
              "      quickchartButtonEl.classList.add('colab-df-quickchart-complete');\n",
              "    }\n",
              "    (() => {\n",
              "      let quickchartButtonEl =\n",
              "        document.querySelector('#df-5a207eee-462a-4e0a-b027-c20b82855716 button');\n",
              "      quickchartButtonEl.style.display =\n",
              "        google.colab.kernel.accessAllowed ? 'block' : 'none';\n",
              "    })();\n",
              "  </script>\n",
              "</div>\n",
              "\n",
              "    </div>\n",
              "  </div>\n"
            ],
            "application/vnd.google.colaboratory.intrinsic+json": {
              "type": "dataframe",
              "variable_name": "iris",
              "summary": "{\n  \"name\": \"iris\",\n  \"rows\": 150,\n  \"fields\": [\n    {\n      \"column\": \"sepal_length\",\n      \"properties\": {\n        \"dtype\": \"number\",\n        \"std\": 0.828066127977863,\n        \"min\": 4.3,\n        \"max\": 7.9,\n        \"num_unique_values\": 35,\n        \"samples\": [\n          6.2,\n          4.5,\n          5.6\n        ],\n        \"semantic_type\": \"\",\n        \"description\": \"\"\n      }\n    },\n    {\n      \"column\": \"sepal_width\",\n      \"properties\": {\n        \"dtype\": \"number\",\n        \"std\": 0.4335943113621737,\n        \"min\": 2.0,\n        \"max\": 4.4,\n        \"num_unique_values\": 23,\n        \"samples\": [\n          2.3,\n          4.0,\n          3.5\n        ],\n        \"semantic_type\": \"\",\n        \"description\": \"\"\n      }\n    },\n    {\n      \"column\": \"petal_length\",\n      \"properties\": {\n        \"dtype\": \"number\",\n        \"std\": 1.7644204199522626,\n        \"min\": 1.0,\n        \"max\": 6.9,\n        \"num_unique_values\": 43,\n        \"samples\": [\n          6.7,\n          3.8,\n          3.7\n        ],\n        \"semantic_type\": \"\",\n        \"description\": \"\"\n      }\n    },\n    {\n      \"column\": \"petal_width\",\n      \"properties\": {\n        \"dtype\": \"number\",\n        \"std\": 0.7631607417008411,\n        \"min\": 0.1,\n        \"max\": 2.5,\n        \"num_unique_values\": 22,\n        \"samples\": [\n          0.2,\n          1.2,\n          1.3\n        ],\n        \"semantic_type\": \"\",\n        \"description\": \"\"\n      }\n    },\n    {\n      \"column\": \"species\",\n      \"properties\": {\n        \"dtype\": \"category\",\n        \"num_unique_values\": 3,\n        \"samples\": [\n          \"setosa\",\n          \"versicolor\",\n          \"virginica\"\n        ],\n        \"semantic_type\": \"\",\n        \"description\": \"\"\n      }\n    }\n  ]\n}"
            }
          },
          "metadata": {},
          "execution_count": 121
        }
      ]
    },
    {
      "cell_type": "code",
      "source": [
        "iris.info()"
      ],
      "metadata": {
        "colab": {
          "base_uri": "https://localhost:8080/"
        },
        "id": "Tb37pvvb3ZYt",
        "outputId": "cce711cb-3eb0-4e6d-ff96-aa2dab10c3fa"
      },
      "execution_count": null,
      "outputs": [
        {
          "output_type": "stream",
          "name": "stdout",
          "text": [
            "<class 'pandas.core.frame.DataFrame'>\n",
            "RangeIndex: 150 entries, 0 to 149\n",
            "Data columns (total 5 columns):\n",
            " #   Column        Non-Null Count  Dtype  \n",
            "---  ------        --------------  -----  \n",
            " 0   sepal_length  150 non-null    float64\n",
            " 1   sepal_width   150 non-null    float64\n",
            " 2   petal_length  150 non-null    float64\n",
            " 3   petal_width   150 non-null    float64\n",
            " 4   species       150 non-null    object \n",
            "dtypes: float64(4), object(1)\n",
            "memory usage: 6.0+ KB\n"
          ]
        }
      ]
    },
    {
      "cell_type": "code",
      "source": [
        "X = iris.drop('species', axis=1)\n",
        "y = iris['species']"
      ],
      "metadata": {
        "id": "TgyjKeqW3ced"
      },
      "execution_count": null,
      "outputs": []
    },
    {
      "cell_type": "code",
      "source": [
        "X, X_test, y, y_test = train_test_split(X, y, test_size=0.15,stratify=y, random_state=0)\n",
        "X_train, X_val, y_train, y_val = train_test_split(X, y, stratify=y, random_state=0)"
      ],
      "metadata": {
        "id": "ssjDhbnu3jS4"
      },
      "execution_count": null,
      "outputs": []
    },
    {
      "cell_type": "code",
      "source": [
        "from sklearn.ensemble import RandomForestClassifier\n",
        "\n",
        "ex_model = RandomForestClassifier(random_state=0, max_depth=10)\n",
        "ex_model.fit(X_train, y_train)\n",
        "y_pred = ex_model.predict(X_val)\n",
        "print(f'Acurácia de treino: {ex_model.score(X_train, y_train)}')\n",
        "print(f'Acurácia de validação: {ex_model.score(X_val, y_val)}')"
      ],
      "metadata": {
        "colab": {
          "base_uri": "https://localhost:8080/"
        },
        "id": "rS2vrcLP6GO4",
        "outputId": "757c14d6-fdce-4b5d-c8bc-5e1af063c84c"
      },
      "execution_count": null,
      "outputs": [
        {
          "output_type": "stream",
          "name": "stdout",
          "text": [
            "Acurácia de treino: 1.0\n",
            "Acurácia de validação: 0.96875\n"
          ]
        }
      ]
    },
    {
      "cell_type": "code",
      "source": [
        "ConfusionMatrixDisplay.from_estimator(ex_model, X_val, y_val, normalize='true', cmap='Blues');"
      ],
      "metadata": {
        "colab": {
          "base_uri": "https://localhost:8080/",
          "height": 455
        },
        "id": "xYTKfhC-6JZb",
        "outputId": "123cfb12-9f34-4f33-9cf6-48dacaa35141"
      },
      "execution_count": null,
      "outputs": [
        {
          "output_type": "display_data",
          "data": {
            "text/plain": [
              "<Figure size 640x480 with 2 Axes>"
            ],
            "image/png": "[encoded data removed]"
          },
          "metadata": {}
        }
      ]
    },
    {
      "cell_type": "code",
      "source": [
        "from sklearn.metrics import classification_report\n",
        "\n",
        "report = classification_report(y_val, y_pred)\n",
        "print(\"Relatório de Classificação:\\n\", report)"
      ],
      "metadata": {
        "id": "OaZ_T3qh6Oe9",
        "outputId": "4864b380-41a1-4407-9a4b-abd10ee516c2",
        "colab": {
          "base_uri": "https://localhost:8080/"
        }
      },
      "execution_count": null,
      "outputs": [
        {
          "output_type": "stream",
          "name": "stdout",
          "text": [
            "Relatório de Classificação:\n",
            "               precision    recall  f1-score   support\n",
            "\n",
            "      setosa       1.00      1.00      1.00        11\n",
            "  versicolor       1.00      0.90      0.95        10\n",
            "   virginica       0.92      1.00      0.96        11\n",
            "\n",
            "    accuracy                           0.97        32\n",
            "   macro avg       0.97      0.97      0.97        32\n",
            "weighted avg       0.97      0.97      0.97        32\n",
            "\n"
          ]
        }
      ]
    }
  ]
}